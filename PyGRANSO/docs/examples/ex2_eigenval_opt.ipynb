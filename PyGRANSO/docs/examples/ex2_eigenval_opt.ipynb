{
 "cells": [
  {
   "cell_type": "markdown",
   "id": "5257bb27",
   "metadata": {},
   "source": [
    "# Eigenvalue Optimization\n",
    "\n",
    "Eigenvalue Optimization taken from: [GRANSO](http://www.timmitchell.com/software/GRANSO/) demo example 4."
   ]
  },
  {
   "cell_type": "markdown",
   "id": "16ae1959",
   "metadata": {},
   "source": [
    "## Problem Description"
   ]
  },
  {
   "cell_type": "markdown",
   "id": "72e3a77a",
   "metadata": {},
   "source": [
    "We have $M=A+BXC$,\n",
    "where the matrices $A\\in R^{N,N},B\\in R^{N,M}$ and $C\\in R^{P,N}$ are given, $X\\in R^{M,P}$ is the matrix form optimization variable.\n",
    "\n",
    "We have the nonconvex, nonsmooth, and constrained optimization problem\n",
    "$$\\min_{X}\\max| \\mathrm{Im} (\\Lambda(A+BXC))|,$$\n",
    "$$\\text{s.t. }\\alpha(A+BXC)+\\xi \\leq 0,$$\n",
    "where $\\mathrm{Im}(\\cdot)$ is the imaginary part of complex number, $\\xi$ is the stability margin, and $\\Lambda(\\cdot)$ is the spectrum of a square matrix $\\cdot$, and $\\alpha(\\cdot)$ is the spectral abscissa of a square matrix, i.e., the maximum real part of its eigenvalues."
   ]
  },
  {
   "cell_type": "markdown",
   "id": "08dfdd50",
   "metadata": {},
   "source": [
    "## Modules Importing\n",
    "Import all necessary modules and add PyGRANSO src folder to system path."
   ]
  },
  {
   "cell_type": "code",
   "execution_count": 1,
   "id": "90ed32f9",
   "metadata": {},
   "outputs": [],
   "source": [
    "import time\n",
    "import torch\n",
    "from pygranso.pygranso import pygranso\n",
    "from pygranso.pygransoStruct import pygransoStruct\n",
    "import scipy.io\n",
    "from torch import linalg as LA"
   ]
  },
  {
   "cell_type": "markdown",
   "id": "17a1b7fe",
   "metadata": {},
   "source": [
    "## Data Initialization \n",
    "Specify torch device, and read the data from a provided file.\n",
    "\n",
    "Use GPU for this problem. If no cuda device available, please set *device = torch.device('cpu')*"
   ]
  },
  {
   "cell_type": "code",
   "execution_count": 2,
   "id": "8b4842e1",
   "metadata": {},
   "outputs": [],
   "source": [
    "device = torch.device('cuda')\n",
    "\n",
    "file = \"/home/buyun/Documents/GitHub/PyGRANSO/examples/data/spec_radius_opt_data.mat\"\n",
    "mat = scipy.io.loadmat(file)\n",
    "mat_struct = mat['sys']\n",
    "mat_struct = mat_struct[0,0]\n",
    "# All the user-provided data (vector/matrix/tensor) must be in torch tensor format. \n",
    "# As PyTorch tensor is single precision by default, one must explicitly set `dtype=torch.double`.\n",
    "# Also, please make sure the device of provided torch tensor is the same as opts.torch_device.\n",
    "A = torch.from_numpy(mat_struct['A']).to(device=device, dtype=torch.double)\n",
    "B = torch.from_numpy(mat_struct['B']).to(device=device, dtype=torch.double)\n",
    "C = torch.from_numpy(mat_struct['C']).to(device=device, dtype=torch.double)\n",
    "p = B.shape[1]\n",
    "m = C.shape[0]\n",
    "stability_margin = 1"
   ]
  },
  {
   "cell_type": "markdown",
   "id": "ec80716b",
   "metadata": {},
   "source": [
    "## Function Set-Up\n",
    "\n",
    "Encode the optimization variables, and objective and constraint functions.\n",
    "\n",
    "Note: please strictly follow the format of comb_fn, which will be used in the PyGRANSO main algortihm."
   ]
  },
  {
   "cell_type": "code",
   "execution_count": 3,
   "id": "fb360e75",
   "metadata": {},
   "outputs": [],
   "source": [
    "# variables and corresponding dimensions.\n",
    "var_in = {\"X\": [p,m] }\n",
    "\n",
    "def user_fn(X_struct,A,B,C,stability_margin):\n",
    "    # user defined variable, matirx form. torch tensor\n",
    "    X = X_struct.X\n",
    "\n",
    "    # objective function\n",
    "    M           = A + B@X@C\n",
    "    [D,_]       = LA.eig(M)\n",
    "    f = torch.max(D.imag)\n",
    "\n",
    "    # inequality constraint, matrix form\n",
    "    ci = pygransoStruct()\n",
    "    ci.c1 = torch.max(D.real) + stability_margin\n",
    "\n",
    "    # equality constraint \n",
    "    ce = None\n",
    "    \n",
    "    return [f,ci,ce]\n",
    "\n",
    "comb_fn = lambda X_struct : user_fn(X_struct,A,B,C,stability_margin)"
   ]
  },
  {
   "cell_type": "markdown",
   "id": "f0f55ace",
   "metadata": {},
   "source": [
    "## User Options\n",
    "Specify user-defined options for PyGRANSO"
   ]
  },
  {
   "cell_type": "code",
   "execution_count": 4,
   "id": "f3a65b57",
   "metadata": {},
   "outputs": [],
   "source": [
    "opts = pygransoStruct()\n",
    "opts.torch_device = device\n",
    "opts.maxit = 200\n",
    "opts.x0 = torch.zeros(p*m,1).to(device=device, dtype=torch.double)\n",
    "# print for every 10 iterations. default: 1\n",
    "opts.print_frequency = 10"
   ]
  },
  {
   "cell_type": "markdown",
   "id": "8bca18c7",
   "metadata": {},
   "source": [
    "## Main Algorithm"
   ]
  },
  {
   "cell_type": "code",
   "execution_count": 5,
   "id": "632976b3",
   "metadata": {},
   "outputs": [
    {
     "name": "stdout",
     "output_type": "stream",
     "text": [
      "\n",
      "\n",
      "\u001b[33m╔═════ QP SOLVER NOTICE ════════════════════════════════════════════════════════════════════════╗\n",
      "\u001b[0m\u001b[33m║  PyGRANSO requires a quadratic program (QP) solver that has a quadprog-compatible interface,  ║\n",
      "\u001b[0m\u001b[33m║  the default is osqp. Users may provide their own wrapper for the QP solver.                  ║\n",
      "\u001b[0m\u001b[33m║  To disable this notice, set opts.quadprog_info_msg = False                                   ║\n",
      "\u001b[0m\u001b[33m╚═══════════════════════════════════════════════════════════════════════════════════════════════╝\n",
      "\u001b[0m═════════════════════════════════════════════════════════════════════════════════════════════════════════════════╗\n",
      "PyGRANSO: A PyTorch-enabled port of GRANSO with auto-differentiation                                             ║ \n",
      "Version 1.0.0                                                                                                    ║ \n",
      "Licensed under the AGPLv3, Copyright (C) 2021 Tim Mitchell and Buyun Liang                                       ║ \n",
      "═════════════════════════════════════════════════════════════════════════════════════════════════════════════════╣\n",
      "Problem specifications:                                                                                          ║ \n",
      " # of variables                     :   200                                                                      ║ \n",
      " # of inequality constraints        :     1                                                                      ║ \n",
      " # of equality constraints          :     0                                                                      ║ \n",
      "═════╦═══════════════════════════╦════════════════╦═════════════════╦═══════════════════════╦════════════════════╣\n",
      "     ║ <--- Penalty Function --> ║                ║ Total Violation ║ <--- Line Search ---> ║ <- Stationarity -> ║ \n",
      "Iter ║    Mu    │      Value     ║    Objective   ║   Ineq   │  Eq  ║ SD │ Evals │     t    ║ Grads │    Value   ║ \n",
      "═════╬═══════════════════════════╬════════════════╬═════════════════╬═══════════════════════╬════════════════════╣\n",
      "   0 ║ 1.000000 │  16.2063030241 ║  13.7635444107 ║ 2.442759 │   -  ║ -  │     1 │ 0.000000 ║     1 │ 28.28938   ║ \n",
      "  10 ║ 1.000000 │  14.3591621233 ║  12.9268286638 ║ 1.432333 │   -  ║ S  │     1 │ 1.000000 ║     1 │ 0.035476   ║ \n",
      "  20 ║ 1.000000 │  13.7108148212 ║  12.6560766192 ║ 1.054738 │   -  ║ S  │     2 │ 0.500000 ║     1 │ 0.039916   ║ \n",
      "  30 ║ 1.000000 │  12.9781024806 ║  12.2692651748 ║ 0.708837 │   -  ║ S  │     5 │ 0.062500 ║     1 │ 0.044753   ║ \n",
      "  40 ║ 1.000000 │  12.7159660797 ║  12.0997226021 ║ 0.616243 │   -  ║ S  │     4 │ 0.125000 ║     1 │ 0.024262   ║ \n",
      "  50 ║ 1.000000 │  12.4124519256 ║  11.9469063299 ║ 0.465546 │   -  ║ S  │     4 │ 0.125000 ║     1 │ 0.075202   ║ \n",
      "  60 ║ 1.000000 │  12.2512294611 ║  11.8943509436 ║ 0.356879 │   -  ║ S  │     3 │ 0.250000 ║     1 │ 0.019409   ║ \n",
      "  70 ║ 1.000000 │  12.0659735242 ║  11.7780158864 ║ 0.287958 │   -  ║ S  │    10 │ 0.001953 ║     1 │ 0.070258   ║ \n",
      "  80 ║ 1.000000 │  11.8824770848 ║  11.7428078694 ║ 0.139669 │   -  ║ S  │     8 │ 0.007812 ║     1 │ 0.175003   ║ \n",
      "  90 ║ 1.000000 │  11.7399810978 ║  11.6639720989 ║ 0.076009 │   -  ║ S  │     9 │ 0.003906 ║     1 │ 0.053027   ║ \n",
      " 100 ║ 0.900000 │  10.5003036483 ║  11.6188807980 ║ 0.043311 │   -  ║ S  │     5 │ 0.062500 ║     1 │ 0.117694   ║ \n",
      " 110 ║ 0.900000 │  10.4423597970 ║  11.5640150059 ║ 0.034746 │   -  ║ S  │     4 │ 0.125000 ║     1 │ 0.013471   ║ \n",
      " 120 ║ 0.900000 │  10.3449935197 ║  11.4944372442 ║ 0.000000 │   -  ║ S  │    13 │ 2.44e-04 ║     2 │ 0.025507   ║ \n",
      " 130 ║ 0.282430 │  3.23466473336 ║  11.4529973517 ║ 0.000000 │   -  ║ S  │     1 │ 1.000000 ║     1 │ 0.007158   ║ \n",
      " 140 ║ 0.282430 │  3.21863830760 ║  11.3958203830 ║ 1.22e-04 │   -  ║ S  │     5 │ 0.062500 ║     1 │ 0.128867   ║ \n",
      " 150 ║ 0.282430 │  3.20396111202 ║  11.3442848504 ║ 0.000000 │   -  ║ S  │     3 │ 0.250000 ║     1 │ 0.008419   ║ \n",
      " 160 ║ 0.135085 │  1.52510826840 ║  11.2899754166 ║ 0.000000 │   -  ║ S  │     3 │ 0.250000 ║     1 │ 0.004253   ║ \n",
      " 170 ║ 0.135085 │  1.52101010769 ║  11.2596378106 ║ 0.000000 │   -  ║ S  │     3 │ 0.250000 ║     1 │ 0.003956   ║ \n",
      " 180 ║ 0.135085 │  1.51543064130 ║  11.2162756983 ║ 2.78e-04 │   -  ║ S  │    10 │ 0.001953 ║     2 │ 0.003658   ║ \n",
      " 190 ║ 0.135085 │  1.51290817405 ║  11.1996613267 ║ 0.000000 │   -  ║ S  │     4 │ 0.125000 ║     1 │ 0.031055   ║ \n",
      "═════╬═══════════════════════════╬════════════════╬═════════════════╬═══════════════════════╬════════════════════╣\n",
      "     ║ <--- Penalty Function --> ║                ║ Total Violation ║ <--- Line Search ---> ║ <- Stationarity -> ║ \n",
      "Iter ║    Mu    │      Value     ║    Objective   ║   Ineq   │  Eq  ║ SD │ Evals │     t    ║ Grads │    Value   ║ \n",
      "═════╬═══════════════════════════╬════════════════╬═════════════════╬═══════════════════════╬════════════════════╣\n",
      " 200 ║ 0.135085 │  1.50914930836 ║  11.1699372446 ║ 2.56e-04 │   -  ║ S  │     4 │ 0.125000 ║     1 │ 0.007627   ║ \n",
      "═════╩═══════════════════════════╩════════════════╩═════════════════╩═══════════════════════╩════════════════════╣\n",
      "Optimization results:                                                                                            ║ \n",
      "F = final iterate, B = Best (to tolerance), MF = Most Feasible                                                   ║ \n",
      "═════╦═══════════════════════════╦════════════════╦═════════════════╦═══════════════════════╦════════════════════╣\n",
      "   F ║          │                ║  11.1699372446 ║ 2.56e-04 │   -  ║    │       │          ║       │            ║ \n",
      "   B ║          │                ║  11.1727028185 ║ 0.000000 │   -  ║    │       │          ║       │            ║ \n",
      "  MF ║          │                ║  11.1727028185 ║ 0.000000 │   -  ║    │       │          ║       │            ║ \n",
      "═════╩═══════════════════════════╩════════════════╩═════════════════╩═══════════════════════╩════════════════════╣\n",
      "Iterations:              200                                                                                     ║ \n",
      "Function evaluations:    940                                                                                     ║ \n",
      "PyGRANSO termination code: 4 --- max iterations reached.                                                         ║ \n",
      "═════════════════════════════════════════════════════════════════════════════════════════════════════════════════╝\n",
      "Total Wall Time: 63.8348708152771s\n"
     ]
    }
   ],
   "source": [
    "start = time.time()\n",
    "soln = pygranso(var_spec = var_in,combined_fn = comb_fn,user_opts = opts)\n",
    "end = time.time()\n",
    "print(\"Total Wall Time: {}s\".format(end - start))"
   ]
  },
  {
   "cell_type": "markdown",
   "id": "2eec4c44",
   "metadata": {},
   "source": [
    "## LBFGS \n",
    "(Optional) LBFGS and feasibility related options"
   ]
  },
  {
   "cell_type": "code",
   "execution_count": 6,
   "id": "f97cf86d",
   "metadata": {},
   "outputs": [
    {
     "name": "stdout",
     "output_type": "stream",
     "text": [
      "\n",
      "\n",
      "\u001b[33m╔═════ QP SOLVER NOTICE ════════════════════════════════════════════════════════════════════════╗\n",
      "\u001b[0m\u001b[33m║  PyGRANSO requires a quadratic program (QP) solver that has a quadprog-compatible interface,  ║\n",
      "\u001b[0m\u001b[33m║  the default is osqp. Users may provide their own wrapper for the QP solver.                  ║\n",
      "\u001b[0m\u001b[33m║  To disable this notice, set opts.quadprog_info_msg = False                                   ║\n",
      "\u001b[0m\u001b[33m╚═══════════════════════════════════════════════════════════════════════════════════════════════╝\n",
      "\u001b[0m═════════════════════════════════════════════════════════════════════════════════════════════════════════════════╗\n",
      "PyGRANSO: A PyTorch-enabled port of GRANSO with auto-differentiation                                             ║ \n",
      "Version 1.0.0                                                                                                    ║ \n",
      "Licensed under the AGPLv3, Copyright (C) 2021 Tim Mitchell and Buyun Liang                                       ║ \n",
      "═════════════════════════════════════════════════════════════════════════════════════════════════════════════════╣\n",
      "Problem specifications:                                                                                          ║ \n",
      " # of variables                     :   200                                                                      ║ \n",
      " # of inequality constraints        :     1                                                                      ║ \n",
      " # of equality constraints          :     0                                                                      ║ \n",
      "═════════════════════════════════════════════════════════════════════════════════════════════════════════════════╣\n",
      "\u001b[33mLimited-memory mode enabled with size = 40.                                                                     \u001b[0m ║ \n",
      "\u001b[33mNOTE: limited-memory mode is generally NOT                                                                      \u001b[0m ║ \n",
      "\u001b[33mrecommended for nonsmooth problems.                                                                             \u001b[0m ║ \n",
      "═════╦═══════════════════════════╦════════════════╦═════════════════╦═══════════════════════╦════════════════════╣\n",
      "     ║ <--- Penalty Function --> ║                ║ Total Violation ║ <--- Line Search ---> ║ <- Stationarity -> ║ \n",
      "Iter ║    Mu    │      Value     ║    Objective   ║   Ineq   │  Eq  ║ SD │ Evals │     t    ║ Grads │    Value   ║ \n",
      "═════╬═══════════════════════════╬════════════════╬═════════════════╬═══════════════════════╬════════════════════╣\n",
      "   0 ║ 1.000000 │  16.2063030241 ║  13.7635444107 ║ 2.442759 │   -  ║ -  │     1 │ 0.000000 ║     1 │ 28.28938   ║ \n",
      "  10 ║ 1.000000 │  14.3590982418 ║  12.9268454090 ║ 1.432253 │   -  ║ S  │     1 │ 1.000000 ║     1 │ 0.035468   ║ \n",
      "  20 ║ 1.000000 │  13.7119743682 ║  12.6563067111 ║ 1.055668 │   -  ║ S  │     2 │ 0.500000 ║     1 │ 0.039956   ║ \n",
      "  30 ║ 1.000000 │  12.9752525099 ║  12.2671269517 ║ 0.708126 │   -  ║ S  │     5 │ 0.062500 ║     1 │ 0.045205   ║ \n",
      "  40 ║ 1.000000 │  12.6717866764 ║  12.0429605789 ║ 0.628826 │   -  ║ S  │     3 │ 0.250000 ║     1 │ 0.031327   ║ \n",
      "  50 ║ 1.000000 │  12.3403054991 ║  11.9386934418 ║ 0.401612 │   -  ║ S  │     8 │ 0.007812 ║     1 │ 0.117209   ║ \n",
      "  60 ║ 0.656100 │  8.08864961489 ║  11.8470983658 ║ 0.315768 │   -  ║ S  │     5 │ 0.062500 ║     1 │ 0.030719   ║ \n",
      "  70 ║ 0.656100 │  7.97717659130 ║  11.7882459184 ║ 0.242908 │   -  ║ S  │     4 │ 0.125000 ║     1 │ 0.084896   ║ \n",
      "  80 ║ 0.656100 │  7.91636065311 ║  11.7836971688 ║ 0.185077 │   -  ║ S  │     8 │ 0.007812 ║     1 │ 0.210933   ║ \n",
      "  90 ║ 0.656100 │  7.84633419033 ║  11.7390684596 ║ 0.144331 │   -  ║ S  │    10 │ 0.001953 ║     1 │ 0.075811   ║ \n",
      " 100 ║ 0.656100 │  7.82020840675 ║  11.7146451438 ║ 0.134230 │   -  ║ S  │     7 │ 0.015625 ║     1 │ 0.997461   ║ \n",
      " 110 ║ 0.656100 │  7.73870524820 ║  11.6845430750 ║ 0.072477 │   -  ║ S  │    16 │ 3.05e-05 ║     2 │ 0.105903   ║ \n",
      " 120 ║ 0.348678 │  4.11993702707 ║  11.6850459505 ║ 0.045613 │   -  ║ S  │     9 │ 0.003906 ║     1 │ 1.875145   ║ \n",
      " 130 ║ 0.348678 │  4.07187449794 ║  11.6744530383 ║ 0.001244 │   -  ║ S  │     7 │ 0.015625 ║     1 │ 0.243701   ║ \n",
      " 140 ║ 0.088629 │  1.03429514743 ║  11.6698902042 ║ 0.000000 │   -  ║ S  │     7 │ 0.015625 ║     1 │ 0.296043   ║ \n",
      " 150 ║ 0.088629 │  1.03185217107 ║  11.6423262483 ║ 0.000000 │   -  ║ S  │    10 │ 0.001953 ║     1 │ 0.874035   ║ \n",
      " 160 ║ 0.088629 │  1.03096424783 ║  11.6323078635 ║ 0.000000 │   -  ║ S  │    13 │ 2.44e-04 ║     1 │ 2.910258   ║ \n",
      " 170 ║ 0.079766 │  0.92740841750 ║  11.6265484798 ║ 0.000000 │   -  ║ S  │     9 │ 0.003906 ║     1 │ 1.112655   ║ \n",
      " 180 ║ 0.038152 │  0.44340125020 ║  11.6219531579 ║ 0.000000 │   -  ║ S  │     8 │ 0.007812 ║     1 │ 5.646952   ║ \n",
      " 190 ║ 0.011973 │  0.13908925791 ║  11.6173799564 ║ 0.000000 │   -  ║ S  │    12 │ 4.88e-04 ║     1 │ 0.457258   ║ \n",
      "═════╬═══════════════════════════╬════════════════╬═════════════════╬═══════════════════════╬════════════════════╣\n",
      "     ║ <--- Penalty Function --> ║                ║ Total Violation ║ <--- Line Search ---> ║ <- Stationarity -> ║ \n",
      "Iter ║    Mu    │      Value     ║    Objective   ║   Ineq   │  Eq  ║ SD │ Evals │     t    ║ Grads │    Value   ║ \n",
      "═════╬═══════════════════════════╬════════════════╬═════════════════╬═══════════════════════╬════════════════════╣\n",
      " 200 ║ 0.011973 │  0.13903006842 ║  11.6124361757 ║ 0.000000 │   -  ║ S  │    15 │ 4.27e-04 ║     1 │ 1.732721   ║ \n",
      "═════╩═══════════════════════════╩════════════════╩═════════════════╩═══════════════════════╩════════════════════╣\n",
      "Optimization results:                                                                                            ║ \n",
      "F = final iterate, B = Best (to tolerance), MF = Most Feasible                                                   ║ \n",
      "═════╦═══════════════════════════╦════════════════╦═════════════════╦═══════════════════════╦════════════════════╣\n",
      "   F ║          │                ║  11.6124361757 ║ 0.000000 │   -  ║    │       │          ║       │            ║ \n",
      "   B ║          │                ║  11.6124361757 ║ 0.000000 │   -  ║    │       │          ║       │            ║ \n",
      "  MF ║          │                ║  11.6124361757 ║ 0.000000 │   -  ║    │       │          ║       │            ║ \n",
      "═════╩═══════════════════════════╩════════════════╩═════════════════╩═══════════════════════╩════════════════════╣\n",
      "Iterations:              200                                                                                     ║ \n",
      "Function evaluations:    1667                                                                                    ║ \n",
      "PyGRANSO termination code: 4 --- max iterations reached.                                                         ║ \n",
      "═════════════════════════════════════════════════════════════════════════════════════════════════════════════════╝\n",
      "Total Wall Time: 121.89363980293274s\n"
     ]
    }
   ],
   "source": [
    "opts = pygransoStruct()\n",
    "opts.torch_device = device\n",
    "opts.maxit = 200\n",
    "opts.x0 = torch.zeros(p*m,1).to(device=device, dtype=torch.double)\n",
    "# print for every 10 iterations. default: 1\n",
    "opts.print_frequency = 10\n",
    "\n",
    "# Limited-memory mode is generally not recommended for nonsmooth\n",
    "# problems, such as this one, but it can nonetheless enabled if\n",
    "# desired/necessary.  opts.limited_mem_size == 0 is off, that is, \n",
    "# limited-memory mode is disabled.\n",
    "# Note that this example has 200 variables.\n",
    "opts.limited_mem_size = 40\n",
    "\n",
    "start = time.time()\n",
    "soln = pygranso(var_spec = var_in,combined_fn = comb_fn,user_opts = opts)\n",
    "end = time.time()\n",
    "print(\"Total Wall Time: {}s\".format(end - start))"
   ]
  },
  {
   "cell_type": "code",
   "execution_count": 7,
   "id": "8dff3916",
   "metadata": {},
   "outputs": [],
   "source": [
    "# We can also tune PyGRANSO to more aggressively favor satisfying\n",
    "# feasibility over minimizing the objective.  Set feasibility_bias to\n",
    "# true to adjust the following three steering parameters away from\n",
    "# their default values.  For more details on these parameters, type\n",
    "# import pygransoOptionsAdvanced\n",
    "# help(pygransoOptionsAdvanced)\n",
    "import numpy as np\n",
    "opts = pygransoStruct()\n",
    "opts.torch_device = device\n",
    "feasibility_bias = True\n",
    "if feasibility_bias:\n",
    "    opts.steering_ineq_margin = np.inf    # default is 1e-6\n",
    "    opts.steering_c_viol = 0.9         # default is 0.1\n",
    "    opts.steering_c_mu = 0.1           # default is 0.9\n"
   ]
  },
  {
   "cell_type": "code",
   "execution_count": 8,
   "id": "3fb2e962",
   "metadata": {},
   "outputs": [
    {
     "name": "stdout",
     "output_type": "stream",
     "text": [
      "\n",
      "\n",
      "\u001b[33m╔═════ QP SOLVER NOTICE ════════════════════════════════════════════════════════════════════════╗\n",
      "\u001b[0m\u001b[33m║  PyGRANSO requires a quadratic program (QP) solver that has a quadprog-compatible interface,  ║\n",
      "\u001b[0m\u001b[33m║  the default is osqp. Users may provide their own wrapper for the QP solver.                  ║\n",
      "\u001b[0m\u001b[33m║  To disable this notice, set opts.quadprog_info_msg = False                                   ║\n",
      "\u001b[0m\u001b[33m╚═══════════════════════════════════════════════════════════════════════════════════════════════╝\n",
      "\u001b[0m═════════════════════════════════════════════════════════════════════════════════════════════════════════════════╗\n",
      "PyGRANSO: A PyTorch-enabled port of GRANSO with auto-differentiation                                             ║ \n",
      "Version 1.0.0                                                                                                    ║ \n",
      "Licensed under the AGPLv3, Copyright (C) 2021 Tim Mitchell and Buyun Liang                                       ║ \n",
      "═════════════════════════════════════════════════════════════════════════════════════════════════════════════════╣\n",
      "Problem specifications:                                                                                          ║ \n",
      " # of variables                     :   200                                                                      ║ \n",
      " # of inequality constraints        :     1                                                                      ║ \n",
      " # of equality constraints          :     0                                                                      ║ \n",
      "═════╦═══════════════════════════╦════════════════╦═════════════════╦═══════════════════════╦════════════════════╣\n",
      "     ║ <--- Penalty Function --> ║                ║ Total Violation ║ <--- Line Search ---> ║ <- Stationarity -> ║ \n",
      "Iter ║    Mu    │      Value     ║    Objective   ║   Ineq   │  Eq  ║ SD │ Evals │     t    ║ Grads │    Value   ║ \n",
      "═════╬═══════════════════════════╬════════════════╬═════════════════╬═══════════════════════╬════════════════════╣\n",
      "   0 ║ 1.000000 │  16.2063030241 ║  13.7635444107 ║ 2.442759 │   -  ║ -  │     1 │ 0.000000 ║     1 │ 28.28938   ║ \n",
      "  10 ║ 0.100000 │  2.59802946760 ║  13.5350279096 ║ 1.244527 │   -  ║ S  │     4 │ 0.125000 ║     1 │ 0.021953   ║ \n",
      "  20 ║ 0.100000 │  2.19206992212 ║  13.1633300318 ║ 0.875737 │   -  ║ S  │     3 │ 0.250000 ║     1 │ 0.022714   ║ \n",
      "  30 ║ 0.100000 │  1.78040333523 ║  13.1123346136 ║ 0.469170 │   -  ║ S  │     8 │ 0.039062 ║     1 │ 0.002272   ║ \n",
      "  40 ║ 0.100000 │  1.63141686731 ║  13.0073413214 ║ 0.330683 │   -  ║ S  │     3 │ 0.250000 ║     1 │ 0.009815   ║ \n",
      "  50 ║ 0.100000 │  1.29948247148 ║  12.8983541430 ║ 0.009647 │   -  ║ S  │     2 │ 0.500000 ║     1 │ 0.010893   ║ \n",
      "  60 ║ 0.100000 │  1.27442548686 ║  12.7442548686 ║ 0.000000 │   -  ║ S  │     1 │ 1.000000 ║     1 │ 0.002405   ║ \n",
      "  70 ║ 0.100000 │  1.26238129642 ║  12.6231352723 ║ 6.78e-05 │   -  ║ S  │     2 │ 0.500000 ║     1 │ 0.067058   ║ \n",
      "  80 ║ 0.100000 │  1.23475648659 ║  12.3467732983 ║ 7.92e-05 │   -  ║ S  │     3 │ 0.250000 ║     1 │ 0.015258   ║ \n",
      "  90 ║ 0.010000 │  0.12213094355 ║  12.2130943549 ║ 0.000000 │   -  ║ S  │     1 │ 1.000000 ║     1 │ 0.001674   ║ \n",
      " 100 ║ 0.010000 │  0.12162995721 ║  12.1629957213 ║ 0.000000 │   -  ║ S  │     3 │ 0.250000 ║     1 │ 8.06e-04   ║ \n",
      " 110 ║ 0.010000 │  0.12111674332 ║  12.1116743320 ║ 0.000000 │   -  ║ S  │     4 │ 0.625000 ║     1 │ 0.005923   ║ \n",
      " 120 ║ 1.00e-04 │  0.00120773471 ║  12.0773470783 ║ 0.000000 │   -  ║ S  │     6 │ 32.00000 ║     1 │ 1.21e-05   ║ \n",
      " 130 ║ 1.00e-04 │  0.00120566280 ║  12.0566279594 ║ 0.000000 │   -  ║ S  │     6 │ 0.031250 ║     1 │ 0.002570   ║ \n",
      " 140 ║ 1.00e-06 │  1.2047252e-05 ║  12.0472519152 ║ 0.000000 │   -  ║ S  │     7 │ 64.00000 ║     1 │ 2.51e-05   ║ \n",
      " 150 ║ 1.00e-06 │  1.2038928e-05 ║  12.0389283638 ║ 0.000000 │   -  ║ S  │     3 │ 0.250000 ║     2 │ 4.64e-05   ║ \n",
      " 160 ║ 1.00e-06 │  1.2034884e-05 ║  12.0348842608 ║ 0.000000 │   -  ║ S  │     6 │ 5.000000 ║     2 │ 6.50e-05   ║ \n",
      " 170 ║ 1.00e-06 │  1.2034518e-05 ║  12.0345176862 ║ 0.000000 │   -  ║ S  │     1 │ 1.000000 ║     6 │ 1.50e-05   ║ \n",
      " 180 ║ 1.00e-06 │  1.2034430e-05 ║  12.0344302791 ║ 0.000000 │   -  ║ S  │     2 │ 2.000000 ║    14 │ 1.47e-06   ║ \n",
      " 190 ║ 1.00e-06 │  1.2032775e-05 ║  12.0327747718 ║ 0.000000 │   -  ║ S  │     1 │ 1.000000 ║     9 │ 2.30e-05   ║ \n",
      "═════╬═══════════════════════════╬════════════════╬═════════════════╬═══════════════════════╬════════════════════╣\n",
      "     ║ <--- Penalty Function --> ║                ║ Total Violation ║ <--- Line Search ---> ║ <- Stationarity -> ║ \n",
      "Iter ║    Mu    │      Value     ║    Objective   ║   Ineq   │  Eq  ║ SD │ Evals │     t    ║ Grads │    Value   ║ \n",
      "═════╬═══════════════════════════╬════════════════╬═════════════════╬═══════════════════════╬════════════════════╣\n",
      " 200 ║ 1.00e-09 │  1.2031511e-08 ║  12.0315112210 ║ 0.000000 │   -  ║ S  │     1 │ 1.000000 ║    10 │ 9.40e-07   ║ \n",
      "═════╩═══════════════════════════╩════════════════╩═════════════════╩═══════════════════════╩════════════════════╣\n",
      "Optimization results:                                                                                            ║ \n",
      "F = final iterate, B = Best (to tolerance), MF = Most Feasible                                                   ║ \n",
      "═════╦═══════════════════════════╦════════════════╦═════════════════╦═══════════════════════╦════════════════════╣\n",
      "   F ║          │                ║  12.0315112210 ║ 0.000000 │   -  ║    │       │          ║       │            ║ \n",
      "   B ║          │                ║  12.0314985954 ║ 0.000000 │   -  ║    │       │          ║       │            ║ \n",
      "  MF ║          │                ║  12.0314985954 ║ 0.000000 │   -  ║    │       │          ║       │            ║ \n",
      "═════╩═══════════════════════════╩════════════════╩═════════════════╩═══════════════════════╩════════════════════╣\n",
      "Iterations:              200                                                                                     ║ \n",
      "Function evaluations:    653                                                                                     ║ \n",
      "PyGRANSO termination code: 4 --- max iterations reached.                                                         ║ \n",
      "═════════════════════════════════════════════════════════════════════════════════════════════════════════════════╝\n",
      "Total Wall Time: 44.79011344909668s\n"
     ]
    }
   ],
   "source": [
    "opts.maxit = 200\n",
    "opts.x0 = torch.zeros(p*m,1).to(device=device, dtype=torch.double)\n",
    "# print for every 10 iterations. default: 1\n",
    "opts.print_frequency = 10\n",
    "\n",
    "start = time.time()\n",
    "soln = pygranso(var_spec = var_in,combined_fn = comb_fn,user_opts = opts)\n",
    "end = time.time()\n",
    "print(\"Total Wall Time: {}s\".format(end - start))"
   ]
  },
  {
   "cell_type": "markdown",
   "id": "c1abe9e7",
   "metadata": {},
   "source": [
    "In my testing, with default parameters, PyGRANSO will first obtain a\n",
    "feasible solution at iter ~= 160 and will reduce the objective to\n",
    "11.60 by the time it attains max iteration count of 200.\n",
    "\n",
    "With feasibility_bias = True, in my testing, PyGRANSO will obtain its\n",
    "first feasible solution earlier, at iter ~= 60, but it will ultimately\n",
    "have reduced the objective value less, only to 12.21, by the end of\n",
    "its 200 maximum allowed iterations."
   ]
  }
 ],
 "metadata": {
  "kernelspec": {
   "display_name": "Python 3 (ipykernel)",
   "language": "python",
   "name": "python3"
  },
  "language_info": {
   "codemirror_mode": {
    "name": "ipython",
    "version": 3
   },
   "file_extension": ".py",
   "mimetype": "text/x-python",
   "name": "python",
   "nbconvert_exporter": "python",
   "pygments_lexer": "ipython3",
   "version": "3.9.7"
  }
 },
 "nbformat": 4,
 "nbformat_minor": 5
}
