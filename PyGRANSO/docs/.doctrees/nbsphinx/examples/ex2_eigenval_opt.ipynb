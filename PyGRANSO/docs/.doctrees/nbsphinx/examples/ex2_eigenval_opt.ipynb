{
 "cells": [
  {
   "cell_type": "markdown",
   "id": "5257bb27",
   "metadata": {},
   "source": [
    "# Eigenvalue Optimization\n",
    "\n",
    "Eigenvalue Optimization taken from: [GRANSO](http://www.timmitchell.com/software/GRANSO/) demo example 4."
   ]
  },
  {
   "cell_type": "markdown",
   "id": "16ae1959",
   "metadata": {},
   "source": [
    "## Problem Description"
   ]
  },
  {
   "cell_type": "markdown",
   "id": "72e3a77a",
   "metadata": {},
   "source": [
    "We have $M=A+BXC$,\n",
    "where the matrices $A\\in R^{N,N},B\\in R^{N,M}$ and $C\\in R^{P,N}$ are given, $X\\in R^{M,P}$ is the matrix form optimization variable.\n",
    "\n",
    "We have the nonconvex, nonsmooth, and constrained optimization problem\n",
    "$$\\min_{X}\\max| \\mathrm{Im} (\\Lambda(A+BXC))|,$$\n",
    "$$\\text{s.t. }\\alpha(A+BXC)+\\xi \\leq 0,$$\n",
    "where $\\mathrm{Im}(\\cdot)$ is the imaginary part of complex number, $\\xi$ is the stability margin, and $\\Lambda(\\cdot)$ is the spectrum of a square matrix $\\cdot$, and $\\alpha(\\cdot)$ is the spectral abscissa of a square matrix, i.e., the maximum real part of its eigenvalues."
   ]
  },
  {
   "cell_type": "markdown",
   "id": "08dfdd50",
   "metadata": {},
   "source": [
    "## Modules Importing\n",
    "Import all necessary modules and add PyGRANSO src folder to system path."
   ]
  },
  {
   "cell_type": "code",
   "execution_count": 1,
   "id": "90ed32f9",
   "metadata": {},
   "outputs": [],
   "source": [
    "import time\n",
    "import torch\n",
    "import os,sys\n",
    "## Adding PyGRANSO directories. Should be modified by user\n",
    "sys.path.append('/home/buyun/Documents/GitHub/PyGRANSO')\n",
    "from pygranso import pygranso\n",
    "from pygransoStruct import pygransoStruct\n",
    "import scipy.io\n",
    "from torch import linalg as LA"
   ]
  },
  {
   "cell_type": "markdown",
   "id": "17a1b7fe",
   "metadata": {},
   "source": [
    "## Data Initialization \n",
    "Specify torch device, and read the data from a provided file.\n",
    "\n",
    "Use GPU for this problem. If no cuda device available, please set *device = torch.device('cpu')*"
   ]
  },
  {
   "cell_type": "code",
   "execution_count": 2,
   "id": "8b4842e1",
   "metadata": {},
   "outputs": [],
   "source": [
    "device = torch.device('cuda')\n",
    "\n",
    "# currentdir = os.path.dirname(os.path.realpath(__file__))\n",
    "file = \"/home/buyun/Documents/GitHub/PyGRANSO/examples/data/spec_radius_opt_data.mat\"\n",
    "mat = scipy.io.loadmat(file)\n",
    "mat_struct = mat['sys']\n",
    "mat_struct = mat_struct[0,0]\n",
    "# All the user-provided data (vector/matrix/tensor) must be in torch tensor format. \n",
    "# As PyTorch tensor is single precision by default, one must explicitly set `dtype=torch.double`.\n",
    "# Also, please make sure the device of provided torch tensor is the same as opts.torch_device.\n",
    "A = torch.from_numpy(mat_struct['A']).to(device=device, dtype=torch.double)\n",
    "B = torch.from_numpy(mat_struct['B']).to(device=device, dtype=torch.double)\n",
    "C = torch.from_numpy(mat_struct['C']).to(device=device, dtype=torch.double)\n",
    "p = B.shape[1]\n",
    "m = C.shape[0]\n",
    "stability_margin = 1"
   ]
  },
  {
   "cell_type": "markdown",
   "id": "ec80716b",
   "metadata": {},
   "source": [
    "## Function Set-Up\n",
    "\n",
    "Encode the optimization variables, and objective and constraint functions.\n",
    "\n",
    "Note: please strictly follow the format of comb_fn, which will be used in the PyGRANSO main algortihm."
   ]
  },
  {
   "cell_type": "code",
   "execution_count": 3,
   "id": "fb360e75",
   "metadata": {},
   "outputs": [],
   "source": [
    "# variables and corresponding dimensions.\n",
    "var_in = {\"X\": [p,m] }\n",
    "\n",
    "def user_fn(X_struct,A,B,C,stability_margin):\n",
    "    # user defined variable, matirx form. torch tensor\n",
    "    X = X_struct.X\n",
    "\n",
    "    # objective function\n",
    "    M           = A + B@X@C\n",
    "    [D,_]       = LA.eig(M)\n",
    "    f = torch.max(D.imag)\n",
    "\n",
    "    # inequality constraint, matrix form\n",
    "    ci = pygransoStruct()\n",
    "    ci.c1 = torch.max(D.real) + stability_margin\n",
    "\n",
    "    # equality constraint \n",
    "    ce = None\n",
    "    \n",
    "    return [f,ci,ce]\n",
    "\n",
    "comb_fn = lambda X_struct : user_fn(X_struct,A,B,C,stability_margin)"
   ]
  },
  {
   "cell_type": "markdown",
   "id": "f0f55ace",
   "metadata": {},
   "source": [
    "## User Options\n",
    "Specify user-defined options for PyGRANSO"
   ]
  },
  {
   "cell_type": "code",
   "execution_count": 4,
   "id": "f3a65b57",
   "metadata": {},
   "outputs": [],
   "source": [
    "opts = pygransoStruct()\n",
    "opts.torch_device = device\n",
    "opts.maxit = 200\n",
    "opts.x0 = torch.zeros(p*m,1).to(device=device, dtype=torch.double)\n",
    "# print for every 10 iterations. default: 1\n",
    "opts.print_frequency = 10"
   ]
  },
  {
   "cell_type": "markdown",
   "id": "8bca18c7",
   "metadata": {},
   "source": [
    "## Main Algorithm"
   ]
  },
  {
   "cell_type": "code",
   "execution_count": 5,
   "id": "632976b3",
   "metadata": {},
   "outputs": [
    {
     "name": "stdout",
     "output_type": "stream",
     "text": [
      "\n",
      "\n",
      "\u001b[33m╔═════ QP SOLVER NOTICE ════════════════════════════════════════════════════════════════════════╗\n",
      "\u001b[0m\u001b[33m║  PyGRANSO requires a quadratic program (QP) solver that has a quadprog-compatible interface,  ║\n",
      "\u001b[0m\u001b[33m║  the default is osqp. Users may provide their own wrapper for the QP solver.                  ║\n",
      "\u001b[0m\u001b[33m║  To disable this notice, set opts.quadprog_info_msg = False                                   ║\n",
      "\u001b[0m\u001b[33m╚═══════════════════════════════════════════════════════════════════════════════════════════════╝\n",
      "\u001b[0m═════════════════════════════════════════════════════════════════════════════════════════════════════════════════╗\n",
      "PyGRANSO: A PyTorch-enabled port of GRANSO with auto-differentiation                                             ║ \n",
      "Version 1.0.0                                                                                                    ║ \n",
      "Licensed under the AGPLv3, Copyright (C) 2021 Tim Mitchell and Buyun Liang                                       ║ \n",
      "═════════════════════════════════════════════════════════════════════════════════════════════════════════════════╣\n",
      "Problem specifications:                                                                                          ║ \n",
      " # of variables                     :   200                                                                      ║ \n",
      " # of inequality constraints        :     1                                                                      ║ \n",
      " # of equality constraints          :     0                                                                      ║ \n",
      "═════╦═══════════════════════════╦════════════════╦═════════════════╦═══════════════════════╦════════════════════╣\n",
      "     ║ <--- Penalty Function --> ║                ║ Total Violation ║ <--- Line Search ---> ║ <- Stationarity -> ║ \n",
      "Iter ║    Mu    │      Value     ║    Objective   ║   Ineq   │  Eq  ║ SD │ Evals │     t    ║ Grads │    Value   ║ \n",
      "═════╬═══════════════════════════╬════════════════╬═════════════════╬═══════════════════════╬════════════════════╣\n",
      "   0 ║ 1.000000 │  16.2063030241 ║  13.7635444107 ║ 2.442759 │   -  ║ -  │     1 │ 0.000000 ║     1 │ 28.28938   ║ \n",
      "  10 ║ 1.000000 │  14.3591621233 ║  12.9268286638 ║ 1.432333 │   -  ║ S  │     1 │ 1.000000 ║     1 │ 0.035476   ║ \n",
      "  20 ║ 1.000000 │  13.7108148212 ║  12.6560766192 ║ 1.054738 │   -  ║ S  │     2 │ 0.500000 ║     1 │ 0.039916   ║ \n",
      "  30 ║ 1.000000 │  12.9781024808 ║  12.2692651748 ║ 0.708837 │   -  ║ S  │     5 │ 0.062500 ║     1 │ 0.044753   ║ \n",
      "  40 ║ 1.000000 │  12.7159660800 ║  12.0997226026 ║ 0.616243 │   -  ║ S  │     4 │ 0.125000 ║     1 │ 0.024262   ║ \n",
      "  50 ║ 1.000000 │  12.4124519260 ║  11.9469063297 ║ 0.465546 │   -  ║ S  │     4 │ 0.125000 ║     1 │ 0.075202   ║ \n",
      "  60 ║ 1.000000 │  12.2512294613 ║  11.8943509437 ║ 0.356879 │   -  ║ S  │     3 │ 0.250000 ║     1 │ 0.019409   ║ \n",
      "  70 ║ 1.000000 │  12.0659735397 ║  11.7780158966 ║ 0.287958 │   -  ║ S  │    10 │ 0.001953 ║     1 │ 0.070258   ║ \n",
      "  80 ║ 1.000000 │  11.8824770843 ║  11.7428078737 ║ 0.139669 │   -  ║ S  │     8 │ 0.007812 ║     1 │ 0.175003   ║ \n",
      "  90 ║ 1.000000 │  11.7399811246 ║  11.6639721195 ║ 0.076009 │   -  ║ S  │     9 │ 0.003906 ║     1 │ 0.053027   ║ \n",
      " 100 ║ 0.900000 │  10.5003036265 ║  11.6188807579 ║ 0.043311 │   -  ║ S  │     5 │ 0.062500 ║     1 │ 0.117693   ║ \n",
      " 110 ║ 0.900000 │  10.4423599328 ║  11.5640149670 ║ 0.034746 │   -  ║ S  │     4 │ 0.125000 ║     1 │ 0.013471   ║ \n",
      " 120 ║ 0.900000 │  10.3449937548 ║  11.4944375054 ║ 0.000000 │   -  ║ S  │    13 │ 2.44e-04 ║     2 │ 0.025507   ║ \n",
      " 130 ║ 0.282430 │  3.23466468329 ║  11.4529971744 ║ 0.000000 │   -  ║ S  │     1 │ 1.000000 ║     1 │ 0.007158   ║ \n",
      " 140 ║ 0.282430 │  3.21863760762 ║  11.3958139113 ║ 1.23e-04 │   -  ║ S  │     5 │ 0.062500 ║     1 │ 0.128853   ║ \n",
      " 150 ║ 0.282430 │  3.20395890441 ║  11.3442770339 ║ 0.000000 │   -  ║ S  │     3 │ 0.250000 ║     1 │ 0.008424   ║ \n",
      " 160 ║ 0.135085 │  1.52508721074 ║  11.2898195323 ║ 0.000000 │   -  ║ S  │     3 │ 0.250000 ║     1 │ 0.004266   ║ \n",
      " 170 ║ 0.135085 │  1.52103321692 ║  11.2598088822 ║ 0.000000 │   -  ║ S  │     3 │ 0.250000 ║     1 │ 0.003964   ║ \n",
      " 180 ║ 0.135085 │  1.51564842315 ║  11.2171515610 ║ 3.78e-04 │   -  ║ S  │     6 │ 0.031250 ║     2 │ 0.001587   ║ \n",
      " 190 ║ 0.135085 │  1.51180771684 ║  11.1915149314 ║ 0.000000 │   -  ║ S  │     8 │ 0.007812 ║     2 │ 0.001744   ║ \n",
      "═════╬═══════════════════════════╬════════════════╬═════════════════╬═══════════════════════╬════════════════════╣\n",
      "     ║ <--- Penalty Function --> ║                ║ Total Violation ║ <--- Line Search ---> ║ <- Stationarity -> ║ \n",
      "Iter ║    Mu    │      Value     ║    Objective   ║   Ineq   │  Eq  ║ SD │ Evals │     t    ║ Grads │    Value   ║ \n",
      "═════╬═══════════════════════════╬════════════════╬═════════════════╬═══════════════════════╬════════════════════╣\n",
      " 200 ║ 0.135085 │  1.50910907103 ║  11.1715375661 ║ 0.000000 │   -  ║ S  │     9 │ 0.003906 ║     2 │ 8.26e-04   ║ \n",
      "═════╩═══════════════════════════╩════════════════╩═════════════════╩═══════════════════════╩════════════════════╣\n",
      "Optimization results:                                                                                            ║ \n",
      "F = final iterate, B = Best (to tolerance), MF = Most Feasible                                                   ║ \n",
      "═════╦═══════════════════════════╦════════════════╦═════════════════╦═══════════════════════╦════════════════════╣\n",
      "   F ║          │                ║  11.1715375661 ║ 0.000000 │   -  ║    │       │          ║       │            ║ \n",
      "   B ║          │                ║  11.1715375661 ║ 0.000000 │   -  ║    │       │          ║       │            ║ \n",
      "  MF ║          │                ║  11.1715375661 ║ 0.000000 │   -  ║    │       │          ║       │            ║ \n",
      "═════╩═══════════════════════════╩════════════════╩═════════════════╩═══════════════════════╩════════════════════╣\n",
      "Iterations:              200                                                                                     ║ \n",
      "Function evaluations:    960                                                                                     ║ \n",
      "PyGRANSO termination code: 4 --- max iterations reached.                                                         ║ \n",
      "═════════════════════════════════════════════════════════════════════════════════════════════════════════════════╝\n",
      "Total Wall Time: 70.01514506340027s\n"
     ]
    }
   ],
   "source": [
    "start = time.time()\n",
    "soln = pygranso(var_spec = var_in,combined_fn = comb_fn,user_opts = opts)\n",
    "end = time.time()\n",
    "print(\"Total Wall Time: {}s\".format(end - start))"
   ]
  },
  {
   "cell_type": "markdown",
   "id": "2eec4c44",
   "metadata": {},
   "source": [
    "## LBFGS \n",
    "(Optional) LBFGS and feasibility related options"
   ]
  },
  {
   "cell_type": "code",
   "execution_count": 6,
   "id": "f97cf86d",
   "metadata": {},
   "outputs": [
    {
     "name": "stdout",
     "output_type": "stream",
     "text": [
      "\n",
      "\n",
      "\u001b[33m╔═════ QP SOLVER NOTICE ════════════════════════════════════════════════════════════════════════╗\n",
      "\u001b[0m\u001b[33m║  PyGRANSO requires a quadratic program (QP) solver that has a quadprog-compatible interface,  ║\n",
      "\u001b[0m\u001b[33m║  the default is osqp. Users may provide their own wrapper for the QP solver.                  ║\n",
      "\u001b[0m\u001b[33m║  To disable this notice, set opts.quadprog_info_msg = False                                   ║\n",
      "\u001b[0m\u001b[33m╚═══════════════════════════════════════════════════════════════════════════════════════════════╝\n",
      "\u001b[0m═════════════════════════════════════════════════════════════════════════════════════════════════════════════════╗\n",
      "PyGRANSO: A PyTorch-enabled port of GRANSO with auto-differentiation                                             ║ \n",
      "Version 1.0.0                                                                                                    ║ \n",
      "Licensed under the AGPLv3, Copyright (C) 2021 Tim Mitchell and Buyun Liang                                       ║ \n",
      "═════════════════════════════════════════════════════════════════════════════════════════════════════════════════╣\n",
      "Problem specifications:                                                                                          ║ \n",
      " # of variables                     :   200                                                                      ║ \n",
      " # of inequality constraints        :     1                                                                      ║ \n",
      " # of equality constraints          :     0                                                                      ║ \n",
      "═════════════════════════════════════════════════════════════════════════════════════════════════════════════════╣\n",
      "\u001b[33mLimited-memory mode enabled with size = 40.                                                                     \u001b[0m ║ \n",
      "\u001b[33mNOTE: limited-memory mode is generally NOT                                                                      \u001b[0m ║ \n",
      "\u001b[33mrecommended for nonsmooth problems.                                                                             \u001b[0m ║ \n",
      "═════╦═══════════════════════════╦════════════════╦═════════════════╦═══════════════════════╦════════════════════╣\n",
      "     ║ <--- Penalty Function --> ║                ║ Total Violation ║ <--- Line Search ---> ║ <- Stationarity -> ║ \n",
      "Iter ║    Mu    │      Value     ║    Objective   ║   Ineq   │  Eq  ║ SD │ Evals │     t    ║ Grads │    Value   ║ \n",
      "═════╬═══════════════════════════╬════════════════╬═════════════════╬═══════════════════════╬════════════════════╣\n",
      "   0 ║ 1.000000 │  16.2063030241 ║  13.7635444107 ║ 2.442759 │   -  ║ -  │     1 │ 0.000000 ║     1 │ 28.28938   ║ \n",
      "  10 ║ 1.000000 │  14.3591621233 ║  12.9268286638 ║ 1.432333 │   -  ║ S  │     1 │ 1.000000 ║     1 │ 0.035476   ║ \n",
      "  20 ║ 1.000000 │  13.7108148212 ║  12.6560766192 ║ 1.054738 │   -  ║ S  │     2 │ 0.500000 ║     1 │ 0.039916   ║ \n",
      "  30 ║ 1.000000 │  12.9781024808 ║  12.2692651748 ║ 0.708837 │   -  ║ S  │     5 │ 0.062500 ║     1 │ 0.044753   ║ \n",
      "  40 ║ 1.000000 │  12.7159660799 ║  12.0997226025 ║ 0.616243 │   -  ║ S  │     4 │ 0.125000 ║     1 │ 0.024262   ║ \n",
      "  50 ║ 1.000000 │  12.4442868940 ║  11.9156946324 ║ 0.528592 │   -  ║ S  │     6 │ 0.031250 ║     1 │ 0.085054   ║ \n",
      "  60 ║ 1.000000 │  12.2170122518 ║  11.9337183436 ║ 0.283294 │   -  ║ S  │     5 │ 0.062500 ║     1 │ 0.048215   ║ \n",
      "  70 ║ 1.000000 │  11.9711538409 ║  11.8092289791 ║ 0.161925 │   -  ║ S  │     9 │ 0.003906 ║     1 │ 0.032173   ║ \n",
      "  80 ║ 1.000000 │  11.9125507952 ║  11.7386480352 ║ 0.173903 │   -  ║ S  │     9 │ 0.003906 ║     1 │ 0.286216   ║ \n",
      "  90 ║ 1.000000 │  11.8346113108 ║  11.7166524417 ║ 0.117959 │   -  ║ S  │     6 │ 0.031250 ║     1 │ 0.187001   ║ \n",
      " 100 ║ 0.531441 │  6.31821452057 ║  11.6895099565 ║ 0.105930 │   -  ║ S  │     9 │ 0.003906 ║     1 │ 0.204706   ║ \n",
      " 110 ║ 0.531441 │  6.28538237645 ║  11.6743917980 ║ 0.081132 │   -  ║ S  │     7 │ 0.015625 ║     1 │ 0.070136   ║ \n",
      " 120 ║ 0.531441 │  6.25993224256 ║  11.6694367264 ║ 0.058315 │   -  ║ S  │    22 │ 2.38e-06 ║     2 │ 0.390642   ║ \n",
      " 130 ║ 0.254187 │  2.99890231063 ║  11.6716350415 ║ 0.032129 │   -  ║ S  │    14 │ 8.54e-04 ║     1 │ 127.0589   ║ \n",
      " 140 ║ 0.254187 │  2.97022257267 ║  11.6724652544 ║ 0.003239 │   -  ║ S  │    12 │ 4.88e-04 ║     1 │ 27.82451   ║ \n",
      " 150 ║ 0.088629 │  1.03288694982 ║  11.6516469911 ║ 2.09e-04 │   -  ║ S  │    11 │ 9.77e-04 ║     1 │ 0.129267   ║ \n",
      " 160 ║ 0.030903 │  0.35976183949 ║  11.6415895620 ║ 0.000000 │   -  ║ S  │     9 │ 0.003906 ║     1 │ 0.010092   ║ \n",
      " 170 ║ 0.009698 │  0.11281329436 ║  11.6329501299 ║ 0.000000 │   -  ║ S  │     5 │ 0.187500 ║     1 │ 0.176676   ║ \n",
      " 180 ║ 0.003381 │  0.03931800919 ║  11.6276728490 ║ 2.90e-07 │   -  ║ S  │    15 │ 1.83e-04 ║     3 │ 0.002381   ║ \n",
      " 190 ║ 0.001179 │  0.01370675765 ║  11.6255666423 ║ 0.000000 │   -  ║ S  │    12 │ 0.002441 ║     2 │ 0.001857   ║ \n",
      "═════╬═══════════════════════════╬════════════════╬═════════════════╬═══════════════════════╬════════════════════╣\n",
      "     ║ <--- Penalty Function --> ║                ║ Total Violation ║ <--- Line Search ---> ║ <- Stationarity -> ║ \n",
      "Iter ║    Mu    │      Value     ║    Objective   ║   Ineq   │  Eq  ║ SD │ Evals │     t    ║ Grads │    Value   ║ \n",
      "═════╬═══════════════════════════╬════════════════╬═════════════════╬═══════════════════════╬════════════════════╣\n",
      " 200 ║ 0.001179 │  0.01370405457 ║  11.6232265098 ║ 5.60e-08 │   -  ║ S  │    14 │ 0.015015 ║     1 │ 0.054110   ║ \n",
      "═════╩═══════════════════════════╩════════════════╩═════════════════╩═══════════════════════╩════════════════════╣\n",
      "Optimization results:                                                                                            ║ \n",
      "F = final iterate, B = Best (to tolerance), MF = Most Feasible                                                   ║ \n",
      "═════╦═══════════════════════════╦════════════════╦═════════════════╦═══════════════════════╦════════════════════╣\n",
      "   F ║          │                ║  11.6232265098 ║ 5.60e-08 │   -  ║    │       │          ║       │            ║ \n",
      "   B ║          │                ║  11.6232257143 ║ 3.34e-07 │   -  ║    │       │          ║       │            ║ \n",
      "  MF ║          │                ║  11.6232273055 ║ 0.000000 │   -  ║    │       │          ║       │            ║ \n",
      "═════╩═══════════════════════════╩════════════════╩═════════════════╩═══════════════════════╩════════════════════╣\n",
      "Iterations:              200                                                                                     ║ \n",
      "Function evaluations:    1717                                                                                    ║ \n",
      "PyGRANSO termination code: 4 --- max iterations reached.                                                         ║ \n",
      "═════════════════════════════════════════════════════════════════════════════════════════════════════════════════╝\n",
      "Total Wall Time: 126.67932319641113s\n"
     ]
    }
   ],
   "source": [
    "opts = pygransoStruct()\n",
    "opts.torch_device = device\n",
    "opts.maxit = 200\n",
    "opts.x0 = torch.zeros(p*m,1).to(device=device, dtype=torch.double)\n",
    "# print for every 10 iterations. default: 1\n",
    "opts.print_frequency = 10\n",
    "\n",
    "# Limited-memory mode is generally not recommended for nonsmooth\n",
    "# problems, such as this one, but it can nonetheless enabled if\n",
    "# desired/necessary.  opts.limited_mem_size == 0 is off, that is, \n",
    "# limited-memory mode is disabled.\n",
    "# Note that this example has 200 variables.\n",
    "opts.limited_mem_size = 40\n",
    "\n",
    "start = time.time()\n",
    "soln = pygranso(var_spec = var_in,combined_fn = comb_fn,user_opts = opts)\n",
    "end = time.time()\n",
    "print(\"Total Wall Time: {}s\".format(end - start))"
   ]
  },
  {
   "cell_type": "code",
   "execution_count": 7,
   "id": "8dff3916",
   "metadata": {},
   "outputs": [],
   "source": [
    "# We can also tune PyGRANSO to more aggressively favor satisfying\n",
    "# feasibility over minimizing the objective.  Set feasibility_bias to\n",
    "# true to adjust the following three steering parameters away from\n",
    "# their default values.  For more details on these parameters, type\n",
    "# import pygransoOptionsAdvanced\n",
    "# help(pygransoOptionsAdvanced)\n",
    "import numpy as np\n",
    "opts = pygransoStruct()\n",
    "opts.torch_device = device\n",
    "feasibility_bias = True\n",
    "if feasibility_bias:\n",
    "    opts.steering_ineq_margin = np.inf    # default is 1e-6\n",
    "    opts.steering_c_viol = 0.9         # default is 0.1\n",
    "    opts.steering_c_mu = 0.1           # default is 0.9\n"
   ]
  },
  {
   "cell_type": "code",
   "execution_count": 8,
   "id": "3fb2e962",
   "metadata": {},
   "outputs": [
    {
     "name": "stdout",
     "output_type": "stream",
     "text": [
      "\n",
      "\n",
      "\u001b[33m╔═════ QP SOLVER NOTICE ════════════════════════════════════════════════════════════════════════╗\n",
      "\u001b[0m\u001b[33m║  PyGRANSO requires a quadratic program (QP) solver that has a quadprog-compatible interface,  ║\n",
      "\u001b[0m\u001b[33m║  the default is osqp. Users may provide their own wrapper for the QP solver.                  ║\n",
      "\u001b[0m\u001b[33m║  To disable this notice, set opts.quadprog_info_msg = False                                   ║\n",
      "\u001b[0m\u001b[33m╚═══════════════════════════════════════════════════════════════════════════════════════════════╝\n",
      "\u001b[0m═════════════════════════════════════════════════════════════════════════════════════════════════════════════════╗\n",
      "PyGRANSO: A PyTorch-enabled port of GRANSO with auto-differentiation                                             ║ \n",
      "Version 1.0.0                                                                                                    ║ \n",
      "Licensed under the AGPLv3, Copyright (C) 2021 Tim Mitchell and Buyun Liang                                       ║ \n",
      "═════════════════════════════════════════════════════════════════════════════════════════════════════════════════╣\n",
      "Problem specifications:                                                                                          ║ \n",
      " # of variables                     :   200                                                                      ║ \n",
      " # of inequality constraints        :     1                                                                      ║ \n",
      " # of equality constraints          :     0                                                                      ║ \n",
      "═════╦═══════════════════════════╦════════════════╦═════════════════╦═══════════════════════╦════════════════════╣\n",
      "     ║ <--- Penalty Function --> ║                ║ Total Violation ║ <--- Line Search ---> ║ <- Stationarity -> ║ \n",
      "Iter ║    Mu    │      Value     ║    Objective   ║   Ineq   │  Eq  ║ SD │ Evals │     t    ║ Grads │    Value   ║ \n",
      "═════╬═══════════════════════════╬════════════════╬═════════════════╬═══════════════════════╬════════════════════╣\n",
      "   0 ║ 1.000000 │  16.2063030241 ║  13.7635444107 ║ 2.442759 │   -  ║ -  │     1 │ 0.000000 ║     1 │ 28.28938   ║ \n",
      "  10 ║ 0.100000 │  2.59802946760 ║  13.5350279096 ║ 1.244527 │   -  ║ S  │     4 │ 0.125000 ║     1 │ 0.021953   ║ \n",
      "  20 ║ 0.100000 │  2.19206992214 ║  13.1633300318 ║ 0.875737 │   -  ║ S  │     3 │ 0.250000 ║     1 │ 0.022714   ║ \n",
      "  30 ║ 0.100000 │  1.78022218437 ║  13.1123257659 ║ 0.468990 │   -  ║ S  │     8 │ 0.039062 ║     1 │ 0.002266   ║ \n",
      "  40 ║ 0.100000 │  1.62760111526 ║  13.0064275307 ║ 0.326958 │   -  ║ S  │     3 │ 0.250000 ║     1 │ 0.009626   ║ \n",
      "  50 ║ 0.100000 │  1.36861864889 ║  12.9968510787 ║ 0.068934 │   -  ║ S  │     1 │ 1.000000 ║     1 │ 0.006985   ║ \n",
      "  60 ║ 0.100000 │  1.27342223176 ║  12.7342223176 ║ 0.000000 │   -  ║ S  │     4 │ 0.125000 ║     1 │ 0.002375   ║ \n",
      "  70 ║ 0.010000 │  0.12640618287 ║  12.6406182870 ║ 0.000000 │   -  ║ S  │     1 │ 1.000000 ║     1 │ 0.001510   ║ \n",
      "  80 ║ 0.010000 │  0.12449367596 ║  12.4493675958 ║ 0.000000 │   -  ║ S  │     2 │ 2.000000 ║     1 │ 0.011986   ║ \n",
      "  90 ║ 0.010000 │  0.12325446101 ║  12.3254461015 ║ 0.000000 │   -  ║ S  │     1 │ 1.000000 ║     1 │ 6.07e-04   ║ \n",
      " 100 ║ 0.010000 │  0.12177549272 ║  12.1775492722 ║ 0.000000 │   -  ║ S  │     1 │ 1.000000 ║     1 │ 0.001164   ║ \n",
      " 110 ║ 0.010000 │  0.12139426336 ║  12.1336769212 ║ 5.75e-05 │   -  ║ S  │     1 │ 1.000000 ║     1 │ 8.91e-04   ║ \n",
      " 120 ║ 0.010000 │  0.12115360402 ║  12.1152405147 ║ 1.20e-06 │   -  ║ S  │     6 │ 0.031250 ║     2 │ 2.16e-04   ║ \n",
      " 130 ║ 0.001000 │  0.01218065230 ║  12.0624456708 ║ 1.18e-04 │   -  ║ S  │    13 │ 2.44e-04 ║     2 │ 0.038944   ║ \n",
      " 140 ║ 0.001000 │  0.01203381725 ║  12.0338172516 ║ 0.000000 │   -  ║ S  │     2 │ 0.500000 ║     2 │ 4.52e-04   ║ \n",
      " 150 ║ 1.00e-06 │  1.2030018e-05 ║  12.0300180944 ║ 0.000000 │   -  ║ S  │     1 │ 1.000000 ║     5 │ 7.24e-06   ║ \n",
      " 160 ║ 1.00e-06 │  1.2029749e-05 ║  12.0297485828 ║ 0.000000 │   -  ║ S  │     2 │ 2.000000 ║    12 │ 1.59e-06   ║ \n",
      " 170 ║ 1.00e-08 │  1.2028823e-07 ║  12.0288232455 ║ 0.000000 │   -  ║ \u001b[33mSI\u001b[0m │    12 │ 4.88e-04 ║    10 │ 2.96e-07   ║ \n",
      " 180 ║ 1.00e-08 │  1.2027886e-07 ║  12.0278859961 ║ 0.000000 │   -  ║ S  │     3 │ 0.250000 ║     8 │ 5.64e-06   ║ \n",
      " 190 ║ 1.00e-08 │  1.2027156e-07 ║  12.0271560595 ║ 0.000000 │   -  ║ S  │     2 │ 0.500000 ║     8 │ 1.27e-05   ║ \n",
      "═════╬═══════════════════════════╬════════════════╬═════════════════╬═══════════════════════╬════════════════════╣\n",
      "     ║ <--- Penalty Function --> ║                ║ Total Violation ║ <--- Line Search ---> ║ <- Stationarity -> ║ \n",
      "Iter ║    Mu    │      Value     ║    Objective   ║   Ineq   │  Eq  ║ SD │ Evals │     t    ║ Grads │    Value   ║ \n",
      "═════╬═══════════════════════════╬════════════════╬═════════════════╬═══════════════════════╬════════════════════╣\n",
      " 200 ║ 1.00e-08 │  1.2026873e-07 ║  12.0268733964 ║ 0.000000 │   -  ║ S  │     9 │ 256.0000 ║    18 │ 3.27e-07   ║ \n",
      "═════╩═══════════════════════════╩════════════════╩═════════════════╩═══════════════════════╩════════════════════╣\n",
      "Optimization results:                                                                                            ║ \n",
      "F = final iterate, B = Best (to tolerance), MF = Most Feasible                                                   ║ \n",
      "═════╦═══════════════════════════╦════════════════╦═════════════════╦═══════════════════════╦════════════════════╣\n",
      "   F ║          │                ║  12.0268733964 ║ 0.000000 │   -  ║    │       │          ║       │            ║ \n",
      "   B ║          │                ║  12.0268733964 ║ 0.000000 │   -  ║    │       │          ║       │            ║ \n",
      "  MF ║          │                ║  12.0268733964 ║ 0.000000 │   -  ║    │       │          ║       │            ║ \n",
      "═════╩═══════════════════════════╩════════════════╩═════════════════╩═══════════════════════╩════════════════════╣\n",
      "Iterations:              200                                                                                     ║ \n",
      "Function evaluations:    750                                                                                     ║ \n",
      "PyGRANSO termination code: 4 --- max iterations reached.                                                         ║ \n",
      "═════════════════════════════════════════════════════════════════════════════════════════════════════════════════╝\n",
      "Total Wall Time: 53.29096341133118s\n"
     ]
    }
   ],
   "source": [
    "opts.maxit = 200\n",
    "opts.x0 = torch.zeros(p*m,1).to(device=device, dtype=torch.double)\n",
    "# print for every 10 iterations. default: 1\n",
    "opts.print_frequency = 10\n",
    "\n",
    "start = time.time()\n",
    "soln = pygranso(var_spec = var_in,combined_fn = comb_fn,user_opts = opts)\n",
    "end = time.time()\n",
    "print(\"Total Wall Time: {}s\".format(end - start))"
   ]
  },
  {
   "cell_type": "markdown",
   "id": "c1abe9e7",
   "metadata": {},
   "source": [
    "In my testing, with default parameters, PyGRANSO will first obtain a\n",
    "feasible solution at iter ~= 160 and will reduce the objective to\n",
    "11.60 by the time it attains max iteration count of 200.\n",
    "\n",
    "With feasibility_bias = True, in my testing, PyGRANSO will obtain its\n",
    "first feasible solution earlier, at iter ~= 60, but it will ultimately\n",
    "have reduced the objective value less, only to 12.21, by the end of\n",
    "its 200 maximum allowed iterations."
   ]
  }
 ],
 "metadata": {
  "kernelspec": {
   "display_name": "Python 3 (ipykernel)",
   "language": "python",
   "name": "python3"
  },
  "language_info": {
   "codemirror_mode": {
    "name": "ipython",
    "version": 3
   },
   "file_extension": ".py",
   "mimetype": "text/x-python",
   "name": "python",
   "nbconvert_exporter": "python",
   "pygments_lexer": "ipython3",
   "version": "3.9.7"
  }
 },
 "nbformat": 4,
 "nbformat_minor": 5
}
