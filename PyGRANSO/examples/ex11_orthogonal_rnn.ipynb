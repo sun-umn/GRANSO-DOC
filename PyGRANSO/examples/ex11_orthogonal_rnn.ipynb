{
 "cells": [
  {
   "cell_type": "markdown",
   "id": "5257bb27",
   "metadata": {},
   "source": [
    "# Orthogonal RNN\n",
    "\n",
    "Train Orthogonal RNN for MNIST classification based on [this Paper](https://arxiv.org/pdf/1901.08428.pdf)\n",
    "\n",
    "NOTE: this example is still under development. "
   ]
  },
  {
   "cell_type": "markdown",
   "id": "c859c154",
   "metadata": {},
   "source": [
    "## Problem Description"
   ]
  },
  {
   "attachments": {},
   "cell_type": "markdown",
   "id": "b96269c7",
   "metadata": {},
   "source": [
    "For each element in the input sequence, each layer computes the following function:\n",
    "$$h_t=\\tanh(W_{ih}x_t+b_{ih}+W_{hh}h_{t-1}+b_hh)$$\n",
    "\n",
    "where $h_{t}$ is the hidden state at time $t$, and $h_{t-1}$ is the hidden state of the previous layer at time $t-1$ or the initial hidden state at time $o$. \n",
    "\n",
    "For each layer, we have the orthogonal constraint:\n",
    "$$ W_{hh}^T W_{hh} = I $$"
   ]
  },
  {
   "cell_type": "markdown",
   "id": "08dfdd50",
   "metadata": {},
   "source": [
    "## Modules Importing\n",
    "Import all necessary modules and add PyGRANSO src folder to system path. "
   ]
  },
  {
   "cell_type": "code",
   "execution_count": 1,
   "id": "90ed32f9",
   "metadata": {},
   "outputs": [],
   "source": [
    "import time\n",
    "import torch\n",
    "import sys\n",
    "from pygranso.pygranso import pygranso\n",
    "from pygranso.pygransoStruct import pygransoStruct \n",
    "from pygranso.private.getNvar import getNvarTorch\n",
    "import torch.nn as nn\n",
    "from torchvision import datasets\n",
    "from torchvision.transforms import ToTensor"
   ]
  },
  {
   "cell_type": "markdown",
   "id": "17a1b7fe",
   "metadata": {},
   "source": [
    "## Data Initialization \n",
    "Specify torch device, neural network architecture, and generate data.\n",
    "\n",
    "NOTE: please specify path for downloading data.\n",
    "\n",
    "Use GPU for this problem. If no cuda device available, please set *device = torch.device('cpu')*"
   ]
  },
  {
   "cell_type": "code",
   "execution_count": 2,
   "id": "8b4842e1",
   "metadata": {},
   "outputs": [
    {
     "name": "stderr",
     "output_type": "stream",
     "text": [
      "/home/buyun/anaconda3/envs/cuosqp_pygranso/lib/python3.9/site-packages/torchvision/datasets/mnist.py:498: UserWarning: The given NumPy array is not writeable, and PyTorch does not support non-writeable tensors. This means you can write to the underlying (supposedly non-writeable) NumPy array using the tensor. You may want to copy the array to protect its data or make it writeable before converting it to a tensor. This type of warning will be suppressed for the rest of this program. (Triggered internally at  /opt/conda/conda-bld/pytorch_1623448255797/work/torch/csrc/utils/tensor_numpy.cpp:180.)\n",
      "  return torch.from_numpy(parsed.astype(m[2], copy=False)).view(*s)\n"
     ]
    }
   ],
   "source": [
    "device = torch.device('cuda')\n",
    "\n",
    "sequence_length = 28\n",
    "input_size = 28\n",
    "hidden_size = 30\n",
    "num_layers = 1\n",
    "num_classes = 10\n",
    "batch_size = 100\n",
    "num_epochs = 2\n",
    "learning_rate = 0.01\n",
    "\n",
    "double_precision = torch.double\n",
    "\n",
    "class RNN(nn.Module):\n",
    "    \n",
    "    def __init__(self, input_size, hidden_size, num_layers, num_classes):\n",
    "        super(RNN, self).__init__()\n",
    "        self.hidden_size = hidden_size\n",
    "        self.num_layers = num_layers\n",
    "        # self.lstm = nn.LSTM(input_size, hidden_size, num_layers, batch_first=True)\n",
    "        self.rnn = nn.RNN(input_size, hidden_size, num_layers, batch_first=True)\n",
    "        self.fc = nn.Linear(hidden_size, num_classes)\n",
    "        pass\n",
    "    \n",
    "    def forward(self, x):\n",
    "        # Set initial hidden and cell states \n",
    "        h0 = torch.zeros(self.num_layers, x.size(0), self.hidden_size).to(device=device, dtype=double_precision)\n",
    "        out, hidden = self.rnn(x, h0)  # out: tensor of shape (batch_size, seq_length, hidden_size)\n",
    "        #Reshaping the outputs such that it can be fit into the fully connected layer\n",
    "        out = self.fc(out[:, -1, :])\n",
    "        return out\n",
    "    \n",
    "torch.manual_seed(0)\n",
    "\n",
    "model = RNN(input_size, hidden_size, num_layers, num_classes).to(device=device, dtype=double_precision)\n",
    "model.train()\n",
    "\n",
    "train_data = datasets.MNIST(\n",
    "    root = '/home/buyun/Documents/GitHub/PyGRANSO/examples/data/mnist',\n",
    "    train = True,                         \n",
    "    transform = ToTensor(), \n",
    "    download = True,            \n",
    ") \n",
    "\n",
    "loaders = {\n",
    "    'train' : torch.utils.data.DataLoader(train_data, \n",
    "                                        batch_size=100, \n",
    "                                        shuffle=True, \n",
    "                                        num_workers=1),\n",
    "}\n",
    "\n",
    "inputs, labels = next(iter(loaders['train']))\n",
    "inputs, labels = inputs.reshape(-1, sequence_length, input_size).to(device=device, dtype=double_precision), labels.to(device=device)"
   ]
  },
  {
   "cell_type": "markdown",
   "id": "ec80716b",
   "metadata": {},
   "source": [
    "## Function Set-Up\n",
    "\n",
    "Encode the optimization variables, and objective and constraint functions.\n",
    "\n",
    "Note: please strictly follow the format of comb_fn, which will be used in the PyGRANSO main algortihm."
   ]
  },
  {
   "cell_type": "code",
   "execution_count": 3,
   "id": "fb360e75",
   "metadata": {},
   "outputs": [],
   "source": [
    "def user_fn(model,inputs,labels):\n",
    "    # objective function    \n",
    "    logits = model(inputs)\n",
    "    criterion = nn.CrossEntropyLoss()\n",
    "    f = criterion(logits, labels)\n",
    "\n",
    "    A = list(model.parameters())[1]\n",
    "\n",
    "    # inequality constraint\n",
    "    ci = None\n",
    "\n",
    "    # equality constraint \n",
    "    # special orthogonal group\n",
    "    \n",
    "    ce = pygransoStruct()\n",
    "\n",
    "    ce.c1 = A.T @ A - torch.eye(hidden_size).to(device=device, dtype=double_precision)\n",
    "    # ce.c2 = torch.det(A) - 1\n",
    "\n",
    "    # ce = None\n",
    "\n",
    "    return [f,ci,ce]\n",
    "\n",
    "comb_fn = lambda model : user_fn(model,inputs,labels)"
   ]
  },
  {
   "cell_type": "markdown",
   "id": "f0f55ace",
   "metadata": {},
   "source": [
    "## User Options\n",
    "Specify user-defined options for PyGRANSO "
   ]
  },
  {
   "cell_type": "code",
   "execution_count": 4,
   "id": "f3a65b57",
   "metadata": {},
   "outputs": [],
   "source": [
    "opts = pygransoStruct()\n",
    "opts.torch_device = device\n",
    "nvar = getNvarTorch(model.parameters())\n",
    "opts.x0 = torch.nn.utils.parameters_to_vector(model.parameters()).detach().reshape(nvar,1)\n",
    "# opts.opt_tol = 1e-4\n",
    "# opts.maxit = 10\n",
    "# opts.fvalquit = 1e-6\n",
    "opts.print_level = 1\n",
    "opts.print_frequency = 1\n",
    "# opts.print_ascii = True\n",
    "# opts.limited_mem_size = 100\n",
    "opts.double_precision = True"
   ]
  },
  {
   "cell_type": "markdown",
   "id": "754ba30a",
   "metadata": {},
   "source": [
    "## Initial Test \n",
    "Check initial accuracy of the modified LeNet5 model"
   ]
  },
  {
   "cell_type": "code",
   "execution_count": 5,
   "id": "711f0e9c",
   "metadata": {},
   "outputs": [
    {
     "name": "stdout",
     "output_type": "stream",
     "text": [
      "Initial acc = 10.00%\n"
     ]
    }
   ],
   "source": [
    "logits = model(inputs)\n",
    "_, predicted = torch.max(logits.data, 1)\n",
    "correct = (predicted == labels).sum().item()\n",
    "print(\"Initial acc = {:.2f}%\".format((100 * correct/len(inputs))))  "
   ]
  },
  {
   "cell_type": "markdown",
   "id": "8bca18c7",
   "metadata": {},
   "source": [
    "## Main Algorithm"
   ]
  },
  {
   "cell_type": "code",
   "execution_count": 6,
   "id": "632976b3",
   "metadata": {},
   "outputs": [
    {
     "name": "stdout",
     "output_type": "stream",
     "text": [
      "\n",
      "\n",
      "\u001b[33m╔═════ QP SOLVER NOTICE ════════════════════════════════════════════════════════════════════════╗\n",
      "\u001b[0m\u001b[33m║  PyGRANSO requires a quadratic program (QP) solver that has a quadprog-compatible interface,  ║\n",
      "\u001b[0m\u001b[33m║  the default is osqp. Users may provide their own wrapper for the QP solver.                  ║\n",
      "\u001b[0m\u001b[33m║  To disable this notice, set opts.quadprog_info_msg = False                                   ║\n",
      "\u001b[0m\u001b[33m╚═══════════════════════════════════════════════════════════════════════════════════════════════╝\n",
      "\u001b[0m═════════════════════════════════════════════════════════════════════════════════════════════════════════════════╗\n",
      "PyGRANSO: A PyTorch-enabled port of GRANSO with auto-differentiation                                             ║ \n",
      "Version 1.0.0                                                                                                    ║ \n",
      "Licensed under the AGPLv3, Copyright (C) 2021 Tim Mitchell and Buyun Liang                                       ║ \n",
      "═════════════════════════════════════════════════════════════════════════════════════════════════════════════════╣\n",
      "Problem specifications:                                                                                          ║ \n",
      " # of variables                     :   2110                                                                     ║ \n",
      " # of inequality constraints        :      0                                                                     ║ \n",
      " # of equality constraints          :    900                                                                     ║ \n",
      "═════╦═══════════════════════════╦════════════════╦═════════════════╦═══════════════════════╦════════════════════╣\n",
      "     ║ <--- Penalty Function --> ║                ║ Total Violation ║ <--- Line Search ---> ║ <- Stationarity -> ║ \n",
      "Iter ║    Mu    │      Value     ║    Objective   ║ Ineq │    Eq    ║ SD │ Evals │     t    ║ Grads │    Value   ║ \n",
      "═════╬═══════════════════════════╬════════════════╬═════════════════╬═══════════════════════╬════════════════════╣\n",
      "   0 ║ 1.000000 │  66.2368561403 ║  2.28955713337 ║   -  │ 0.746091 ║ -  │     1 │ 0.000000 ║     1 │ 2.423475   ║ \n",
      "   1 ║ 1.000000 │  52.1486307207 ║  2.27913530404 ║   -  │ 0.933144 ║ S  │     1 │ 1.000000 ║     1 │ 2.753646   ║ \n",
      "   2 ║ 1.000000 │  38.3519202496 ║  2.28521644922 ║   -  │ 0.927657 ║ S  │     2 │ 2.000000 ║     1 │ 0.656790   ║ \n",
      "   3 ║ 1.000000 │  33.3372826918 ║  2.28032318343 ║   -  │ 0.961922 ║ S  │     2 │ 2.000000 ║     1 │ 0.378445   ║ \n",
      "   4 ║ 1.000000 │  23.9786865082 ║  2.28134700301 ║   -  │ 0.967953 ║ S  │     1 │ 1.000000 ║     1 │ 0.176823   ║ \n",
      "   5 ║ 1.000000 │  22.1939844793 ║  2.28030736512 ║   -  │ 0.971461 ║ S  │     1 │ 1.000000 ║     1 │ 0.182528   ║ \n",
      "   6 ║ 1.000000 │  18.0529667150 ║  2.27374564313 ║   -  │ 0.963504 ║ S  │     1 │ 1.000000 ║     1 │ 0.207868   ║ \n",
      "   7 ║ 1.000000 │  15.6520934663 ║  2.27187443247 ║   -  │ 0.963822 ║ S  │     1 │ 1.000000 ║     1 │ 0.182783   ║ \n",
      "   8 ║ 1.000000 │  13.2339559167 ║  2.26658677747 ║   -  │ 0.952531 ║ S  │     2 │ 2.000000 ║     1 │ 0.210196   ║ \n",
      "   9 ║ 1.000000 │  11.3714184872 ║  2.26381325954 ║   -  │ 0.948654 ║ S  │     1 │ 1.000000 ║     1 │ 0.162157   ║ \n",
      "  10 ║ 1.000000 │  9.54229485898 ║  2.25892799654 ║   -  │ 0.936663 ║ S  │     1 │ 1.000000 ║     1 │ 0.198874   ║ \n",
      "  11 ║ 1.000000 │  8.16524607050 ║  2.25021558224 ║   -  │ 0.910246 ║ S  │     1 │ 1.000000 ║     1 │ 0.116760   ║ \n",
      "  12 ║ 1.000000 │  6.47805842289 ║  2.22994297870 ║   -  │ 0.815455 ║ S  │     3 │ 4.000000 ║     1 │ 0.150614   ║ \n",
      "  13 ║ 1.000000 │  5.02423872822 ║  2.22154838665 ║   -  │ 0.755613 ║ S  │     1 │ 1.000000 ║     1 │ 0.127712   ║ \n",
      "  14 ║ 1.000000 │  3.99699144646 ║  2.21403933673 ║   -  │ 0.680167 ║ S  │     2 │ 2.000000 ║     1 │ 0.110776   ║ \n",
      "  15 ║ 1.000000 │  3.75013031505 ║  2.20759894129 ║   -  │ 0.609288 ║ S  │     2 │ 2.000000 ║     1 │ 0.105181   ║ \n",
      "  16 ║ 1.000000 │  3.53413626762 ║  2.19977173083 ║   -  │ 0.508335 ║ S  │     2 │ 2.000000 ║     1 │ 0.121316   ║ \n",
      "  17 ║ 1.000000 │  2.92459952601 ║  2.19256877661 ║   -  │ 0.407385 ║ S  │     1 │ 1.000000 ║     1 │ 0.111847   ║ \n",
      "  18 ║ 1.000000 │  2.43165582330 ║  2.18258827717 ║   -  │ 0.231164 ║ S  │     1 │ 1.000000 ║     1 │ 0.075591   ║ \n",
      "  19 ║ 1.000000 │  2.20270281335 ║  2.17183803395 ║   -  │ 0.017405 ║ S  │     1 │ 1.000000 ║     1 │ 0.011284   ║ \n",
      "═════╬═══════════════════════════╬════════════════╬═════════════════╬═══════════════════════╬════════════════════╣\n",
      "     ║ <--- Penalty Function --> ║                ║ Total Violation ║ <--- Line Search ---> ║ <- Stationarity -> ║ \n",
      "Iter ║    Mu    │      Value     ║    Objective   ║ Ineq │    Eq    ║ SD │ Evals │     t    ║ Grads │    Value   ║ \n",
      "═════╬═══════════════════════════╬════════════════╬═════════════════╬═══════════════════════╬════════════════════╣\n",
      "  20 ║ 1.000000 │  2.19267629538 ║  2.16605032860 ║   -  │ 0.012410 ║ S  │     2 │ 2.000000 ║     1 │ 0.012656   ║ \n",
      "  21 ║ 0.348678 │  0.77862074857 ║  2.16416247573 ║   -  │ 0.003769 ║ S  │     1 │ 1.000000 ║     1 │ 0.016713   ║ \n",
      "  22 ║ 0.254187 │  0.56574883892 ║  2.14191736333 ║   -  │ 0.001876 ║ S  │     1 │ 1.000000 ║     1 │ 0.016109   ║ \n",
      "  23 ║ 0.088629 │  0.20997918383 ║  2.13139871321 ║   -  │ 3.50e-04 ║ S  │     3 │ 0.250000 ║     1 │ 0.035810   ║ \n",
      "  24 ║ 0.088629 │  0.20458607749 ║  2.11466375668 ║   -  │ 3.29e-04 ║ \u001b[33mSI\u001b[0m │     2 │ 2.000000 ║     1 │ 0.025818   ║ \n",
      "  25 ║ 0.030903 │  0.08046009687 ║  2.10897429624 ║   -  │ 0.002816 ║ S  │     1 │ 1.000000 ║     1 │ 0.024695   ║ \n",
      "  26 ║ 0.010775 │  0.02791511810 ║  2.09861582677 ║   -  │ 5.72e-04 ║ S  │     1 │ 1.000000 ║     1 │ 0.001823   ║ \n",
      "  27 ║ 0.003757 │  0.01315564486 ║  2.09855285040 ║   -  │ 5.44e-04 ║ S  │     4 │ 0.125000 ║     1 │ 0.001879   ║ \n",
      "  28 ║ 0.001997 │  0.00945241624 ║  2.09773098103 ║   -  │ 0.001085 ║ S  │     1 │ 1.000000 ║     1 │ 0.001002   ║ \n",
      "  29 ║ 0.001997 │  0.00943929221 ║  2.09763430964 ║   -  │ 0.001102 ║ S  │     2 │ 0.500000 ║     1 │ 6.09e-04   ║ \n",
      "  30 ║ 0.001997 │  0.00943428893 ║  2.09736532602 ║   -  │ 0.001101 ║ \u001b[33mSI\u001b[0m │     2 │ 2.000000 ║     1 │ 0.002928   ║ \n",
      "  31 ║ 6.96e-04 │  0.00670621880 ║  2.09730951015 ║   -  │ 0.001092 ║ S  │     2 │ 0.500000 ║     1 │ 6.47e-04   ║ \n",
      "  32 ║ 2.43e-04 │  0.00575291459 ║  2.09680954218 ║   -  │ 9.90e-04 ║ S  │     4 │ 0.125000 ║     1 │ 0.013867   ║ \n",
      "  33 ║ 8.46e-05 │  0.00541670001 ║  2.09659496927 ║   -  │ 9.14e-04 ║ S  │     2 │ 0.500000 ║     1 │ 0.001174   ║ \n",
      "  34 ║ 8.46e-05 │  1.7832315e-04 ║  2.09653592654 ║   -  │ 2.30e-07 ║ \u001b[33mSI\u001b[0m │     1 │ 1.000000 ║     1 │ 3.38e-05   ║ \n",
      "  35 ║ 8.46e-05 │  1.7832192e-04 ║  2.09652050041 ║   -  │ 2.30e-07 ║ \u001b[33mSI\u001b[0m │     2 │ 2.000000 ║     1 │ 3.51e-05   ║ \n",
      "  36 ║ 2.95e-05 │  6.2743194e-05 ║  2.09652049978 ║   -  │ 2.30e-07 ║ S  │    18 │ 2.29e-05 ║     1 │ 8.81e-05   ║ \n",
      "  37 ║ 1.03e-05 │  2.2443382e-05 ║  2.09652049961 ║   -  │ 2.30e-07 ║ S  │    21 │ 1.43e-05 ║     1 │ 3.93e-05   ║ \n",
      "  38 ║ 3.59e-06 │  8.3917073e-06 ║  2.09652049886 ║   -  │ 2.30e-07 ║ S  │    15 │ 6.10e-05 ║     1 │ 3.65e-05   ║ \n",
      "  39 ║ 1.25e-06 │  3.4921910e-06 ║  2.09652049702 ║   -  │ 2.30e-07 ║ S  │    12 │ 4.88e-04 ║     1 │ 1.20e-05   ║ \n",
      "═════╬═══════════════════════════╬════════════════╬═════════════════╬═══════════════════════╬════════════════════╣\n",
      "     ║ <--- Penalty Function --> ║                ║ Total Violation ║ <--- Line Search ---> ║ <- Stationarity -> ║ \n",
      "Iter ║    Mu    │      Value     ║    Objective   ║ Ineq │    Eq    ║ SD │ Evals │     t    ║ Grads │    Value   ║ \n",
      "═════╬═══════════════════════════╬════════════════╬═════════════════╬═══════════════════════╬════════════════════╣\n",
      "  40 ║ 1.25e-06 │  2.6229067e-06 ║  2.09652037222 ║   -  │ 1.67e-14 ║ \u001b[33mSI\u001b[0m │     1 │ 1.000000 ║     1 │ 2.53e-04   ║ \n",
      "═════╩═══════════════════════════╩════════════════╩═════════════════╩═══════════════════════╩════════════════════╣\n",
      "F = final iterate, B = Best (to tolerance), MF = Most Feasible                                                   ║ \n",
      "Optimization results:                                                                                            ║ \n",
      "═════╦═══════════════════════════╦════════════════╦═════════════════╦═══════════════════════╦════════════════════╣\n",
      "   F ║          │                ║  2.09652037222 ║   -  │ 1.67e-14 ║    │       │          ║       │            ║ \n",
      "   B ║          │                ║  2.09651742529 ║   -  │ 8.38e-07 ║    │       │          ║       │            ║ \n",
      "  MF ║          │                ║  2.09652037222 ║   -  │ 1.67e-14 ║    │       │          ║       │            ║ \n",
      "═════╩═══════════════════════════╩════════════════╩═════════════════╩═══════════════════════╩════════════════════╣\n",
      "Iterations:              40                                                                                      ║ \n",
      "Function evaluations:    151                                                                                     ║ \n",
      "PyGRANSO termination code: 6 --- line search bracketed a minimizer but failed to satisfy Wolfe conditions at a   ║ \n",
      "feasible point (to tolerances).  This may be an indication that approximate stationarity has been attained.      ║ \n",
      "═════════════════════════════════════════════════════════════════════════════════════════════════════════════════╝\n",
      "Total Wall Time: 159.40573477745056s\n"
     ]
    }
   ],
   "source": [
    "start = time.time()\n",
    "soln = pygranso(var_spec= model, combined_fn = comb_fn, user_opts = opts)\n",
    "end = time.time()\n",
    "print(\"Total Wall Time: {}s\".format(end - start))"
   ]
  },
  {
   "cell_type": "markdown",
   "id": "21bff5fd",
   "metadata": {},
   "source": [
    "## Train Accuracy"
   ]
  },
  {
   "cell_type": "code",
   "execution_count": 7,
   "id": "8d846f87",
   "metadata": {},
   "outputs": [
    {
     "name": "stdout",
     "output_type": "stream",
     "text": [
      "Final acc = 50.00%\n"
     ]
    }
   ],
   "source": [
    "torch.nn.utils.vector_to_parameters(soln.final.x, model.parameters())\n",
    "logits = model(inputs)\n",
    "_, predicted = torch.max(logits.data, 1)\n",
    "correct = (predicted == labels).sum().item()\n",
    "print(\"Final acc = {:.2f}%\".format((100 * correct/len(inputs))))  "
   ]
  }
 ],
 "metadata": {
  "kernelspec": {
   "display_name": "Python 3 (ipykernel)",
   "language": "python",
   "name": "python3"
  },
  "language_info": {
   "codemirror_mode": {
    "name": "ipython",
    "version": 3
   },
   "file_extension": ".py",
   "mimetype": "text/x-python",
   "name": "python",
   "nbconvert_exporter": "python",
   "pygments_lexer": "ipython3",
   "version": "3.9.7"
  }
 },
 "nbformat": 4,
 "nbformat_minor": 5
}
