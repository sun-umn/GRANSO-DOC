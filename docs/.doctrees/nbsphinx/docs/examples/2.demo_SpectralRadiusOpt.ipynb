{
 "cells": [
  {
   "cell_type": "markdown",
   "id": "5257bb27",
   "metadata": {},
   "source": [
    "# Spectral Radius Optimization\n",
    "\n",
    "This notebook contains examples of how to solve Spectral Radius Optimization problem.\n",
    "\n",
    "Reference: Curtis, Frank E., Tim Mitchell, and Michael L. Overton. \"A BFGS-SQP method for nonsmooth, nonconvex, constrained optimization and its evaluation using relative minimization profiles.\" Optimization Methods and Software 32.1 (2017): 148-181."
   ]
  },
  {
   "cell_type": "markdown",
   "id": "16ae1959",
   "metadata": {},
   "source": [
    "## Problem Description"
   ]
  },
  {
   "cell_type": "markdown",
   "id": "72e3a77a",
   "metadata": {},
   "source": [
    "We have $M=A+BXC$,\n",
    "where the matirces $A\\in R^{N,N},B\\in R^{N,P}$ and $C\\in R^{M,N}$ are given, $X\\in R^{P,M}$ is the matrix form optimization variable.\n",
    "\n",
    "We have the nonconvex, nonsmooth, and constrained optimization problem\n",
    "$$\\min_{X}\\rho_I(A+BXC),$$\n",
    "$$\\text{s.t. }\\rho_R(A+BXC)+\\xi \\leq 0,$$\n",
    "where $\\xi$ is the stability margin, and $\\rho_I$ and $\\rho_R$ are the maximum imaginary and real part of singular values of $M$."
   ]
  },
  {
   "cell_type": "markdown",
   "id": "08dfdd50",
   "metadata": {},
   "source": [
    "## Modules Importing\n",
    "Import all necessary modules and add NCVX src folder to system path."
   ]
  },
  {
   "cell_type": "code",
   "execution_count": 1,
   "id": "90ed32f9",
   "metadata": {},
   "outputs": [],
   "source": [
    "import time\n",
    "import torch\n",
    "import os,sys\n",
    "## Adding NCVX directories. Should be modified by user\n",
    "sys.path.append('/home/buyun/Documents/GitHub/NCVX')\n",
    "from ncvx import ncvx\n",
    "from ncvxStruct import Options, Data, GeneralStruct \n",
    "import scipy.io\n",
    "from torch import linalg as LA"
   ]
  },
  {
   "cell_type": "markdown",
   "id": "17a1b7fe",
   "metadata": {},
   "source": [
    "## Data Generation \n",
    "Specify torch device, and read the data from provided file"
   ]
  },
  {
   "cell_type": "code",
   "execution_count": 2,
   "id": "8b4842e1",
   "metadata": {},
   "outputs": [],
   "source": [
    "device = torch.device('cuda')\n",
    "\n",
    "# currentdir = os.path.dirname(os.path.realpath(__file__))\n",
    "file = \"/home/buyun/Documents/GitHub/NCVX/examples/data/spec_radius_opt_data.mat\"\n",
    "mat = scipy.io.loadmat(file)\n",
    "mat_struct = mat['sys']\n",
    "mat_struct = mat_struct[0,0]\n",
    "A = torch.from_numpy(mat_struct['A']).to(device=device, dtype=torch.double)\n",
    "B = torch.from_numpy(mat_struct['B']).to(device=device, dtype=torch.double)\n",
    "C = torch.from_numpy(mat_struct['C']).to(device=device, dtype=torch.double)\n",
    "p = B.shape[1]\n",
    "m = C.shape[0]\n",
    "stability_margin = 1"
   ]
  },
  {
   "cell_type": "markdown",
   "id": "ec80716b",
   "metadata": {},
   "source": [
    "## Problem Definition \n",
    "Spceify optimization variables and corresponding objective and constrained function.\n",
    "\n",
    "Note: please strictly follow the format of evalObjFunction and combinedFunction, which will be used in the NCVX main algortihm. "
   ]
  },
  {
   "cell_type": "code",
   "execution_count": 3,
   "id": "fb360e75",
   "metadata": {},
   "outputs": [],
   "source": [
    "# variables and corresponding dimensions.\n",
    "var_in = {\"X\": [p,m] }\n",
    "\n",
    "def comb_fn(X_struct):\n",
    "    # user defined variable, matirx form. torch tensor\n",
    "    X = X_struct.X\n",
    "    X.requires_grad_(True)\n",
    "\n",
    "    # objective function\n",
    "    M           = A + B@X@C\n",
    "    [D,_]       = LA.eig(M)\n",
    "    f = torch.max(D.imag)\n",
    "\n",
    "    # inequality constraint, matrix form\n",
    "    ci = GeneralStruct()\n",
    "    ci.c1 = torch.max(D.real) + stability_margin\n",
    "\n",
    "    # equality constraint \n",
    "    ce = None\n",
    "    \n",
    "    return [f,ci,ce]\n"
   ]
  },
  {
   "cell_type": "markdown",
   "id": "f0f55ace",
   "metadata": {},
   "source": [
    "## User Options\n",
    "Specify user-defined options for NCVX algorithm"
   ]
  },
  {
   "cell_type": "code",
   "execution_count": 4,
   "id": "f3a65b57",
   "metadata": {},
   "outputs": [],
   "source": [
    "opts = Options()\n",
    "opts.maxit = 200\n",
    "opts.x0 = torch.zeros(p*m,1).to(device=device, dtype=torch.double)\n",
    "# print for every 10 iterations. default: 1\n",
    "opts.print_frequency = 10"
   ]
  },
  {
   "cell_type": "markdown",
   "id": "8bca18c7",
   "metadata": {},
   "source": [
    "## Main Algorithm"
   ]
  },
  {
   "cell_type": "code",
   "execution_count": 5,
   "id": "632976b3",
   "metadata": {},
   "outputs": [
    {
     "name": "stdout",
     "output_type": "stream",
     "text": [
      "\n",
      "\n",
      "\u001b[33m╔═════ QP SOLVER NOTICE ════════════════════════════════════════════════════════════════════╗\n",
      "\u001b[0m\u001b[33m║  NCVX requires a quadratic program (QP) solver that has a quadprog-compatible interface,  ║\n",
      "\u001b[0m\u001b[33m║  the default is osqp. Users may provide their own wrapper for the QP solver.              ║\n",
      "\u001b[0m\u001b[33m║  To disable this notice, set opts.quadprog_info_msg = False                               ║\n",
      "\u001b[0m\u001b[33m╚═══════════════════════════════════════════════════════════════════════════════════════════╝\n",
      "\u001b[0m═════════════════════════════════════════════════════════════════════════════════════════════════════════════════╗\n",
      "NCVX: A User-Friendly and Scalable Package for Nonconvex Optimization in Machine Learning                        ║ \n",
      "Version 1.1.0                                                                                                    ║ \n",
      "MIT License Copyright (c) 2021 SUN Group @ UMN                                                                   ║ \n",
      "═════════════════════════════════════════════════════════════════════════════════════════════════════════════════╣\n",
      "Problem specifications:                                                                                          ║ \n",
      " # of variables                     :   200                                                                      ║ \n",
      " # of inequality constraints        :     1                                                                      ║ \n",
      " # of equality constraints          :     0                                                                      ║ \n",
      "═════╦═══════════════════════════╦════════════════╦═════════════════╦═══════════════════════╦════════════════════╣\n",
      "     ║ <--- Penalty Function --> ║                ║ Total Violation ║ <--- Line Search ---> ║ <- Stationarity -> ║ \n",
      "Iter ║    Mu    │      Value     ║    Objective   ║   Ineq   │  Eq  ║ SD │ Evals │     t    ║ Grads │    Value   ║ \n",
      "═════╬═══════════════════════════╬════════════════╬═════════════════╬═══════════════════════╬════════════════════╣\n",
      "   0 ║ 1.000000 │  16.2063030241 ║  13.7635444107 ║ 2.442759 │   -  ║ -  │     1 │ 0.000000 ║     1 │ 28.28938   ║ \n",
      "  10 ║ 1.000000 │  14.3591621233 ║  12.9268286638 ║ 1.432333 │   -  ║ S  │     1 │ 1.000000 ║     1 │ 0.035476   ║ \n",
      "  20 ║ 1.000000 │  13.7108148212 ║  12.6560766192 ║ 1.054738 │   -  ║ S  │     2 │ 0.500000 ║     1 │ 0.039916   ║ \n",
      "  30 ║ 1.000000 │  12.9781024808 ║  12.2692651748 ║ 0.708837 │   -  ║ S  │     5 │ 0.062500 ║     1 │ 0.044753   ║ \n",
      "  40 ║ 1.000000 │  12.7159660389 ║  12.0997216956 ║ 0.616244 │   -  ║ S  │     4 │ 0.125000 ║     1 │ 0.024263   ║ \n",
      "  50 ║ 1.000000 │  12.4124293217 ║  11.9468931061 ║ 0.465536 │   -  ║ S  │     4 │ 0.125000 ║     1 │ 0.075208   ║ \n",
      "  60 ║ 1.000000 │  12.2512237865 ║  11.8943474315 ║ 0.356876 │   -  ║ S  │     3 │ 0.250000 ║     1 │ 0.019409   ║ \n",
      "  70 ║ 1.000000 │  12.0659940928 ║  11.7780281517 ║ 0.287966 │   -  ║ S  │    10 │ 0.001953 ║     1 │ 0.070237   ║ \n",
      "  80 ║ 1.000000 │  11.8824356896 ║  11.7428667719 ║ 0.139569 │   -  ║ S  │     8 │ 0.007812 ║     1 │ 0.175263   ║ \n",
      "  90 ║ 1.000000 │  11.7405966631 ║  11.6649752182 ║ 0.075621 │   -  ║ S  │     8 │ 0.007812 ║     1 │ 0.052682   ║ \n",
      " 100 ║ 0.900000 │  10.5044468122 ║  11.6275052272 ║ 0.039692 │   -  ║ S  │     5 │ 0.062500 ║     1 │ 0.115713   ║ \n",
      " 110 ║ 0.900000 │  10.4548783361 ║  11.5767182468 ║ 0.035832 │   -  ║ S  │     5 │ 0.062500 ║     1 │ 0.010560   ║ \n",
      " 120 ║ 0.900000 │  10.4144633042 ║  11.5384535462 ║ 0.029855 │   -  ║ S  │     5 │ 0.062500 ║     1 │ 0.010768   ║ \n",
      " 130 ║ 0.900000 │  10.3370769849 ║  11.4775016108 ║ 0.007326 │   -  ║ S  │     5 │ 0.062500 ║     1 │ 0.021559   ║ \n",
      " 140 ║ 0.900000 │  10.2730177199 ║  11.4076576412 ║ 0.006126 │   -  ║ S  │     5 │ 0.062500 ║     1 │ 0.009997   ║ \n",
      " 150 ║ 0.900000 │  10.2290696239 ║  11.3623758118 ║ 0.002931 │   -  ║ S  │     6 │ 0.031250 ║     1 │ 0.016783   ║ \n",
      " 160 ║ 0.900000 │  10.1726059870 ║  11.3000586474 ║ 0.002553 │   -  ║ S  │     6 │ 0.031250 ║     1 │ 0.006337   ║ \n",
      " 170 ║ 0.900000 │  10.1335049580 ║  11.2557954084 ║ 0.003289 │   -  ║ S  │    11 │ 9.77e-04 ║     1 │ 0.019407   ║ \n",
      " 180 ║ 0.900000 │  10.0846318867 ║  11.2051465408 ║ 0.000000 │   -  ║ S  │     4 │ 0.125000 ║     1 │ 0.012673   ║ \n",
      " 190 ║ 0.900000 │  10.0492304839 ║  11.1535017815 ║ 0.011079 │   -  ║ S  │     4 │ 0.125000 ║     1 │ 0.042759   ║ \n",
      "═════╬═══════════════════════════╬════════════════╬═════════════════╬═══════════════════════╬════════════════════╣\n",
      "     ║ <--- Penalty Function --> ║                ║ Total Violation ║ <--- Line Search ---> ║ <- Stationarity -> ║ \n",
      "Iter ║    Mu    │      Value     ║    Objective   ║   Ineq   │  Eq  ║ SD │ Evals │     t    ║ Grads │    Value   ║ \n",
      "═════╬═══════════════════════════╬════════════════╬═════════════════╬═══════════════════════╬════════════════════╣\n",
      " 200 ║ 0.900000 │  9.99990375197 ║  11.1110041689 ║ 0.000000 │   -  ║ S  │     5 │ 0.062500 ║     1 │ 0.027570   ║ \n",
      "═════╩═══════════════════════════╩════════════════╩═════════════════╩═══════════════════════╩════════════════════╣\n",
      "Optimization results:                                                                                            ║ \n",
      "F = final iterate, B = Best (to tolerance), MF = Most Feasible                                                   ║ \n",
      "═════╦═══════════════════════════╦════════════════╦═════════════════╦═══════════════════════╦════════════════════╣\n",
      "   F ║          │                ║  11.1110041689 ║ 0.000000 │   -  ║    │       │          ║       │            ║ \n",
      "   B ║          │                ║  11.1110041689 ║ 0.000000 │   -  ║    │       │          ║       │            ║ \n",
      "  MF ║          │                ║  11.1110041689 ║ 0.000000 │   -  ║    │       │          ║       │            ║ \n",
      "═════╩═══════════════════════════╩════════════════╩═════════════════╩═══════════════════════╩════════════════════╣\n",
      "Iterations:              200                                                                                     ║ \n",
      "Function evaluations:    1046                                                                                    ║ \n",
      "NCVX termination code: 4 --- max iterations reached.                                                             ║ \n",
      "═════════════════════════════════════════════════════════════════════════════════════════════════════════════════╝\n",
      "Total Wall Time: 76.8049464225769s\n"
     ]
    }
   ],
   "source": [
    "start = time.time()\n",
    "soln = ncvx(combinedFunction = comb_fn,var_dim_map = var_in, torch_device = device, user_opts = opts)\n",
    "end = time.time()\n",
    "print(\"Total Wall Time: {}s\".format(end - start))"
   ]
  },
  {
   "cell_type": "markdown",
   "id": "2eec4c44",
   "metadata": {},
   "source": [
    "## LBFGS \n",
    "(Optional) LBFGS and feasibility related options"
   ]
  },
  {
   "cell_type": "code",
   "execution_count": 6,
   "id": "f97cf86d",
   "metadata": {},
   "outputs": [
    {
     "name": "stdout",
     "output_type": "stream",
     "text": [
      "\n",
      "\n",
      "\u001b[33m╔═════ QP SOLVER NOTICE ════════════════════════════════════════════════════════════════════╗\n",
      "\u001b[0m\u001b[33m║  NCVX requires a quadratic program (QP) solver that has a quadprog-compatible interface,  ║\n",
      "\u001b[0m\u001b[33m║  the default is osqp. Users may provide their own wrapper for the QP solver.              ║\n",
      "\u001b[0m\u001b[33m║  To disable this notice, set opts.quadprog_info_msg = False                               ║\n",
      "\u001b[0m\u001b[33m╚═══════════════════════════════════════════════════════════════════════════════════════════╝\n",
      "\u001b[0m═════════════════════════════════════════════════════════════════════════════════════════════════════════════════╗\n",
      "NCVX: A User-Friendly and Scalable Package for Nonconvex Optimization in Machine Learning                        ║ \n",
      "Version 1.1.0                                                                                                    ║ \n",
      "MIT License Copyright (c) 2021 SUN Group @ UMN                                                                   ║ \n",
      "═════════════════════════════════════════════════════════════════════════════════════════════════════════════════╣\n",
      "Problem specifications:                                                                                          ║ \n",
      " # of variables                     :   200                                                                      ║ \n",
      " # of inequality constraints        :     1                                                                      ║ \n",
      " # of equality constraints          :     0                                                                      ║ \n",
      "═════════════════════════════════════════════════════════════════════════════════════════════════════════════════╣\n",
      "\u001b[33mLimited-memory mode enabled with size = 40.                                                                     \u001b[0m ║ \n",
      "\u001b[33mNOTE: limited-memory mode is generally NOT                                                                      \u001b[0m ║ \n",
      "\u001b[33mrecommended for nonsmooth problems.                                                                             \u001b[0m ║ \n",
      "═════╦═══════════════════════════╦════════════════╦═════════════════╦═══════════════════════╦════════════════════╣\n",
      "     ║ <--- Penalty Function --> ║                ║ Total Violation ║ <--- Line Search ---> ║ <- Stationarity -> ║ \n",
      "Iter ║    Mu    │      Value     ║    Objective   ║   Ineq   │  Eq  ║ SD │ Evals │     t    ║ Grads │    Value   ║ \n",
      "═════╬═══════════════════════════╬════════════════╬═════════════════╬═══════════════════════╬════════════════════╣\n",
      "   0 ║ 1.000000 │  16.2063030241 ║  13.7635444107 ║ 2.442759 │   -  ║ -  │     1 │ 0.000000 ║     1 │ 28.28938   ║ \n",
      "  10 ║ 1.000000 │  14.3591621233 ║  12.9268286638 ║ 1.432333 │   -  ║ S  │     1 │ 1.000000 ║     1 │ 0.035476   ║ \n",
      "  20 ║ 1.000000 │  13.7108148212 ║  12.6560766192 ║ 1.054738 │   -  ║ S  │     2 │ 0.500000 ║     1 │ 0.039916   ║ \n",
      "  30 ║ 1.000000 │  12.9781024808 ║  12.2692651748 ║ 0.708837 │   -  ║ S  │     5 │ 0.062500 ║     1 │ 0.044753   ║ \n",
      "  40 ║ 1.000000 │  12.7159660388 ║  12.0997216956 ║ 0.616244 │   -  ║ S  │     4 │ 0.125000 ║     1 │ 0.024263   ║ \n",
      "  50 ║ 1.000000 │  12.4442755783 ║  11.9156895809 ║ 0.528586 │   -  ║ S  │     6 │ 0.031250 ║     1 │ 0.085054   ║ \n",
      "  60 ║ 1.000000 │  12.2170183895 ║  11.9337373705 ║ 0.283281 │   -  ║ S  │     5 │ 0.062500 ║     1 │ 0.048213   ║ \n",
      "  70 ║ 1.000000 │  11.9906227515 ║  11.8153150460 ║ 0.175308 │   -  ║ S  │    14 │ 8.54e-04 ║     1 │ 0.052771   ║ \n",
      "  80 ║ 0.656100 │  7.85226851944 ║  11.7319888699 ║ 0.154911 │   -  ║ S  │    10 │ 0.001953 ║     1 │ 0.057446   ║ \n",
      "  90 ║ 0.656100 │  7.80968867721 ║  11.6998905351 ║ 0.133390 │   -  ║ S  │     5 │ 0.062500 ║     1 │ 0.167545   ║ \n",
      " 100 ║ 0.656100 │  7.77376403406 ║  11.6691488327 ║ 0.117635 │   -  ║ S  │    16 │ 1.53e-04 ║     1 │ 0.444730   ║ \n",
      " 110 ║ 0.656100 │  7.73801765765 ║  11.6480172819 ║ 0.095754 │   -  ║ S  │    12 │ 4.88e-04 ║     1 │ 0.460158   ║ \n",
      " 120 ║ 0.531441 │  6.22730901407 ║  11.6408654060 ║ 0.040876 │   -  ║ S  │    15 │ 6.10e-05 ║     1 │ 0.071221   ║ \n",
      " 130 ║ 0.282430 │  3.31212295035 ║  11.6347806242 ║ 0.026117 │   -  ║ S  │    12 │ 0.001465 ║     1 │ 6.154746   ║ \n",
      " 140 ║ 0.282430 │  3.28653115869 ║  11.6366411234 ║ 0.000000 │   -  ║ S  │    12 │ 4.88e-04 ║     1 │ 12.81324   ║ \n",
      " 150 ║ 0.282430 │  3.27957819359 ║  11.6120227171 ║ 0.000000 │   -  ║ S  │    13 │ 2.44e-04 ║     1 │ 5.308291   ║ \n",
      " 160 ║ 0.282430 │  3.27764175149 ║  11.6051311770 ║ 9.93e-06 │   -  ║ S  │    19 │ 1.64e-04 ║     1 │ 0.074702   ║ \n",
      " 170 ║ 0.064611 │  0.74917666240 ║  11.5952200459 ║ 0.000000 │   -  ║ S  │     8 │ 0.007812 ║     1 │ 7.676292   ║ \n",
      " 180 ║ 0.064611 │  0.74883058727 ║  11.5898637427 ║ 0.000000 │   -  ║ S  │     9 │ 0.003906 ║     1 │ 0.058059   ║ \n",
      " 190 ║ 0.014781 │  0.17122338357 ║  11.5841106551 ║ 0.000000 │   -  ║ S  │    12 │ 4.88e-04 ║     1 │ 0.263414   ║ \n",
      "═════╬═══════════════════════════╬════════════════╬═════════════════╬═══════════════════════╬════════════════════╣\n",
      "     ║ <--- Penalty Function --> ║                ║ Total Violation ║ <--- Line Search ---> ║ <- Stationarity -> ║ \n",
      "Iter ║    Mu    │      Value     ║    Objective   ║   Ineq   │  Eq  ║ SD │ Evals │     t    ║ Grads │    Value   ║ \n",
      "═════╬═══════════════════════════╬════════════════╬═════════════════╬═══════════════════════╬════════════════════╣\n",
      " 200 ║ 0.005154 │  0.05967191213 ║  11.5781625660 ║ 6.65e-07 │   -  ║ S  │    11 │ 9.77e-04 ║     1 │ 0.405383   ║ \n",
      "═════╩═══════════════════════════╩════════════════╩═════════════════╩═══════════════════════╩════════════════════╣\n",
      "Optimization results:                                                                                            ║ \n",
      "F = final iterate, B = Best (to tolerance), MF = Most Feasible                                                   ║ \n",
      "═════╦═══════════════════════════╦════════════════╦═════════════════╦═══════════════════════╦════════════════════╣\n",
      "   F ║          │                ║  11.5781625660 ║ 6.65e-07 │   -  ║    │       │          ║       │            ║ \n",
      "   B ║          │                ║  11.5781625660 ║ 6.65e-07 │   -  ║    │       │          ║       │            ║ \n",
      "  MF ║          │                ║  11.5812626585 ║ 0.000000 │   -  ║    │       │          ║       │            ║ \n",
      "═════╩═══════════════════════════╩════════════════╩═════════════════╩═══════════════════════╩════════════════════╣\n",
      "Iterations:              200                                                                                     ║ \n",
      "Function evaluations:    1879                                                                                    ║ \n",
      "NCVX termination code: 4 --- max iterations reached.                                                             ║ \n",
      "═════════════════════════════════════════════════════════════════════════════════════════════════════════════════╝\n",
      "Total Wall Time: 135.92873454093933s\n"
     ]
    }
   ],
   "source": [
    "opts = Options()\n",
    "opts.maxit = 200\n",
    "opts.x0 = torch.zeros(p*m,1).to(device=device, dtype=torch.double)\n",
    "# print for every 10 iterations. default: 1\n",
    "opts.print_frequency = 10\n",
    "\n",
    "# Limited-memory mode is generally not recommended for nonsmooth\n",
    "# problems, such as this one, but it can nonetheless enabled if\n",
    "# desired/necessary.  opts.limited_mem_size == 0 is off, that is, \n",
    "# limited-memory mode is disabled.\n",
    "# Note that this example has 200 variables.\n",
    "opts.limited_mem_size = 40\n",
    "\n",
    "start = time.time()\n",
    "soln = ncvx(combinedFunction = comb_fn,var_dim_map = var_in, torch_device = device, user_opts = opts)\n",
    "end = time.time()\n",
    "print(\"Total Wall Time: {}s\".format(end - start))"
   ]
  },
  {
   "cell_type": "code",
   "execution_count": 7,
   "id": "8dff3916",
   "metadata": {},
   "outputs": [],
   "source": [
    "# We can also tune NCVX to more aggressively favor satisfying\n",
    "# feasibility over minimizing the objective.  Set feasibility_bias to\n",
    "# true to adjust the following three steering parameters away from\n",
    "# their default values.  For more details on these parameters, type\n",
    "# import ncvxOptionsAdvanced\n",
    "# help(ncvxOptionsAdvanced)\n",
    "import numpy as np\n",
    "opts = Options()\n",
    "feasibility_bias = True\n",
    "if feasibility_bias:\n",
    "    opts.steering_ineq_margin = np.inf    # default is 1e-6\n",
    "    opts.steering_c_viol = 0.9         # default is 0.1\n",
    "    opts.steering_c_mu = 0.1           # default is 0.9\n"
   ]
  },
  {
   "cell_type": "code",
   "execution_count": 8,
   "id": "3fb2e962",
   "metadata": {},
   "outputs": [
    {
     "name": "stdout",
     "output_type": "stream",
     "text": [
      "\n",
      "\n",
      "\u001b[33m╔═════ QP SOLVER NOTICE ════════════════════════════════════════════════════════════════════╗\n",
      "\u001b[0m\u001b[33m║  NCVX requires a quadratic program (QP) solver that has a quadprog-compatible interface,  ║\n",
      "\u001b[0m\u001b[33m║  the default is osqp. Users may provide their own wrapper for the QP solver.              ║\n",
      "\u001b[0m\u001b[33m║  To disable this notice, set opts.quadprog_info_msg = False                               ║\n",
      "\u001b[0m\u001b[33m╚═══════════════════════════════════════════════════════════════════════════════════════════╝\n",
      "\u001b[0m═════════════════════════════════════════════════════════════════════════════════════════════════════════════════╗\n",
      "NCVX: A User-Friendly and Scalable Package for Nonconvex Optimization in Machine Learning                        ║ \n",
      "Version 1.1.0                                                                                                    ║ \n",
      "MIT License Copyright (c) 2021 SUN Group @ UMN                                                                   ║ \n",
      "═════════════════════════════════════════════════════════════════════════════════════════════════════════════════╣\n",
      "Problem specifications:                                                                                          ║ \n",
      " # of variables                     :   200                                                                      ║ \n",
      " # of inequality constraints        :     1                                                                      ║ \n",
      " # of equality constraints          :     0                                                                      ║ \n",
      "═════╦═══════════════════════════╦════════════════╦═════════════════╦═══════════════════════╦════════════════════╣\n",
      "     ║ <--- Penalty Function --> ║                ║ Total Violation ║ <--- Line Search ---> ║ <- Stationarity -> ║ \n",
      "Iter ║    Mu    │      Value     ║    Objective   ║   Ineq   │  Eq  ║ SD │ Evals │     t    ║ Grads │    Value   ║ \n",
      "═════╬═══════════════════════════╬════════════════╬═════════════════╬═══════════════════════╬════════════════════╣\n",
      "   0 ║ 1.000000 │  16.2063030241 ║  13.7635444107 ║ 2.442759 │   -  ║ -  │     1 │ 0.000000 ║     1 │ 28.28938   ║ \n",
      "  10 ║ 0.100000 │  2.59802946760 ║  13.5350279096 ║ 1.244527 │   -  ║ S  │     4 │ 0.125000 ║     1 │ 0.021953   ║ \n",
      "  20 ║ 0.100000 │  2.19206992214 ║  13.1633300318 ║ 0.875737 │   -  ║ S  │     3 │ 0.250000 ║     1 │ 0.022714   ║ \n",
      "  30 ║ 0.100000 │  1.78022218437 ║  13.1123257659 ║ 0.468990 │   -  ║ S  │     8 │ 0.039062 ║     1 │ 0.002266   ║ \n",
      "  40 ║ 0.100000 │  1.62760111526 ║  13.0064275307 ║ 0.326958 │   -  ║ S  │     3 │ 0.250000 ║     1 │ 0.009626   ║ \n",
      "  50 ║ 0.100000 │  1.36861864889 ║  12.9968510787 ║ 0.068934 │   -  ║ S  │     1 │ 1.000000 ║     1 │ 0.006985   ║ \n",
      "  60 ║ 0.100000 │  1.27342223176 ║  12.7342223176 ║ 0.000000 │   -  ║ S  │     4 │ 0.125000 ║     1 │ 0.002375   ║ \n",
      "  70 ║ 0.010000 │  0.12640618287 ║  12.6406182870 ║ 0.000000 │   -  ║ S  │     1 │ 1.000000 ║     1 │ 0.001510   ║ \n",
      "  80 ║ 0.010000 │  0.12442418253 ║  12.4424182529 ║ 0.000000 │   -  ║ S  │     2 │ 2.000000 ║     1 │ 0.009707   ║ \n",
      "  90 ║ 0.010000 │  0.12312547496 ║  12.3125474965 ║ 0.000000 │   -  ║ S  │     2 │ 0.500000 ║     1 │ 0.001033   ║ \n",
      " 100 ║ 0.010000 │  0.12204068566 ║  12.2040685663 ║ 0.000000 │   -  ║ S  │     1 │ 1.000000 ║     1 │ 0.001220   ║ \n",
      " 110 ║ 0.010000 │  0.12147314504 ║  12.1473145039 ║ 0.000000 │   -  ║ S  │     3 │ 0.250000 ║     1 │ 0.004498   ║ \n",
      " 120 ║ 0.010000 │  0.12116039720 ║  12.1160397198 ║ 0.000000 │   -  ║ S  │     1 │ 1.000000 ║     1 │ 3.68e-04   ║ \n",
      " 130 ║ 1.00e-05 │  1.2088386e-04 ║  12.0883863215 ║ 0.000000 │   -  ║ S  │    10 │ 512.0000 ║     1 │ 9.04e-07   ║ \n",
      " 140 ║ 1.00e-05 │  1.2080078e-04 ║  12.0770953686 ║ 2.98e-08 │   -  ║ \u001b[33mSI\u001b[0m │     9 │ 0.003906 ║     1 │ 3.57e-05   ║ \n",
      " 150 ║ 1.00e-06 │  1.2076011e-05 ║  12.0760111201 ║ 0.000000 │   -  ║ S  │     2 │ 0.500000 ║     1 │ 1.85e-06   ║ \n",
      " 160 ║ 1.00e-06 │  1.2073390e-05 ║  12.0733901241 ║ 0.000000 │   -  ║ S  │     3 │ 4.000000 ║     1 │ 1.19e-05   ║ \n",
      " 170 ║ 1.00e-06 │  1.2072481e-05 ║  12.0724805053 ║ 0.000000 │   -  ║ S  │     1 │ 1.000000 ║     1 │ 3.66e-07   ║ \n",
      " 180 ║ 1.00e-06 │  1.2047149e-05 ║  12.0471492630 ║ 0.000000 │   -  ║ S  │     1 │ 1.000000 ║     1 │ 2.13e-04   ║ \n",
      " 190 ║ 1.00e-06 │  1.2029987e-05 ║  12.0299868821 ║ 0.000000 │   -  ║ S  │     2 │ 0.500000 ║     1 │ 28.30672   ║ \n",
      "═════╬═══════════════════════════╬════════════════╬═════════════════╬═══════════════════════╬════════════════════╣\n",
      "     ║ <--- Penalty Function --> ║                ║ Total Violation ║ <--- Line Search ---> ║ <- Stationarity -> ║ \n",
      "Iter ║    Mu    │      Value     ║    Objective   ║   Ineq   │  Eq  ║ SD │ Evals │     t    ║ Grads │    Value   ║ \n",
      "═════╬═══════════════════════════╬════════════════╬═════════════════╬═══════════════════════╬════════════════════╣\n",
      " 200 ║ 1.00e-06 │  1.2024761e-05 ║  12.0247609034 ║ 0.000000 │   -  ║ S  │     2 │ 2.000000 ║     1 │ 9.37e-06   ║ \n",
      "═════╩═══════════════════════════╩════════════════╩═════════════════╩═══════════════════════╩════════════════════╣\n",
      "Optimization results:                                                                                            ║ \n",
      "F = final iterate, B = Best (to tolerance), MF = Most Feasible                                                   ║ \n",
      "═════╦═══════════════════════════╦════════════════╦═════════════════╦═══════════════════════╦════════════════════╣\n",
      "   F ║          │                ║  12.0247609034 ║ 0.000000 │   -  ║    │       │          ║       │            ║ \n",
      "   B ║          │                ║  12.0247023983 ║ 0.000000 │   -  ║    │       │          ║       │            ║ \n",
      "  MF ║          │                ║  12.0247023983 ║ 0.000000 │   -  ║    │       │          ║       │            ║ \n",
      "═════╩═══════════════════════════╩════════════════╩═════════════════╩═══════════════════════╩════════════════════╣\n",
      "Iterations:              200                                                                                     ║ \n",
      "Function evaluations:    736                                                                                     ║ \n",
      "NCVX termination code: 4 --- max iterations reached.                                                             ║ \n",
      "═════════════════════════════════════════════════════════════════════════════════════════════════════════════════╝\n",
      "Total Wall Time: 52.16447925567627s\n"
     ]
    }
   ],
   "source": [
    "opts.maxit = 200\n",
    "opts.x0 = torch.zeros(p*m,1).to(device=device, dtype=torch.double)\n",
    "# print for every 10 iterations. default: 1\n",
    "opts.print_frequency = 10\n",
    "\n",
    "start = time.time()\n",
    "soln = ncvx(combinedFunction = comb_fn,var_dim_map = var_in, torch_device = device, user_opts = opts)\n",
    "end = time.time()\n",
    "print(\"Total Wall Time: {}s\".format(end - start))"
   ]
  },
  {
   "cell_type": "markdown",
   "id": "c1abe9e7",
   "metadata": {},
   "source": [
    "In my testing, with default parameters, NCVX will first obtain a\n",
    "feasible solution at iter ~= 160 and will reduce the objective to\n",
    "11.60 by the time it attains max iteration count of 200.\n",
    "\n",
    "With feasibility_bias = True, in my testing, NCVX will obtain its\n",
    "first feasible solution earlier, at iter ~= 60, but it will ultimately\n",
    "have reduced the objective value less, only to 12.21, by the end of\n",
    "its 200 maximum allowed iterations."
   ]
  }
 ],
 "metadata": {
  "kernelspec": {
   "display_name": "Python 3 (ipykernel)",
   "language": "python",
   "name": "python3"
  },
  "language_info": {
   "codemirror_mode": {
    "name": "ipython",
    "version": 3
   },
   "file_extension": ".py",
   "mimetype": "text/x-python",
   "name": "python",
   "nbconvert_exporter": "python",
   "pygments_lexer": "ipython3",
   "version": "3.9.7"
  }
 },
 "nbformat": 4,
 "nbformat_minor": 5
}
