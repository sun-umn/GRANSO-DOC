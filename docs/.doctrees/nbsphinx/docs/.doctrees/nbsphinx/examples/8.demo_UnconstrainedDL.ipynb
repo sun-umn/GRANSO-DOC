{
 "cells": [
  {
   "cell_type": "markdown",
   "id": "5257bb27",
   "metadata": {},
   "source": [
    "# Unconstrained Deep Learning Problem\n",
    "\n",
    "This notebook contains examples of how to train unconstrained deep learning (modified LeNet5).\n",
    "\n",
    "Reference: https://pytorch.org/tutorials/beginner/blitz/neural_networks_tutorial.html"
   ]
  },
  {
   "cell_type": "markdown",
   "id": "c859c154",
   "metadata": {},
   "source": [
    "## Problem Description"
   ]
  },
  {
   "cell_type": "markdown",
   "id": "b96269c7",
   "metadata": {},
   "source": [
    "TODO"
   ]
  },
  {
   "cell_type": "markdown",
   "id": "08dfdd50",
   "metadata": {},
   "source": [
    "## Modules Importing\n",
    "Import all necessary modules and add NCVX src folder to system path. NCVX src folder to system path."
   ]
  },
  {
   "cell_type": "code",
   "execution_count": 1,
   "id": "90ed32f9",
   "metadata": {},
   "outputs": [],
   "source": [
    "import time\n",
    "import torch\n",
    "import sys\n",
    "## Adding NCVX directories. Should be modified by user\n",
    "sys.path.append('/home/buyun/Documents/GitHub/NCVX')\n",
    "from ncvx import ncvx\n",
    "from ncvxStruct import Options, GeneralStruct \n",
    "from private.getNvar import getNvarTorch\n",
    "import torch.nn as nn\n",
    "import torchvision.transforms as transforms\n",
    "import torch.nn.functional as F\n",
    "import torchvision"
   ]
  },
  {
   "cell_type": "markdown",
   "id": "17a1b7fe",
   "metadata": {},
   "source": [
    "## Data Generation \n",
    "Specify torch device, neural network architecture, and generate data.\n",
    "\n",
    "NOTE: please specify path for downloading data"
   ]
  },
  {
   "cell_type": "code",
   "execution_count": 2,
   "id": "8b4842e1",
   "metadata": {},
   "outputs": [
    {
     "name": "stdout",
     "output_type": "stream",
     "text": [
      "Files already downloaded and verified\n"
     ]
    }
   ],
   "source": [
    "device = torch.device('cuda')\n",
    "\n",
    "class Net(nn.Module):\n",
    "     def __init__(self):\n",
    "             super().__init__()\n",
    "             self.conv1 = nn.Conv2d(3, 6, 5)\n",
    "             self.conv1_bn = nn.BatchNorm2d(6)\n",
    "             self.pool = nn.MaxPool2d(2, 2)\n",
    "             self.conv2 = nn.Conv2d(6, 8, 9)\n",
    "             self.conv2_bn = nn.BatchNorm2d(8)\n",
    "             self.fc1 = nn.Linear(8 * 3 * 3, 30)\n",
    "             self.fc1_bn = nn.BatchNorm1d(30)\n",
    "             self.fc2 = nn.Linear(30, 20)\n",
    "             self.fc2_bn = nn.BatchNorm1d(20)\n",
    "             self.fc3 = nn.Linear(20, 10)\n",
    "\n",
    "     def forward(self, x):\n",
    "             x = self.pool(F.elu( self.conv1_bn(self.conv1(x))  ))\n",
    "             x = self.pool(F.elu( self.conv2_bn(self.conv2(x))  ))\n",
    "             x = torch.flatten(x, 1) # flatten all dimensions except batch\n",
    "             x = F.elu( self.fc1_bn(self.fc1(x)) )\n",
    "             x = F.elu( self.fc2_bn(self.fc2(x)) )\n",
    "             x = self.fc3(x)\n",
    "             return x\n",
    "\n",
    "# fix model parameters\n",
    "torch.manual_seed(0)\n",
    "model = Net().to(device=device, dtype=torch.double)\n",
    "\n",
    "transform = transforms.Compose([transforms.ToTensor(),transforms.Normalize((0.5, 0.5, 0.5), (0.5, 0.5, 0.5))])\n",
    "batch_size = 1000\n",
    "trainset = torchvision.datasets.CIFAR10(root='/home/buyun/Documents/GitHub/NCVX/examples', train=True, download=True, transform=transform)\n",
    "\n",
    "trainloader = torch.utils.data.DataLoader(trainset, batch_size=batch_size, shuffle=False, num_workers=2)\n",
    "# data_in\n",
    "for i, data in enumerate(trainloader, 0):        \n",
    "    if i >= 1:\n",
    "         break   \n",
    "    # get the inputs; data is a list of [inputs, labels]\n",
    "    inputs, labels = data\n",
    "    \n",
    "labels = labels.to(device=device ) # label/target [256]\n",
    "inputs = inputs.to(device=device, dtype=torch.double) # input data [256,3,32,32]"
   ]
  },
  {
   "cell_type": "markdown",
   "id": "ec80716b",
   "metadata": {},
   "source": [
    "## Problem Definition\n",
    "\n",
    "Spceify torch device, optimization variables, and corresponding objective and constrained function.\n",
    "\n",
    "Note: please strictly follow the format of evalObjFunction and combinedFunction, which will be used in the NCVX main algortihm. *X_struct* and *data_in* are always required."
   ]
  },
  {
   "cell_type": "code",
   "execution_count": 3,
   "id": "fb360e75",
   "metadata": {},
   "outputs": [],
   "source": [
    "# variables and corresponding dimensions.\n",
    "var_in = {}\n",
    "var_count = 0\n",
    "var_str = \"x\"\n",
    "for i in model.parameters():\n",
    "    # print(i.shape)\n",
    "    var_in[var_str+str(var_count)]= list(i.shape)\n",
    "    var_count += 1\n",
    "\n",
    "def obj_eval_fn(X_struct):\n",
    "    # objective function\n",
    "    var_str = \"x\"\n",
    "    var_count = 0\n",
    "    for p in model.parameters():\n",
    "        tmpstr = var_str+str(var_count)\n",
    "        tmp_parameter = getattr(X_struct,tmpstr)\n",
    "        tmp_parameter.requires_grad_(True)\n",
    "        p.data = tmp_parameter # update model parameters\n",
    "        var_count += 1\n",
    "    \n",
    "    outputs = model(inputs)\n",
    "    criterion = nn.CrossEntropyLoss()\n",
    "    f = criterion(outputs, labels)\n",
    "    return f\n",
    "    \n",
    "\n",
    "def comb_fn(X_struct):\n",
    "    # objective function\n",
    "    var_str = \"x\"\n",
    "    var_count = 0\n",
    "    for p in model.parameters():\n",
    "        tmpstr = var_str+str(var_count)\n",
    "        tmp_parameter = getattr(X_struct,tmpstr)\n",
    "        tmp_parameter.requires_grad_(True)\n",
    "        p.data = tmp_parameter # update model parameters\n",
    "        var_count += 1\n",
    "    \n",
    "    outputs = model(inputs)\n",
    "    criterion = nn.CrossEntropyLoss()\n",
    "    f = criterion(outputs, labels)\n",
    "    ci = None\n",
    "    ce = None\n",
    "    return [f,ci,ce]\n"
   ]
  },
  {
   "cell_type": "markdown",
   "id": "f0f55ace",
   "metadata": {},
   "source": [
    "## User Options\n",
    "Specify user-defined options for NCVX algorithm"
   ]
  },
  {
   "cell_type": "code",
   "execution_count": 4,
   "id": "f3a65b57",
   "metadata": {},
   "outputs": [],
   "source": [
    "opts = Options()\n",
    "nvar = getNvarTorch(model.parameters())\n",
    "opts.QPsolver = 'osqp' \n",
    "opts.maxit = 100\n",
    "opts.x0 = torch.nn.utils.parameters_to_vector(model.parameters()).detach().reshape(nvar,1)\n",
    "opts.opt_tol = 1e-6\n",
    "opts.fvalquit = 1e-6\n",
    "opts.print_level = 1\n",
    "opts.print_frequency = 10\n",
    "# opts.print_ascii = True\n",
    "opts.halt_on_linesearch_bracket = False\n",
    "opts.max_fallback_level = 3\n",
    "opts.min_fallback_level = 2\n",
    "opts.init_step_size = 1e-2\n",
    "opts.linesearch_maxit = 25\n",
    "opts.is_backtrack_linesearch = True\n",
    "opts.searching_direction_rescaling = True\n",
    "opts.disable_terminationcode_6 = True"
   ]
  },
  {
   "cell_type": "markdown",
   "id": "754ba30a",
   "metadata": {},
   "source": [
    "## Initial Test \n",
    "Check initial accuracy of LeNet5 model"
   ]
  },
  {
   "cell_type": "code",
   "execution_count": 5,
   "id": "711f0e9c",
   "metadata": {},
   "outputs": [
    {
     "name": "stdout",
     "output_type": "stream",
     "text": [
      "Initial acc = 0.102\n"
     ]
    },
    {
     "name": "stderr",
     "output_type": "stream",
     "text": [
      "/home/buyun/anaconda3/envs/cuosqp_pygranso/lib/python3.9/site-packages/torch/nn/functional.py:718: UserWarning: Named tensors and all their associated APIs are an experimental feature and subject to change. Please do not use them for anything important until they are released as stable. (Triggered internally at  /opt/conda/conda-bld/pytorch_1623448255797/work/c10/core/TensorImpl.h:1156.)\n",
      "  return torch.max_pool2d(input, kernel_size, stride, padding, dilation, ceil_mode)\n"
     ]
    }
   ],
   "source": [
    "outputs = model(inputs )\n",
    "acc = (outputs.max(1)[1] == labels).sum().item()/labels.size(0)\n",
    "\n",
    "print(\"Initial acc = {}\".format(acc)) "
   ]
  },
  {
   "cell_type": "markdown",
   "id": "8bca18c7",
   "metadata": {},
   "source": [
    "## Main Algorithm"
   ]
  },
  {
   "cell_type": "code",
   "execution_count": 6,
   "id": "632976b3",
   "metadata": {},
   "outputs": [
    {
     "name": "stdout",
     "output_type": "stream",
     "text": [
      "\n",
      "\n",
      "\u001b[33m╔═════ QP SOLVER NOTICE ════════════════════════════════════════════════════════════════════╗\n",
      "\u001b[0m\u001b[33m║  NCVX requires a quadratic program (QP) solver that has a quadprog-compatible interface,  ║\n",
      "\u001b[0m\u001b[33m║  the default is osqp. Users may provide their own wrapper for the QP solver.              ║\n",
      "\u001b[0m\u001b[33m║  To disable this notice, set opts.quadprog_info_msg = False                               ║\n",
      "\u001b[0m\u001b[33m╚═══════════════════════════════════════════════════════════════════════════════════════════╝\n",
      "\u001b[0m══════════════════════════════════════════════════════════════════════════════════════════════╗\n",
      "NCVX: A User-Friendly and Scalable Package for Nonconvex Optimization in Machine Learning     ║ \n",
      "Version 1.1.0                                                                                 ║ \n",
      "MIT License Copyright (c) 2021 SUN Group @ UMN                                                ║ \n",
      "══════════════════════════════════════════════════════════════════════════════════════════════╣\n",
      "Problem specifications:                                                                       ║ \n",
      " # of variables                     :   7500                                                  ║ \n",
      " # of inequality constraints        :      0                                                  ║ \n",
      " # of equality constraints          :      0                                                  ║ \n",
      "═════╦════════════╦════════════════╦═════════════╦═══════════════════════╦════════════════════╣\n",
      "     ║ Penalty Fn ║                ║  Violation  ║ <--- Line Search ---> ║ <- Stationarity -> ║ \n",
      "Iter ║ Mu │ Value ║    Objective   ║ Ineq │  Eq  ║ SD │ Evals │     t    ║ Grads │    Value   ║ \n",
      "═════╬════════════╬════════════════╬═════════════╬═══════════════════════╬════════════════════╣\n",
      "   0 ║  - │   -   ║  2.39541706590 ║   -  │   -  ║ -  │     1 │ 0.000000 ║     1 │ 1.473948   ║ \n",
      "  10 ║  - │   -   ║  2.27132733716 ║   -  │   -  ║ QN │     2 │ 0.010000 ║     1 │ 293669.1   ║ \n",
      "  20 ║  - │   -   ║  2.19902353537 ║   -  │   -  ║ QN │     2 │ 0.010000 ║     1 │ 1.62e+06   ║ \n",
      "  30 ║  - │   -   ║  2.14946733209 ║   -  │   -  ║ QN │     2 │ 0.010000 ║     1 │ 5.10e+06   ║ \n",
      "  40 ║  - │   -   ║  2.10467012518 ║   -  │   -  ║ QN │     2 │ 0.010000 ║     1 │ 1.11e+07   ║ \n",
      "  50 ║  - │   -   ║  2.06110591283 ║   -  │   -  ║ QN │     2 │ 0.010000 ║     1 │ 1.97e+07   ║ \n",
      "  60 ║  - │   -   ║  2.02044534501 ║   -  │   -  ║ QN │     2 │ 0.010000 ║     1 │ 3.44e+07   ║ \n",
      "  70 ║  - │   -   ║  1.98459798341 ║   -  │   -  ║ QN │     2 │ 0.010000 ║     1 │ 6.93e+07   ║ \n",
      "  80 ║  - │   -   ║  1.95391914732 ║   -  │   -  ║ QN │     2 │ 0.010000 ║     1 │ 1.31e+08   ║ \n",
      "  90 ║  - │   -   ║  1.92816199455 ║   -  │   -  ║ QN │     2 │ 0.010000 ║     1 │ 1.55e+08   ║ \n",
      " 100 ║  - │   -   ║  1.90350858123 ║   -  │   -  ║ QN │     2 │ 0.010000 ║     1 │ 1.67e+08   ║ \n",
      "═════╩════════════╩════════════════╩═════════════╩═══════════════════════╩════════════════════╣\n",
      "F = final iterate, B = Best (to tolerance), MF = Most Feasible                                ║ \n",
      "Optimization results:                                                                         ║ \n",
      "═════╦════════════╦════════════════╦═════════════╦═══════════════════════╦════════════════════╣\n",
      "   F ║    │       ║  1.90350858123 ║   -  │   -  ║    │       │          ║       │            ║ \n",
      "   B ║    │       ║  1.90350858123 ║   -  │   -  ║    │       │          ║       │            ║ \n",
      "═════╩════════════╩════════════════╩═════════════╩═══════════════════════╩════════════════════╣\n",
      "Iterations:              100                                                                  ║ \n",
      "Function evaluations:    201                                                                  ║ \n",
      "NCVX termination code: 4 --- max iterations reached.                                          ║ \n",
      "══════════════════════════════════════════════════════════════════════════════════════════════╝\n",
      "Total Wall Time: 7.652892351150513s\n"
     ]
    }
   ],
   "source": [
    "start = time.time()\n",
    "soln = ncvx(combinedFunction = comb_fn, objEvalFunction = obj_eval_fn, var_dim_map = var_in, nn_model= model, torch_device = device, user_opts = opts)\n",
    "end = time.time()\n",
    "print(\"Total Wall Time: {}s\".format(end - start))"
   ]
  },
  {
   "cell_type": "markdown",
   "id": "21bff5fd",
   "metadata": {},
   "source": [
    "## Train Accuracy"
   ]
  },
  {
   "cell_type": "code",
   "execution_count": 7,
   "id": "8d846f87",
   "metadata": {},
   "outputs": [
    {
     "name": "stdout",
     "output_type": "stream",
     "text": [
      "Train acc = 0.358\n"
     ]
    }
   ],
   "source": [
    "torch.nn.utils.vector_to_parameters(soln.final.x, model.parameters())\n",
    "outputs = model(inputs)\n",
    "acc = (outputs.max(1)[1] == labels).sum().item()/labels.size(0)\n",
    "print(\"Train acc = {}\".format(acc))"
   ]
  },
  {
   "cell_type": "markdown",
   "id": "8fdcfe0c",
   "metadata": {},
   "source": [
    "## Test Accuracy"
   ]
  },
  {
   "cell_type": "code",
   "execution_count": 8,
   "id": "cfe9a47e",
   "metadata": {},
   "outputs": [
    {
     "name": "stdout",
     "output_type": "stream",
     "text": [
      "Files already downloaded and verified\n",
      "Test acc = 0.292\n"
     ]
    }
   ],
   "source": [
    "testset = torchvision.datasets.CIFAR10(root='/home/buyun/Documents/GitHub/NCVX/examples', train=False,\n",
    "                                       download=True, transform=transform)\n",
    "testloader = torch.utils.data.DataLoader(testset, batch_size=batch_size,\n",
    "                                         shuffle=True, num_workers=2)\n",
    "\n",
    "for i, data in enumerate(testloader, 0):        \n",
    "    if i >= 3:\n",
    "         break   \n",
    "    # get the inputs; data is a list of [inputs, labels]\n",
    "    test_inputs, test_labels = data\n",
    "    \n",
    "test_labels = test_labels.to(device=device ) # label/target [256]\n",
    "test_inputs = test_inputs.to(device=device, dtype=torch.double) # input data [256,3,32,32]\n",
    "\n",
    "test_outputs = model(test_inputs)\n",
    "test_acc = (test_outputs.max(1)[1] == test_labels).sum().item()/test_labels.size(0)\n",
    "print(\"Test acc = {}\".format(test_acc))"
   ]
  },
  {
   "cell_type": "markdown",
   "id": "34b1d23a",
   "metadata": {},
   "source": [
    "## Continue Training"
   ]
  },
  {
   "cell_type": "code",
   "execution_count": 9,
   "id": "f337937b",
   "metadata": {},
   "outputs": [
    {
     "name": "stdout",
     "output_type": "stream",
     "text": [
      "iter 200:\n",
      "Train acc = 0.391\n",
      "Test acc = 0.327\n",
      "iter 300:\n",
      "Train acc = 0.432\n",
      "Test acc = 0.337\n",
      "iter 400:\n",
      "Train acc = 0.502\n",
      "Test acc = 0.339\n",
      "iter 500:\n",
      "Train acc = 0.547\n",
      "Test acc = 0.362\n",
      "iter 600:\n",
      "Train acc = 0.586\n",
      "Test acc = 0.372\n",
      "iter 700:\n",
      "Train acc = 0.633\n",
      "Test acc = 0.339\n",
      "iter 800:\n",
      "Train acc = 0.669\n",
      "Test acc = 0.324\n",
      "iter 900:\n",
      "Train acc = 0.722\n",
      "Test acc = 0.324\n",
      "iter 1000:\n",
      "Train acc = 0.754\n",
      "Test acc = 0.328\n",
      "iter 1100:\n",
      "Train acc = 0.779\n",
      "Test acc = 0.327\n",
      "iter 1200:\n",
      "Train acc = 0.829\n",
      "Test acc = 0.331\n",
      "iter 1300:\n",
      "Train acc = 0.855\n",
      "Test acc = 0.317\n",
      "iter 1400:\n",
      "Train acc = 0.878\n",
      "Test acc = 0.322\n",
      "iter 1500:\n",
      "Train acc = 0.9\n",
      "Test acc = 0.308\n",
      "iter 1600:\n",
      "Train acc = 0.93\n",
      "Test acc = 0.317\n",
      "iter 1700:\n",
      "Train acc = 0.946\n",
      "Test acc = 0.317\n",
      "iter 1800:\n",
      "Train acc = 0.968\n",
      "Test acc = 0.315\n",
      "iter 1900:\n",
      "Train acc = 0.98\n",
      "Test acc = 0.305\n",
      "iter 2000:\n",
      "Train acc = 0.993\n",
      "Test acc = 0.296\n",
      "iter 2100:\n",
      "Train acc = 0.994\n",
      "Test acc = 0.295\n",
      "iter 2200:\n",
      "Train acc = 0.995\n",
      "Test acc = 0.297\n",
      "iter 2300:\n",
      "Train acc = 0.998\n",
      "Test acc = 0.295\n",
      "iter 2400:\n",
      "Train acc = 1.0\n",
      "Test acc = 0.295\n",
      "iter 2500:\n",
      "Train acc = 1.0\n",
      "Test acc = 0.298\n",
      "iter 2600:\n",
      "Train acc = 1.0\n",
      "Test acc = 0.299\n",
      "iter 2700:\n",
      "Train acc = 1.0\n",
      "Test acc = 0.299\n",
      "iter 2800:\n",
      "Train acc = 1.0\n",
      "Test acc = 0.301\n",
      "iter 2900:\n",
      "Train acc = 1.0\n",
      "Test acc = 0.301\n",
      "iter 3000:\n",
      "Train acc = 1.0\n",
      "Test acc = 0.301\n",
      "iter 3100:\n",
      "Train acc = 1.0\n",
      "Test acc = 0.301\n"
     ]
    }
   ],
   "source": [
    "opts.print_level = 0\n",
    "for i in range (30):\n",
    "    # restart\n",
    "    opts.x0 = soln.final.x\n",
    "    torch.nn.utils.vector_to_parameters(soln.final.x, model.parameters())\n",
    "    soln = ncvx(combinedFunction = comb_fn, objEvalFunction = obj_eval_fn, var_dim_map = var_in, nn_model= model, torch_device = device, user_opts = opts)\n",
    "    torch.nn.utils.vector_to_parameters(soln.final.x, model.parameters())\n",
    "    print(\"iter %d00:\"%(i+2))\n",
    "    # train acc\n",
    "    outputs = model(inputs)\n",
    "    acc = (outputs.max(1)[1] == labels).sum().item()/labels.size(0)\n",
    "    print(\"Train acc = {}\".format(acc))\n",
    "    # test acc\n",
    "    test_outputs = model(test_inputs)\n",
    "    test_acc = (test_outputs.max(1)[1] == test_labels).sum().item()/test_labels.size(0)\n",
    "    print(\"Test acc = {}\".format(test_acc))"
   ]
  }
 ],
 "metadata": {
  "kernelspec": {
   "display_name": "Python 3 (ipykernel)",
   "language": "python",
   "name": "python3"
  },
  "language_info": {
   "codemirror_mode": {
    "name": "ipython",
    "version": 3
   },
   "file_extension": ".py",
   "mimetype": "text/x-python",
   "name": "python",
   "nbconvert_exporter": "python",
   "pygments_lexer": "ipython3",
   "version": "3.9.7"
  }
 },
 "nbformat": 4,
 "nbformat_minor": 5
}
