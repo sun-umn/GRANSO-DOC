{
 "cells": [
  {
   "cell_type": "markdown",
   "id": "5257bb27",
   "metadata": {},
   "source": [
    "# Sphere Manifold\n",
    "\n",
    "This notebook contains examples of optimization on a sphere manifold.\n",
    "\n",
    "Reference: https://www.manopt.org/manifold_documentation_sphere.html\n"
   ]
  },
  {
   "cell_type": "markdown",
   "id": "a2ca043d",
   "metadata": {},
   "source": [
    "## Problem Description"
   ]
  },
  {
   "cell_type": "markdown",
   "id": "5ae4094e",
   "metadata": {},
   "source": [
    "$$\\min_{x}x^TAx,$$\n",
    "$$\\text{s.t. }x^Tx=1,$$"
   ]
  },
  {
   "cell_type": "markdown",
   "id": "08dfdd50",
   "metadata": {},
   "source": [
    "## Modules Importing\n",
    "Import all necessary modules and add NCVX src folder to system path."
   ]
  },
  {
   "cell_type": "code",
   "execution_count": 1,
   "id": "90ed32f9",
   "metadata": {},
   "outputs": [],
   "source": [
    "import time\n",
    "import torch\n",
    "import sys\n",
    "## Adding NCVX directories. Should be modified by user\n",
    "sys.path.append('/home/buyun/Documents/GitHub/NCVX')\n",
    "from ncvx import ncvx\n",
    "from ncvxStruct import Options, GeneralStruct "
   ]
  },
  {
   "cell_type": "markdown",
   "id": "17a1b7fe",
   "metadata": {},
   "source": [
    "## Data Generation \n",
    "Specify torch device, and generate data"
   ]
  },
  {
   "cell_type": "code",
   "execution_count": 2,
   "id": "8b4842e1",
   "metadata": {},
   "outputs": [],
   "source": [
    "device = torch.device( 'cuda')\n",
    "torch.manual_seed(0)\n",
    "n = 500\n",
    "A = torch.randn((n,n)).to(device=device, dtype=torch.double)\n",
    "A = .5*(A+A.T)"
   ]
  },
  {
   "cell_type": "markdown",
   "id": "ec80716b",
   "metadata": {},
   "source": [
    "## Problem Definition\n",
    "\n",
    "Spceify torch device, optimization variables, and corresponding objective and constrained function.\n",
    "\n",
    "Note: please strictly follow the format of evalObjFunction and combinedFunction, which will be used in the NCVX main algortihm. *X_struct* is always required."
   ]
  },
  {
   "cell_type": "code",
   "execution_count": 3,
   "id": "fb360e75",
   "metadata": {},
   "outputs": [],
   "source": [
    "# variables and corresponding dimensions.\n",
    "var_in = {\"x\": [n,1]}\n",
    "\n",
    "\n",
    "def comb_fn(X_struct):\n",
    "    x = X_struct.x\n",
    "    x.requires_grad_(True)\n",
    "    \n",
    "    # objective function\n",
    "    f = x.T@A@x\n",
    "\n",
    "    # inequality constraint, matrix form\n",
    "    ci = None\n",
    "    \n",
    "    # equality constraint \n",
    "    ce = GeneralStruct()\n",
    "    ce.c1 = x.T@x-1\n",
    "\n",
    "    return [f,ci,ce]\n"
   ]
  },
  {
   "cell_type": "markdown",
   "id": "f0f55ace",
   "metadata": {},
   "source": [
    "## User Options\n",
    "Specify user-defined options for NCVX algorithm"
   ]
  },
  {
   "cell_type": "code",
   "execution_count": 4,
   "id": "f3a65b57",
   "metadata": {},
   "outputs": [],
   "source": [
    "opts = Options()\n",
    "opts.print_frequency = 10\n",
    "opts.x0 = torch.randn((n,1)).to(device=device, dtype=torch.double)\n",
    "opts.mu0 = 0.1 # increase penalty contribution\n",
    "opts.opt_tol = 1e-6"
   ]
  },
  {
   "cell_type": "markdown",
   "id": "8bca18c7",
   "metadata": {},
   "source": [
    "## Main Algorithm"
   ]
  },
  {
   "cell_type": "code",
   "execution_count": 5,
   "id": "632976b3",
   "metadata": {},
   "outputs": [
    {
     "name": "stdout",
     "output_type": "stream",
     "text": [
      "\n",
      "\n",
      "\u001b[33m╔═════ QP SOLVER NOTICE ════════════════════════════════════════════════════════════════════╗\n",
      "\u001b[0m\u001b[33m║  NCVX requires a quadratic program (QP) solver that has a quadprog-compatible interface,  ║\n",
      "\u001b[0m\u001b[33m║  the default is osqp. Users may provide their own wrapper for the QP solver.              ║\n",
      "\u001b[0m\u001b[33m║  To disable this notice, set opts.quadprog_info_msg = False                               ║\n",
      "\u001b[0m\u001b[33m╚═══════════════════════════════════════════════════════════════════════════════════════════╝\n",
      "\u001b[0m═════════════════════════════════════════════════════════════════════════════════════════════════════════════════╗\n",
      "NCVX: A User-Friendly and Scalable Package for Nonconvex Optimization in Machine Learning                        ║ \n",
      "Version 1.1.0                                                                                                    ║ \n",
      "MIT License Copyright (c) 2021 SUN Group @ UMN                                                                   ║ \n",
      "═════════════════════════════════════════════════════════════════════════════════════════════════════════════════╣\n",
      "Problem specifications:                                                                                          ║ \n",
      " # of variables                     :   500                                                                      ║ \n",
      " # of inequality constraints        :     0                                                                      ║ \n",
      " # of equality constraints          :     1                                                                      ║ \n",
      "═════╦═══════════════════════════╦════════════════╦═════════════════╦═══════════════════════╦════════════════════╣\n",
      "     ║ <--- Penalty Function --> ║                ║ Total Violation ║ <--- Line Search ---> ║ <- Stationarity -> ║ \n",
      "Iter ║    Mu    │      Value     ║    Objective   ║ Ineq │    Eq    ║ SD │ Evals │     t    ║ Grads │    Value   ║ \n",
      "═════╬═══════════════════════════╬════════════════╬═════════════════╬═══════════════════════╬════════════════════╣\n",
      "   0 ║ 0.100000 │  478.384855929 ║  239.734202049 ║   -  │ 454.4114 ║ -  │     1 │ 0.000000 ║     1 │ 73.30528   ║ \n",
      "  10 ║ 0.031381 │  16.1806670301 ║ -6641.92770430 ║   -  │ 224.6114 ║ S  │     1 │ 1.000000 ║     1 │ 0.777491   ║ \n",
      "  20 ║ 0.031381 │  0.58236199122 ║ -1610.15525675 ║   -  │ 51.11074 ║ S  │     1 │ 1.000000 ║     1 │ 0.174202   ║ \n",
      "  30 ║ 0.025419 │ -0.74818668310 ║ -30.4506049809 ║   -  │ 0.025827 ║ S  │     1 │ 1.000000 ║     1 │ 0.090876   ║ \n",
      "  40 ║ 0.025419 │ -0.79792878103 ║ -31.4167836922 ║   -  │ 6.44e-04 ║ S  │     1 │ 1.000000 ║     1 │ 0.016662   ║ \n",
      "  50 ║ 0.025419 │ -0.79933952970 ║ -31.4488728989 ║   -  │ 4.86e-05 ║ S  │     1 │ 1.000000 ║     1 │ 0.004577   ║ \n",
      "  60 ║ 0.025419 │ -0.79955254327 ║ -31.4563740807 ║   -  │ 2.63e-05 ║ S  │     1 │ 1.000000 ║     1 │ 0.004087   ║ \n",
      "  70 ║ 0.025419 │ -0.79964886256 ║ -31.4595787209 ║   -  │ 1.14e-05 ║ S  │     1 │ 1.000000 ║     1 │ 0.002907   ║ \n",
      "  80 ║ 0.025419 │ -0.79968510705 ║ -31.4607527492 ║   -  │ 5.02e-06 ║ S  │     1 │ 1.000000 ║     1 │ 0.001998   ║ \n",
      "  90 ║ 0.025419 │ -0.79969928630 ║ -31.4611951908 ║   -  │ 2.08e-06 ║ S  │     1 │ 1.000000 ║     1 │ 0.001324   ║ \n",
      " 100 ║ 0.025419 │ -0.79970607464 ║ -31.4614232530 ║   -  │ 1.09e-06 ║ S  │     1 │ 1.000000 ║     1 │ 9.69e-04   ║ \n",
      " 110 ║ 0.025419 │ -0.79970908415 ║ -31.4615153362 ║   -  │ 4.23e-07 ║ S  │     1 │ 1.000000 ║     1 │ 6.07e-04   ║ \n",
      " 120 ║ 0.025419 │ -0.79971027746 ║ -31.4615522225 ║   -  │ 1.68e-07 ║ S  │     1 │ 1.000000 ║     1 │ 3.82e-04   ║ \n",
      " 130 ║ 0.025419 │ -0.79971069279 ║ -31.4615639647 ║   -  │ 5.07e-08 ║ S  │     1 │ 1.000000 ║     1 │ 2.10e-04   ║ \n",
      " 140 ║ 0.025419 │ -0.79971081454 ║ -31.4615673607 ║   -  │ 1.53e-08 ║ S  │     1 │ 1.000000 ║     1 │ 1.16e-04   ║ \n",
      " 150 ║ 0.025419 │ -0.79971085415 ║ -31.4615685353 ║   -  │ 5.51e-09 ║ S  │     1 │ 1.000000 ║     1 │ 6.99e-05   ║ \n",
      " 160 ║ 0.025419 │ -0.79971086872 ║ -31.4615689720 ║   -  │ 2.04e-09 ║ S  │     1 │ 1.000000 ║     1 │ 4.26e-05   ║ \n",
      " 170 ║ 0.025419 │ -0.79971087397 ║ -31.4615691269 ║   -  │ 7.21e-10 ║ S  │     1 │ 1.000000 ║     1 │ 2.54e-05   ║ \n",
      " 180 ║ 0.025419 │ -0.79971087584 ║ -31.4615691822 ║   -  │ 2.57e-10 ║ S  │     1 │ 1.000000 ║     1 │ 1.52e-05   ║ \n",
      " 190 ║ 0.025419 │ -0.79971087649 ║ -31.4615692012 ║   -  │ 8.77e-11 ║ S  │     1 │ 1.000000 ║     1 │ 8.85e-06   ║ \n",
      "═════╬═══════════════════════════╬════════════════╬═════════════════╬═══════════════════════╬════════════════════╣\n",
      "     ║ <--- Penalty Function --> ║                ║ Total Violation ║ <--- Line Search ---> ║ <- Stationarity -> ║ \n",
      "Iter ║    Mu    │      Value     ║    Objective   ║ Ineq │    Eq    ║ SD │ Evals │     t    ║ Grads │    Value   ║ \n",
      "═════╬═══════════════════════════╬════════════════╬═════════════════╬═══════════════════════╬════════════════════╣\n",
      " 200 ║ 0.025419 │ -0.79971087672 ║ -31.4615692077 ║   -  │ 3.01e-11 ║ S  │     1 │ 1.000000 ║     1 │ 5.19e-06   ║ \n",
      " 210 ║ 0.025419 │ -0.79971087679 ║ -31.4615692100 ║   -  │ 1.07e-11 ║ S  │     1 │ 1.000000 ║     1 │ 3.10e-06   ║ \n",
      " 220 ║ 0.025419 │ -0.79971087682 ║ -31.4615692108 ║   -  │ 3.66e-12 ║ S  │     1 │ 1.000000 ║     1 │ 1.81e-06   ║ \n",
      " 230 ║ 0.025419 │ -0.79971087683 ║ -31.4615692110 ║   -  │ 1.30e-12 ║ S  │     1 │ 1.000000 ║     1 │ 1.08e-06   ║ \n",
      "═════╩═══════════════════════════╩════════════════╩═════════════════╩═══════════════════════╩════════════════════╣\n",
      "Optimization results:                                                                                            ║ \n",
      "F = final iterate, B = Best (to tolerance), MF = Most Feasible                                                   ║ \n",
      "═════╦═══════════════════════════╦════════════════╦═════════════════╦═══════════════════════╦════════════════════╣\n",
      "   F ║          │                ║ -31.4615692111 ║   -  │ 1.06e-12 ║    │       │          ║       │            ║ \n",
      "   B ║          │                ║ -31.4615692111 ║   -  │ 1.06e-12 ║    │       │          ║       │            ║ \n",
      "  MF ║          │                ║ -31.4615692111 ║   -  │ 1.06e-12 ║    │       │          ║       │            ║ \n",
      "═════╩═══════════════════════════╩════════════════╩═════════════════╩═══════════════════════╩════════════════════╣\n",
      "Iterations:              232                                                                                     ║ \n",
      "Function evaluations:    239                                                                                     ║ \n",
      "NCVX termination code: 0 --- converged to stationarity and feasibility tolerances.                               ║ \n",
      "═════════════════════════════════════════════════════════════════════════════════════════════════════════════════╝\n",
      "Total Wall Time: 2.23077130317688s\n"
     ]
    }
   ],
   "source": [
    "start = time.time()\n",
    "soln = ncvx(combinedFunction = comb_fn,var_dim_map = var_in, torch_device = device, user_opts = opts)\n",
    "end = time.time()\n",
    "print(\"Total Wall Time: {}s\".format(end - start))"
   ]
  }
 ],
 "metadata": {
  "kernelspec": {
   "display_name": "Python 3 (ipykernel)",
   "language": "python",
   "name": "python3"
  },
  "language_info": {
   "codemirror_mode": {
    "name": "ipython",
    "version": 3
   },
   "file_extension": ".py",
   "mimetype": "text/x-python",
   "name": "python",
   "nbconvert_exporter": "python",
   "pygments_lexer": "ipython3",
   "version": "3.9.7"
  }
 },
 "nbformat": 4,
 "nbformat_minor": 5
}
