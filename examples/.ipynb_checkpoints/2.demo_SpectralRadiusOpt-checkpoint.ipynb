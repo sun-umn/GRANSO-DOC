{
 "cells": [
  {
   "cell_type": "markdown",
   "id": "5257bb27",
   "metadata": {},
   "source": [
    "# Spectral Radius Optimization\n",
    "\n",
    "This notebook contains examples of how to solve Spectral Radius Optimization problem.\n",
    "\n",
    "Reference: Curtis, Frank E., Tim Mitchell, and Michael L. Overton. \"A BFGS-SQP method for nonsmooth, nonconvex, constrained optimization and its evaluation using relative minimization profiles.\" Optimization Methods and Software 32.1 (2017): 148-181."
   ]
  },
  {
   "cell_type": "markdown",
   "id": "16ae1959",
   "metadata": {},
   "source": [
    "## Problem Definition"
   ]
  },
  {
   "cell_type": "markdown",
   "id": "72e3a77a",
   "metadata": {},
   "source": [
    "We have $M=A+BXC$,\n",
    "where the matirces $A\\in R^{N,N},B\\in R^{N,P}$ and $C\\in R^{M,N}$ are given, $X\\in R^{P,M}$ is the matrix form optimization variable.\n",
    "\n",
    "We have the nonconvex, nonsmooth, and constrained optimization problem\n",
    "$$\\min_{X}\\rho_I(A+BXC),$$\n",
    "$$\\text{s.t. }\\rho_R(A+BXC)+\\xi \\leq 0,$$\n",
    "where $\\xi$ is the stability margin, and $\\rho_I$ and $\\rho_R$ are the maximum imaginary and real part of singular values of $M$."
   ]
  },
  {
   "cell_type": "markdown",
   "id": "08dfdd50",
   "metadata": {},
   "source": [
    "## Import all necessary modules and add PyGRANSO src folder to system path."
   ]
  },
  {
   "cell_type": "code",
   "execution_count": 1,
   "id": "90ed32f9",
   "metadata": {},
   "outputs": [],
   "source": [
    "import time\n",
    "import torch\n",
    "import os,sys\n",
    "## Adding PyGRANSO directories. Should be modified by user\n",
    "sys.path.append('/home/buyun/Documents/GitHub/PyGRANSO')\n",
    "from pygranso import pygranso\n",
    "from pygransoStruct import Options, Data, GeneralStruct \n",
    "import scipy.io\n",
    "from torch import linalg as LA"
   ]
  },
  {
   "cell_type": "markdown",
   "id": "17a1b7fe",
   "metadata": {},
   "source": [
    "## Specify torch device, and read the data from provided file"
   ]
  },
  {
   "cell_type": "code",
   "execution_count": 2,
   "id": "8b4842e1",
   "metadata": {},
   "outputs": [],
   "source": [
    "device = torch.device('cuda')\n",
    "\n",
    "# currentdir = os.path.dirname(os.path.realpath(__file__))\n",
    "file = \"/home/buyun/Documents/GitHub/PyGRANSO/examples/data/spec_radius_opt_data.mat\"\n",
    "mat = scipy.io.loadmat(file)\n",
    "mat_struct = mat['sys']\n",
    "mat_struct = mat_struct[0,0]\n",
    "A = torch.from_numpy(mat_struct['A']).to(device=device, dtype=torch.double)\n",
    "B = torch.from_numpy(mat_struct['B']).to(device=device, dtype=torch.double)\n",
    "C = torch.from_numpy(mat_struct['C']).to(device=device, dtype=torch.double)\n",
    "p = B.shape[1]\n",
    "m = C.shape[0]\n",
    "stability_margin = 1"
   ]
  },
  {
   "cell_type": "markdown",
   "id": "ec80716b",
   "metadata": {},
   "source": [
    "## Spceify optimization variables and corresponding objective and constrained function.\n",
    "\n",
    "Note: please strictly follow the format of evalObjFunction and combinedFunction, which will be used in the PyGRANSO main algortihm. "
   ]
  },
  {
   "cell_type": "code",
   "execution_count": 3,
   "id": "fb360e75",
   "metadata": {},
   "outputs": [],
   "source": [
    "# variables and corresponding dimensions.\n",
    "var_in = {\"X\": [p,m] }\n",
    "\n",
    "\n",
    "def evalObjFunction(X_struct):\n",
    "    # user defined variable, matirx form. torch tensor\n",
    "    X = X_struct.X\n",
    "    X.requires_grad_(True)\n",
    "\n",
    "    # objective function\n",
    "    M           = A + B@X@C\n",
    "    [D,_]       = LA.eig(M)\n",
    "    f = torch.max(D.imag)\n",
    "    return f\n",
    "\n",
    "def combinedFunction(X_struct):\n",
    "    # user defined variable, matirx form. torch tensor\n",
    "    X = X_struct.X\n",
    "    X.requires_grad_(True)\n",
    "\n",
    "    # objective function\n",
    "    M           = A + B@X@C\n",
    "    [D,_]       = LA.eig(M)\n",
    "    f = torch.max(D.imag)\n",
    "\n",
    "    # inequality constraint, matrix form\n",
    "    ci = GeneralStruct()\n",
    "    ci.c1 = torch.max(D.real) + stability_margin\n",
    "\n",
    "    # equality constraint \n",
    "    ce = None\n",
    "    \n",
    "    return [f,ci,ce]\n",
    "\n",
    "obj_eval_fn = lambda X_struct : evalObjFunction(X_struct)\n",
    "comb_fn = lambda X_struct : combinedFunction(X_struct)"
   ]
  },
  {
   "cell_type": "markdown",
   "id": "f0f55ace",
   "metadata": {},
   "source": [
    "## Specify user-defined options for PyGRANSO algorithm"
   ]
  },
  {
   "cell_type": "code",
   "execution_count": 4,
   "id": "f3a65b57",
   "metadata": {},
   "outputs": [],
   "source": [
    "opts = Options()\n",
    "opts.maxit = 200\n",
    "opts.x0 = torch.zeros(p*m,1).to(device=device, dtype=torch.double)\n",
    "# print for every 10 iterations. default: 1\n",
    "opts.print_frequency = 10"
   ]
  },
  {
   "cell_type": "markdown",
   "id": "8bca18c7",
   "metadata": {},
   "source": [
    "## Run main algorithm"
   ]
  },
  {
   "cell_type": "code",
   "execution_count": 5,
   "id": "632976b3",
   "metadata": {},
   "outputs": [
    {
     "name": "stdout",
     "output_type": "stream",
     "text": [
      "\n",
      "\n",
      "\u001b[33m╔═════ QP SOLVER NOTICE ════════════════════════════════════════════════════════════════════════╗\n",
      "\u001b[0m\u001b[33m║  PyGRANSO requires a quadratic program (QP) solver that has a quadprog-compatible interface,  ║\n",
      "\u001b[0m\u001b[33m║  the default is osqp. Users may provide their own wrapper for the QP solver.                  ║\n",
      "\u001b[0m\u001b[33m║  To disable this notice, set opts.quadprog_info_msg = False                                   ║\n",
      "\u001b[0m\u001b[33m╚═══════════════════════════════════════════════════════════════════════════════════════════════╝\n",
      "\u001b[0m═════════════════════════════════════════════════════════════════════════════════════════════════════════════════╗\n",
      "PyGRANSO: Python numerical package using GRadient-based Algorithm for Non-Smooth Optimization                    ║ \n",
      "Version 1.1.0                                                                                                    ║ \n",
      "MIT License Copyright (c) 2021 SUN Group @ UMN                                                                   ║ \n",
      "═════════════════════════════════════════════════════════════════════════════════════════════════════════════════╣\n",
      "Problem specifications:                                                                                          ║ \n",
      " # of variables                     :   200                                                                      ║ \n",
      " # of inequality constraints        :     1                                                                      ║ \n",
      " # of equality constraints          :     0                                                                      ║ \n",
      "═════╦═══════════════════════════╦════════════════╦═════════════════╦═══════════════════════╦════════════════════╣\n",
      "     ║ <--- Penalty Function --> ║                ║ Total Violation ║ <--- Line Search ---> ║ <- Stationarity -> ║ \n",
      "Iter ║    Mu    │      Value     ║    Objective   ║   Ineq   │  Eq  ║ SD │ Evals │     t    ║ Grads │    Value   ║ \n",
      "═════╬═══════════════════════════╬════════════════╬═════════════════╬═══════════════════════╬════════════════════╣\n",
      "   0 ║ 1.000000 │  16.2063030241 ║  13.7635444107 ║ 2.442759 │   -  ║ -  │     1 │ 0.000000 ║     1 │ 28.28938   ║ \n",
      "  10 ║ 1.000000 │  14.3591621233 ║  12.9268286638 ║ 1.432333 │   -  ║ S  │     1 │ 1.000000 ║     1 │ 0.035476   ║ \n",
      "  20 ║ 1.000000 │  13.7108075289 ║  12.6560751464 ║ 1.054732 │   -  ║ S  │     2 │ 0.500000 ║     1 │ 0.039916   ║ \n",
      "  30 ║ 1.000000 │  12.9779976609 ║  12.2692977220 ║ 0.708700 │   -  ║ S  │     5 │ 0.062500 ║     1 │ 0.044742   ║ \n",
      "  40 ║ 1.000000 │  12.7154602860 ║  12.0995185771 ║ 0.615942 │   -  ║ S  │     4 │ 0.125000 ║     1 │ 0.024250   ║ \n",
      "  50 ║ 1.000000 │  12.4165992571 ║  11.9426331779 ║ 0.473966 │   -  ║ S  │     5 │ 0.062500 ║     1 │ 0.062037   ║ \n",
      "  60 ║ 1.000000 │  12.2312216810 ║  11.8932985432 ║ 0.337923 │   -  ║ S  │     5 │ 0.062500 ║     1 │ 0.029241   ║ \n",
      "  70 ║ 1.000000 │  11.9227641689 ║  11.7855454522 ║ 0.137219 │   -  ║ S  │     5 │ 0.062500 ║     1 │ 0.032644   ║ \n",
      "  80 ║ 0.531441 │  6.30150308112 ║  11.7143886111 ║ 0.075997 │   -  ║ S  │     6 │ 0.031250 ║     1 │ 0.046360   ║ \n",
      "  90 ║ 0.531441 │  6.25816167149 ║  11.7200776715 ║ 0.029632 │   -  ║ S  │     3 │ 0.250000 ║     1 │ 0.012735   ║ \n",
      " 100 ║ 0.531441 │  6.20688985395 ║  11.6793582993 ║ 0.000000 │   -  ║ S  │     3 │ 0.250000 ║     1 │ 0.015654   ║ \n",
      " 110 ║ 0.531441 │  6.16510424776 ║  11.6007313093 ║ 0.000000 │   -  ║ S  │     1 │ 1.000000 ║     1 │ 0.006793   ║ \n",
      " 120 ║ 0.531441 │  6.13719555943 ║  11.5377783670 ║ 0.005547 │   -  ║ S  │     2 │ 0.500000 ║     1 │ 0.006483   ║ \n",
      " 130 ║ 0.531441 │  6.08845612810 ║  11.4337665095 ║ 0.012084 │   -  ║ S  │     4 │ 0.125000 ║     1 │ 0.045670   ║ \n",
      " 140 ║ 0.348678 │  3.97351303825 ║  11.3790137530 ║ 0.005896 │   -  ║ S  │     9 │ 0.027344 ║     1 │ 0.022835   ║ \n",
      " 150 ║ 0.166772 │  1.88584032522 ║  11.3040416127 ║ 6.45e-04 │   -  ║ S  │     3 │ 0.750000 ║     1 │ 0.004696   ║ \n",
      " 160 ║ 0.166772 │  1.88030724644 ║  11.2747302290 ║ 0.000000 │   -  ║ S  │     6 │ 0.031250 ║     1 │ 0.021085   ║ \n",
      " 170 ║ 0.166772 │  1.87508313397 ║  11.2434053172 ║ 0.000000 │   -  ║ S  │    10 │ 0.017578 ║     1 │ 0.059597   ║ \n",
      " 180 ║ 0.166772 │  1.87147326909 ║  11.2217597841 ║ 0.000000 │   -  ║ S  │     2 │ 0.500000 ║     1 │ 0.001237   ║ \n",
      " 190 ║ 0.166772 │  1.86444777925 ║  11.1734283105 ║ 0.001035 │   -  ║ S  │     4 │ 0.125000 ║     1 │ 0.005881   ║ \n",
      "═════╬═══════════════════════════╬════════════════╬═════════════════╬═══════════════════════╬════════════════════╣\n",
      "     ║ <--- Penalty Function --> ║                ║ Total Violation ║ <--- Line Search ---> ║ <- Stationarity -> ║ \n",
      "Iter ║    Mu    │      Value     ║    Objective   ║   Ineq   │  Eq  ║ SD │ Evals │     t    ║ Grads │    Value   ║ \n",
      "═════╬═══════════════════════════╬════════════════╬═════════════════╬═══════════════════════╬════════════════════╣\n",
      " 200 ║ 0.166772 │  1.86179434140 ║  11.1637228336 ║ 0.000000 │   -  ║ S  │     2 │ 0.500000 ║     1 │ 0.005403   ║ \n",
      "═════╩═══════════════════════════╩════════════════╩═════════════════╩═══════════════════════╩════════════════════╣\n",
      "F = final iterate, B = Best (to tolerance), MF = Most Feasible                                                   ║ \n",
      "Optimization results:                                                                                            ║ \n",
      "═════╦═══════════════════════════╦════════════════╦═════════════════╦═══════════════════════╦════════════════════╣\n",
      "   F ║          │                ║  11.1637228336 ║ 0.000000 │   -  ║    │       │          ║       │            ║ \n",
      "   B ║          │                ║  11.1637228336 ║ 0.000000 │   -  ║    │       │          ║       │            ║ \n",
      "  MF ║          │                ║  11.1637228336 ║ 0.000000 │   -  ║    │       │          ║       │            ║ \n",
      "═════╩═══════════════════════════╩════════════════╩═════════════════╩═══════════════════════╩════════════════════╣\n",
      "Iterations:              200                                                                                     ║ \n",
      "Function evaluations:    940                                                                                     ║ \n",
      "PyGRANSO termination code: 4 --- max iterations reached.                                                         ║ \n",
      "═════════════════════════════════════════════════════════════════════════════════════════════════════════════════╝\n",
      "Total Wall Time: 70.98906588554382s\n"
     ]
    }
   ],
   "source": [
    "start = time.time()\n",
    "soln = pygranso(combinedFunction = comb_fn, objEvalFunction = obj_eval_fn,var_dim_map = var_in, torch_device = device, user_opts = opts)\n",
    "end = time.time()\n",
    "print(\"Total Wall Time: {}s\".format(end - start))"
   ]
  },
  {
   "cell_type": "markdown",
   "id": "2eec4c44",
   "metadata": {},
   "source": [
    "## Advanced Tutorial: LBFGS and feasibility related options"
   ]
  },
  {
   "cell_type": "code",
   "execution_count": 6,
   "id": "f97cf86d",
   "metadata": {},
   "outputs": [
    {
     "name": "stdout",
     "output_type": "stream",
     "text": [
      "\n",
      "\n",
      "\u001b[33m╔═════ QP SOLVER NOTICE ════════════════════════════════════════════════════════════════════════╗\n",
      "\u001b[0m\u001b[33m║  PyGRANSO requires a quadratic program (QP) solver that has a quadprog-compatible interface,  ║\n",
      "\u001b[0m\u001b[33m║  the default is osqp. Users may provide their own wrapper for the QP solver.                  ║\n",
      "\u001b[0m\u001b[33m║  To disable this notice, set opts.quadprog_info_msg = False                                   ║\n",
      "\u001b[0m\u001b[33m╚═══════════════════════════════════════════════════════════════════════════════════════════════╝\n",
      "\u001b[0m═════════════════════════════════════════════════════════════════════════════════════════════════════════════════╗\n",
      "PyGRANSO: Python numerical package using GRadient-based Algorithm for Non-Smooth Optimization                    ║ \n",
      "Version 1.1.0                                                                                                    ║ \n",
      "MIT License Copyright (c) 2021 SUN Group @ UMN                                                                   ║ \n",
      "═════════════════════════════════════════════════════════════════════════════════════════════════════════════════╣\n",
      "Problem specifications:                                                                                          ║ \n",
      " # of variables                     :   200                                                                      ║ \n",
      " # of inequality constraints        :     1                                                                      ║ \n",
      " # of equality constraints          :     0                                                                      ║ \n",
      "═════════════════════════════════════════════════════════════════════════════════════════════════════════════════╣\n",
      "\u001b[33mLimited-memory mode enabled with size = 40.                                                                     \u001b[0m ║ \n",
      "\u001b[33mNOTE: limited-memory mode is generally NOT                                                                      \u001b[0m ║ \n",
      "\u001b[33mrecommended for nonsmooth problems.                                                                             \u001b[0m ║ \n",
      "═════╦═══════════════════════════╦════════════════╦═════════════════╦═══════════════════════╦════════════════════╣\n",
      "     ║ <--- Penalty Function --> ║                ║ Total Violation ║ <--- Line Search ---> ║ <- Stationarity -> ║ \n",
      "Iter ║    Mu    │      Value     ║    Objective   ║   Ineq   │  Eq  ║ SD │ Evals │     t    ║ Grads │    Value   ║ \n",
      "═════╬═══════════════════════════╬════════════════╬═════════════════╬═══════════════════════╬════════════════════╣\n",
      "   0 ║ 1.000000 │  16.2063030241 ║  13.7635444107 ║ 2.442759 │   -  ║ -  │     1 │ 0.000000 ║     1 │ 28.28938   ║ \n",
      "  10 ║ 1.000000 │  14.3591621233 ║  12.9268286638 ║ 1.432333 │   -  ║ S  │     1 │ 1.000000 ║     1 │ 0.035476   ║ \n",
      "  20 ║ 1.000000 │  13.7107976411 ║  12.6560728879 ║ 1.054725 │   -  ║ S  │     2 │ 0.500000 ║     1 │ 0.039915   ║ \n",
      "  30 ║ 1.000000 │  12.9779711177 ║  12.2692905613 ║ 0.708681 │   -  ║ S  │     5 │ 0.062500 ║     1 │ 0.044739   ║ \n",
      "  40 ║ 1.000000 │  12.7155117284 ║  12.0995485704 ║ 0.615963 │   -  ║ S  │     4 │ 0.125000 ║     1 │ 0.024252   ║ \n",
      "  50 ║ 1.000000 │  12.4467276273 ║  11.9155434961 ║ 0.531184 │   -  ║ S  │     6 │ 0.031250 ║     1 │ 0.084773   ║ \n",
      "  60 ║ 1.000000 │  12.1599958968 ║  11.8628977392 ║ 0.297098 │   -  ║ S  │     3 │ 0.250000 ║     1 │ 0.053497   ║ \n",
      "  70 ║ 0.810000 │  9.73600715145 ║  11.7519663588 ║ 0.216914 │   -  ║ S  │     9 │ 0.003906 ║     1 │ 0.071521   ║ \n",
      "  80 ║ 0.810000 │  9.63723919833 ║  11.7022985500 ║ 0.158377 │   -  ║ S  │     6 │ 0.031250 ║     1 │ 0.040142   ║ \n",
      "  90 ║ 0.282430 │  3.41202025953 ║  11.6852610470 ║ 0.111757 │   -  ║ S  │     4 │ 0.125000 ║     1 │ 0.022482   ║ \n",
      " 100 ║ 0.282430 │  3.37063207129 ║  11.7611274109 ║ 0.048942 │   -  ║ S  │     8 │ 0.007812 ║     1 │ 5.631564   ║ \n",
      " 110 ║ 0.282430 │  3.32265911916 ║  11.6833183313 ║ 0.022945 │   -  ║ S  │    12 │ 4.88e-04 ║     1 │ 0.624320   ║ \n",
      " 120 ║ 0.205891 │  2.40233549547 ║  11.6650669682 ║ 6.02e-04 │   -  ║ S  │    11 │ 0.008789 ║     1 │ 0.069771   ║ \n",
      " 130 ║ 0.166772 │  1.94229133313 ║  11.6396549822 ║ 0.001125 │   -  ║ S  │    12 │ 4.88e-04 ║     1 │ 0.990554   ║ \n",
      " 140 ║ 0.052335 │  0.60846067383 ║  11.6263193991 ║ 0.000000 │   -  ║ S  │     7 │ 0.015625 ║     1 │ 0.082239   ║ \n",
      " 150 ║ 0.052335 │  0.60818055442 ║  11.6112634409 ║ 5.08e-04 │   -  ║ S  │    12 │ 0.001465 ║     1 │ 0.868550   ║ \n",
      " 160 ║ 0.052335 │  0.60698697409 ║  11.5981603007 ║ 0.000000 │   -  ║ S  │    13 │ 0.002197 ║     1 │ 3.739709   ║ \n",
      " 170 ║ 0.052335 │  0.60640846817 ║  11.5836527580 ║ 1.81e-04 │   -  ║ S  │    10 │ 0.001953 ║     1 │ 0.766382   ║ \n",
      " 180 ║ 0.027813 │  0.32212307749 ║  11.5730080535 ║ 2.45e-04 │   -  ║ S  │    15 │ 6.10e-05 ║     1 │ 0.808743   ║ \n",
      " 190 ║ 0.027813 │  0.32182693588 ║  11.5711645447 ║ 0.000000 │   -  ║ S  │     8 │ 0.007812 ║     1 │ 3.995851   ║ \n",
      "═════╬═══════════════════════════╬════════════════╬═════════════════╬═══════════════════════╬════════════════════╣\n",
      "     ║ <--- Penalty Function --> ║                ║ Total Violation ║ <--- Line Search ---> ║ <- Stationarity -> ║ \n",
      "Iter ║    Mu    │      Value     ║    Objective   ║   Ineq   │  Eq  ║ SD │ Evals │     t    ║ Grads │    Value   ║ \n",
      "═════╬═══════════════════════════╬════════════════╬═════════════════╬═══════════════════════╬════════════════════╣\n",
      " 200 ║ 0.001617 │  0.01871060347 ║  11.5689706469 ║ 0.000000 │   -  ║ S  │     3 │ 0.250000 ║     1 │ 0.031373   ║ \n",
      "═════╩═══════════════════════════╩════════════════╩═════════════════╩═══════════════════════╩════════════════════╣\n",
      "F = final iterate, B = Best (to tolerance), MF = Most Feasible                                                   ║ \n",
      "Optimization results:                                                                                            ║ \n",
      "═════╦═══════════════════════════╦════════════════╦═════════════════╦═══════════════════════╦════════════════════╣\n",
      "   F ║          │                ║  11.5689706469 ║ 0.000000 │   -  ║    │       │          ║       │            ║ \n",
      "   B ║          │                ║  11.5689706469 ║ 0.000000 │   -  ║    │       │          ║       │            ║ \n",
      "  MF ║          │                ║  11.5689706469 ║ 0.000000 │   -  ║    │       │          ║       │            ║ \n",
      "═════╩═══════════════════════════╩════════════════╩═════════════════╩═══════════════════════╩════════════════════╣\n",
      "Iterations:              200                                                                                     ║ \n",
      "Function evaluations:    1672                                                                                    ║ \n",
      "PyGRANSO termination code: 4 --- max iterations reached.                                                         ║ \n",
      "═════════════════════════════════════════════════════════════════════════════════════════════════════════════════╝\n",
      "Total Wall Time: 132.1946849822998s\n"
     ]
    }
   ],
   "source": [
    "opts = Options()\n",
    "opts.maxit = 200\n",
    "opts.x0 = torch.zeros(p*m,1).to(device=device, dtype=torch.double)\n",
    "# print for every 10 iterations. default: 1\n",
    "opts.print_frequency = 10\n",
    "\n",
    "# Limited-memory mode is generally not recommended for nonsmooth\n",
    "# problems, such as this one, but it can nonetheless enabled if\n",
    "# desired/necessary.  opts.limited_mem_size == 0 is off, that is, \n",
    "# limited-memory mode is disabled.\n",
    "# Note that this example has 200 variables.\n",
    "opts.limited_mem_size = 40\n",
    "\n",
    "start = time.time()\n",
    "soln = pygranso(combinedFunction = comb_fn, objEvalFunction = obj_eval_fn,var_dim_map = var_in, torch_device = device, user_opts = opts)\n",
    "end = time.time()\n",
    "print(\"Total Wall Time: {}s\".format(end - start))"
   ]
  },
  {
   "cell_type": "code",
   "execution_count": 7,
   "id": "8dff3916",
   "metadata": {},
   "outputs": [],
   "source": [
    "# We can also tune PyGRANSO to more aggressively favor satisfying\n",
    "# feasibility over minimizing the objective.  Set feasibility_bias to\n",
    "# true to adjust the following three steering parameters away from\n",
    "# their default values.  For more details on these parameters, type\n",
    "# import pygransoOptionsAdvanced\n",
    "# help(pygransoOptionsAdvanced)\n",
    "import numpy as np\n",
    "opts = Options()\n",
    "feasibility_bias = True\n",
    "if feasibility_bias:\n",
    "    opts.steering_ineq_margin = np.inf    # default is 1e-6\n",
    "    opts.steering_c_viol = 0.9         # default is 0.1\n",
    "    opts.steering_c_mu = 0.1           # default is 0.9\n"
   ]
  },
  {
   "cell_type": "code",
   "execution_count": 8,
   "id": "3fb2e962",
   "metadata": {},
   "outputs": [
    {
     "name": "stdout",
     "output_type": "stream",
     "text": [
      "\n",
      "\n",
      "\u001b[33m╔═════ QP SOLVER NOTICE ════════════════════════════════════════════════════════════════════════╗\n",
      "\u001b[0m\u001b[33m║  PyGRANSO requires a quadratic program (QP) solver that has a quadprog-compatible interface,  ║\n",
      "\u001b[0m\u001b[33m║  the default is osqp. Users may provide their own wrapper for the QP solver.                  ║\n",
      "\u001b[0m\u001b[33m║  To disable this notice, set opts.quadprog_info_msg = False                                   ║\n",
      "\u001b[0m\u001b[33m╚═══════════════════════════════════════════════════════════════════════════════════════════════╝\n",
      "\u001b[0m═════════════════════════════════════════════════════════════════════════════════════════════════════════════════╗\n",
      "PyGRANSO: Python numerical package using GRadient-based Algorithm for Non-Smooth Optimization                    ║ \n",
      "Version 1.1.0                                                                                                    ║ \n",
      "MIT License Copyright (c) 2021 SUN Group @ UMN                                                                   ║ \n",
      "═════════════════════════════════════════════════════════════════════════════════════════════════════════════════╣\n",
      "Problem specifications:                                                                                          ║ \n",
      " # of variables                     :   200                                                                      ║ \n",
      " # of inequality constraints        :     1                                                                      ║ \n",
      " # of equality constraints          :     0                                                                      ║ \n",
      "═════╦═══════════════════════════╦════════════════╦═════════════════╦═══════════════════════╦════════════════════╣\n",
      "     ║ <--- Penalty Function --> ║                ║ Total Violation ║ <--- Line Search ---> ║ <- Stationarity -> ║ \n",
      "Iter ║    Mu    │      Value     ║    Objective   ║   Ineq   │  Eq  ║ SD │ Evals │     t    ║ Grads │    Value   ║ \n",
      "═════╬═══════════════════════════╬════════════════╬═════════════════╬═══════════════════════╬════════════════════╣\n",
      "   0 ║ 1.000000 │  16.2063030241 ║  13.7635444107 ║ 2.442759 │   -  ║ -  │     1 │ 0.000000 ║     1 │ 28.28938   ║ \n",
      "  10 ║ 0.100000 │  2.59802946760 ║  13.5350279096 ║ 1.244527 │   -  ║ S  │     4 │ 0.125000 ║     1 │ 0.021953   ║ \n",
      "  20 ║ 0.100000 │  2.19206992214 ║  13.1633300318 ║ 0.875737 │   -  ║ S  │     3 │ 0.250000 ║     1 │ 0.022714   ║ \n",
      "  30 ║ 0.100000 │  1.78022218437 ║  13.1123257659 ║ 0.468990 │   -  ║ S  │     8 │ 0.039062 ║     1 │ 0.002266   ║ \n",
      "  40 ║ 0.100000 │  1.62794829512 ║  13.0065506414 ║ 0.327293 │   -  ║ S  │     3 │ 0.250000 ║     1 │ 0.009639   ║ \n",
      "  50 ║ 0.100000 │  1.36930710503 ║  13.0012926096 ║ 0.069178 │   -  ║ S  │     1 │ 1.000000 ║     1 │ 0.007244   ║ \n",
      "  60 ║ 0.100000 │  1.27492363929 ║  12.7471838164 ║ 2.05e-04 │   -  ║ S  │     1 │ 1.000000 ║     1 │ 0.194051   ║ \n",
      "  70 ║ 0.100000 │  1.26551885210 ║  12.6551885210 ║ 0.000000 │   -  ║ S  │     3 │ 0.250000 ║     1 │ 0.003189   ║ \n",
      "  80 ║ 0.100000 │  1.23673616452 ║  12.3673616452 ║ 0.000000 │   -  ║ S  │     1 │ 1.000000 ║     1 │ 0.003019   ║ \n",
      "  90 ║ 0.100000 │  1.22004828485 ║  12.1961328390 ║ 4.35e-04 │   -  ║ S  │     4 │ 0.125000 ║     1 │ 0.007176   ║ \n",
      " 100 ║ 0.100000 │  1.21245660278 ║  12.1245660278 ║ 0.000000 │   -  ║ S  │     3 │ 0.250000 ║     1 │ 0.002489   ║ \n",
      " 110 ║ 0.100000 │  1.20211401437 ║  12.0016362195 ║ 0.001950 │   -  ║ S  │     5 │ 0.062500 ║     1 │ 0.001481   ║ \n",
      " 120 ║ 0.100000 │  1.19397253592 ║  11.9397253592 ║ 0.000000 │   -  ║ S  │     4 │ 0.125000 ║     1 │ 0.029017   ║ \n",
      " 130 ║ 0.100000 │  1.18479511272 ║  11.8479511272 ║ 0.000000 │   -  ║ S  │     3 │ 0.750000 ║     1 │ 0.003492   ║ \n",
      " 140 ║ 0.100000 │  1.18124241776 ║  11.8059010429 ║ 6.52e-04 │   -  ║ S  │     7 │ 0.015625 ║     1 │ 0.001756   ║ \n",
      " 150 ║ 0.100000 │  1.17580746956 ║  11.7580746956 ║ 0.000000 │   -  ║ S  │     1 │ 1.000000 ║     1 │ 0.002580   ║ \n",
      " 160 ║ 0.010000 │  0.11732982207 ║  11.7329822070 ║ 0.000000 │   -  ║ S  │     1 │ 1.000000 ║     1 │ 1.45e-04   ║ \n",
      " 170 ║ 0.010000 │  0.11709033334 ║  11.7080962623 ║ 9.37e-06 │   -  ║ S  │     7 │ 0.171875 ║     1 │ 7.78e-04   ║ \n",
      " 180 ║ 1.00e-05 │  1.1703384e-04 ║  11.7033844204 ║ 0.000000 │   -  ║ S  │     6 │ 32.00000 ║     1 │ 3.99e-06   ║ \n",
      " 190 ║ 1.00e-05 │  1.1702214e-04 ║  11.7022137596 ║ 0.000000 │   -  ║ S  │     6 │ 32.00000 ║     1 │ 2.13e-06   ║ \n",
      "═════╬═══════════════════════════╬════════════════╬═════════════════╬═══════════════════════╬════════════════════╣\n",
      "     ║ <--- Penalty Function --> ║                ║ Total Violation ║ <--- Line Search ---> ║ <- Stationarity -> ║ \n",
      "Iter ║    Mu    │      Value     ║    Objective   ║   Ineq   │  Eq  ║ SD │ Evals │     t    ║ Grads │    Value   ║ \n",
      "═════╬═══════════════════════════╬════════════════╬═════════════════╬═══════════════════════╬════════════════════╣\n",
      " 200 ║ 1.00e-05 │  1.1701056e-04 ║  11.7010557573 ║ 0.000000 │   -  ║ S  │     7 │ 64.00000 ║     1 │ 1.08e-05   ║ \n",
      "═════╩═══════════════════════════╩════════════════╩═════════════════╩═══════════════════════╩════════════════════╣\n",
      "F = final iterate, B = Best (to tolerance), MF = Most Feasible                                                   ║ \n",
      "Optimization results:                                                                                            ║ \n",
      "═════╦═══════════════════════════╦════════════════╦═════════════════╦═══════════════════════╦════════════════════╣\n",
      "   F ║          │                ║  11.7010557573 ║ 0.000000 │   -  ║    │       │          ║       │            ║ \n",
      "   B ║          │                ║  11.7007826631 ║ 0.000000 │   -  ║    │       │          ║       │            ║ \n",
      "  MF ║          │                ║  11.7007826631 ║ 0.000000 │   -  ║    │       │          ║       │            ║ \n",
      "═════╩═══════════════════════════╩════════════════╩═════════════════╩═══════════════════════╩════════════════════╣\n",
      "Iterations:              200                                                                                     ║ \n",
      "Function evaluations:    703                                                                                     ║ \n",
      "PyGRANSO termination code: 4 --- max iterations reached.                                                         ║ \n",
      "═════════════════════════════════════════════════════════════════════════════════════════════════════════════════╝\n",
      "Total Wall Time: 52.31208896636963s\n"
     ]
    }
   ],
   "source": [
    "opts.maxit = 200\n",
    "opts.x0 = torch.zeros(p*m,1).to(device=device, dtype=torch.double)\n",
    "# print for every 10 iterations. default: 1\n",
    "opts.print_frequency = 10\n",
    "\n",
    "start = time.time()\n",
    "soln = pygranso(combinedFunction = comb_fn, objEvalFunction = obj_eval_fn,var_dim_map = var_in, torch_device = device, user_opts = opts)\n",
    "end = time.time()\n",
    "print(\"Total Wall Time: {}s\".format(end - start))"
   ]
  },
  {
   "cell_type": "markdown",
   "id": "c1abe9e7",
   "metadata": {},
   "source": [
    "In my testing, with default parameters, PyGRANSO will first obtain a\n",
    "feasible solution at iter ~= 100 and will reduce the objective to\n",
    "11.16 by the time it attains max iteration count of 200.\n",
    "\n",
    "With feasibility_bias = True, in my testing, PyGRANSO will obtain its\n",
    "first feasible solution earlier, at iter ~= 60, but it will ultimately\n",
    "have reduced the objective value less, only to 11.70, by the end of\n",
    "its 200 maximum allowed iterations."
   ]
  }
 ],
 "metadata": {
  "kernelspec": {
   "display_name": "Python 3 (ipykernel)",
   "language": "python",
   "name": "python3"
  },
  "language_info": {
   "codemirror_mode": {
    "name": "ipython",
    "version": 3
   },
   "file_extension": ".py",
   "mimetype": "text/x-python",
   "name": "python",
   "nbconvert_exporter": "python",
   "pygments_lexer": "ipython3",
   "version": "3.9.7"
  }
 },
 "nbformat": 4,
 "nbformat_minor": 5
}
