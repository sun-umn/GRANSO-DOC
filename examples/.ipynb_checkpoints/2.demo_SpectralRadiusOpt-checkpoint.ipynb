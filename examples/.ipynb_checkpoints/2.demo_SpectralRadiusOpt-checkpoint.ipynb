{
 "cells": [
  {
   "cell_type": "markdown",
   "id": "5257bb27",
   "metadata": {},
   "source": [
    "# Spectral Radius Optimization\n",
    "\n",
    "This notebook contains examples of how to solve Spectral Radius Optimization problem.\n",
    "\n",
    "Reference: Curtis, Frank E., Tim Mitchell, and Michael L. Overton. \"A BFGS-SQP method for nonsmooth, nonconvex, constrained optimization and its evaluation using relative minimization profiles.\" Optimization Methods and Software 32.1 (2017): 148-181."
   ]
  },
  {
   "cell_type": "markdown",
   "id": "16ae1959",
   "metadata": {},
   "source": [
    "## Problem Description"
   ]
  },
  {
   "cell_type": "markdown",
   "id": "72e3a77a",
   "metadata": {},
   "source": [
    "We have $M=A+BXC$,\n",
    "where the matirces $A\\in R^{N,N},B\\in R^{N,P}$ and $C\\in R^{M,N}$ are given, $X\\in R^{P,M}$ is the matrix form optimization variable.\n",
    "\n",
    "We have the nonconvex, nonsmooth, and constrained optimization problem\n",
    "$$\\min_{X}\\rho_I(A+BXC),$$\n",
    "$$\\text{s.t. }\\rho_R(A+BXC)+\\xi \\leq 0,$$\n",
    "where $\\xi$ is the stability margin, and $\\rho_I$ and $\\rho_R$ are the maximum imaginary and real part of singular values of $M$."
   ]
  },
  {
   "cell_type": "markdown",
   "id": "08dfdd50",
   "metadata": {},
   "source": [
    "## Modules Importing\n",
    "Import all necessary modules and add PyGRANSO src folder to system path."
   ]
  },
  {
   "cell_type": "code",
   "execution_count": 1,
   "id": "90ed32f9",
   "metadata": {},
   "outputs": [],
   "source": [
    "import time\n",
    "import torch\n",
    "import os,sys\n",
    "## Adding PyGRANSO directories. Should be modified by user\n",
    "sys.path.append('/home/buyun/Documents/GitHub/PyGRANSO')\n",
    "from pygranso import pygranso\n",
    "from pygransoStruct import Options, Data, GeneralStruct \n",
    "import scipy.io\n",
    "from torch import linalg as LA"
   ]
  },
  {
   "cell_type": "markdown",
   "id": "17a1b7fe",
   "metadata": {},
   "source": [
    "## Data Generation \n",
    "Specify torch device, and read the data from provided file"
   ]
  },
  {
   "cell_type": "code",
   "execution_count": 2,
   "id": "8b4842e1",
   "metadata": {},
   "outputs": [],
   "source": [
    "device = torch.device('cuda')\n",
    "\n",
    "# currentdir = os.path.dirname(os.path.realpath(__file__))\n",
    "file = \"/home/buyun/Documents/GitHub/PyGRANSO/examples/data/spec_radius_opt_data.mat\"\n",
    "mat = scipy.io.loadmat(file)\n",
    "mat_struct = mat['sys']\n",
    "mat_struct = mat_struct[0,0]\n",
    "A = torch.from_numpy(mat_struct['A']).to(device=device, dtype=torch.double)\n",
    "B = torch.from_numpy(mat_struct['B']).to(device=device, dtype=torch.double)\n",
    "C = torch.from_numpy(mat_struct['C']).to(device=device, dtype=torch.double)\n",
    "p = B.shape[1]\n",
    "m = C.shape[0]\n",
    "stability_margin = 1"
   ]
  },
  {
   "cell_type": "markdown",
   "id": "ec80716b",
   "metadata": {},
   "source": [
    "## Problem Definition \n",
    "Spceify optimization variables and corresponding objective and constrained function.\n",
    "\n",
    "Note: please strictly follow the format of evalObjFunction and combinedFunction, which will be used in the PyGRANSO main algortihm. "
   ]
  },
  {
   "cell_type": "code",
   "execution_count": 3,
   "id": "fb360e75",
   "metadata": {},
   "outputs": [],
   "source": [
    "# variables and corresponding dimensions.\n",
    "var_in = {\"X\": [p,m] }\n",
    "\n",
    "\n",
    "def obj_eval_fn(X_struct):\n",
    "    # user defined variable, matirx form. torch tensor\n",
    "    X = X_struct.X\n",
    "    X.requires_grad_(True)\n",
    "\n",
    "    # objective function\n",
    "    M           = A + B@X@C\n",
    "    [D,_]       = LA.eig(M)\n",
    "    f = torch.max(D.imag)\n",
    "    return f\n",
    "\n",
    "def comb_fn(X_struct):\n",
    "    # user defined variable, matirx form. torch tensor\n",
    "    X = X_struct.X\n",
    "    X.requires_grad_(True)\n",
    "\n",
    "    # objective function\n",
    "    M           = A + B@X@C\n",
    "    [D,_]       = LA.eig(M)\n",
    "    f = torch.max(D.imag)\n",
    "\n",
    "    # inequality constraint, matrix form\n",
    "    ci = GeneralStruct()\n",
    "    ci.c1 = torch.max(D.real) + stability_margin\n",
    "\n",
    "    # equality constraint \n",
    "    ce = None\n",
    "    \n",
    "    return [f,ci,ce]\n"
   ]
  },
  {
   "cell_type": "markdown",
   "id": "f0f55ace",
   "metadata": {},
   "source": [
    "## User Options\n",
    "Specify user-defined options for PyGRANSO algorithm"
   ]
  },
  {
   "cell_type": "code",
   "execution_count": 4,
   "id": "f3a65b57",
   "metadata": {},
   "outputs": [],
   "source": [
    "opts = Options()\n",
    "opts.maxit = 200\n",
    "opts.x0 = torch.zeros(p*m,1).to(device=device, dtype=torch.double)\n",
    "# print for every 10 iterations. default: 1\n",
    "opts.print_frequency = 10"
   ]
  },
  {
   "cell_type": "markdown",
   "id": "8bca18c7",
   "metadata": {},
   "source": [
    "## Main Algorithm"
   ]
  },
  {
   "cell_type": "code",
   "execution_count": 5,
   "id": "632976b3",
   "metadata": {},
   "outputs": [
    {
     "name": "stdout",
     "output_type": "stream",
     "text": [
      "\n",
      "\n",
      "\u001b[33m╔═════ QP SOLVER NOTICE ════════════════════════════════════════════════════════════════════════╗\n",
      "\u001b[0m\u001b[33m║  PyGRANSO requires a quadratic program (QP) solver that has a quadprog-compatible interface,  ║\n",
      "\u001b[0m\u001b[33m║  the default is osqp. Users may provide their own wrapper for the QP solver.                  ║\n",
      "\u001b[0m\u001b[33m║  To disable this notice, set opts.quadprog_info_msg = False                                   ║\n",
      "\u001b[0m\u001b[33m╚═══════════════════════════════════════════════════════════════════════════════════════════════╝\n",
      "\u001b[0m═════════════════════════════════════════════════════════════════════════════════════════════════════════════════╗\n",
      "PyGRANSO: Python numerical package using GRadient-based Algorithm for Non-Smooth Optimization                    ║ \n",
      "Version 1.1.0                                                                                                    ║ \n",
      "MIT License Copyright (c) 2021 SUN Group @ UMN                                                                   ║ \n",
      "═════════════════════════════════════════════════════════════════════════════════════════════════════════════════╣\n",
      "Problem specifications:                                                                                          ║ \n",
      " # of variables                     :   200                                                                      ║ \n",
      " # of inequality constraints        :     1                                                                      ║ \n",
      " # of equality constraints          :     0                                                                      ║ \n",
      "═════╦═══════════════════════════╦════════════════╦═════════════════╦═══════════════════════╦════════════════════╣\n",
      "     ║ <--- Penalty Function --> ║                ║ Total Violation ║ <--- Line Search ---> ║ <- Stationarity -> ║ \n",
      "Iter ║    Mu    │      Value     ║    Objective   ║   Ineq   │  Eq  ║ SD │ Evals │     t    ║ Grads │    Value   ║ \n",
      "═════╬═══════════════════════════╬════════════════╬═════════════════╬═══════════════════════╬════════════════════╣\n",
      "   0 ║ 1.000000 │  16.2063030241 ║  13.7635444107 ║ 2.442759 │   -  ║ -  │     1 │ 0.000000 ║     1 │ 28.28938   ║ \n",
      "  10 ║ 1.000000 │  14.3591621233 ║  12.9268286638 ║ 1.432333 │   -  ║ S  │     1 │ 1.000000 ║     1 │ 0.035476   ║ \n",
      "  20 ║ 1.000000 │  13.7108148212 ║  12.6560766192 ║ 1.054738 │   -  ║ S  │     2 │ 0.500000 ║     1 │ 0.039916   ║ \n",
      "  30 ║ 1.000000 │  12.9781024808 ║  12.2692651748 ║ 0.708837 │   -  ║ S  │     5 │ 0.062500 ║     1 │ 0.044753   ║ \n",
      "  40 ║ 1.000000 │  12.7159660800 ║  12.0997226026 ║ 0.616243 │   -  ║ S  │     4 │ 0.125000 ║     1 │ 0.024262   ║ \n",
      "  50 ║ 1.000000 │  12.4124519260 ║  11.9469063297 ║ 0.465546 │   -  ║ S  │     4 │ 0.125000 ║     1 │ 0.075202   ║ \n",
      "  60 ║ 1.000000 │  12.2512294613 ║  11.8943509437 ║ 0.356879 │   -  ║ S  │     3 │ 0.250000 ║     1 │ 0.019409   ║ \n",
      "  70 ║ 1.000000 │  12.0659735397 ║  11.7780158966 ║ 0.287958 │   -  ║ S  │    10 │ 0.001953 ║     1 │ 0.070258   ║ \n",
      "  80 ║ 1.000000 │  11.8824770843 ║  11.7428078737 ║ 0.139669 │   -  ║ S  │     8 │ 0.007812 ║     1 │ 0.175003   ║ \n",
      "  90 ║ 1.000000 │  11.7399811246 ║  11.6639721195 ║ 0.076009 │   -  ║ S  │     9 │ 0.003906 ║     1 │ 0.053027   ║ \n",
      " 100 ║ 0.900000 │  10.5003036265 ║  11.6188807579 ║ 0.043311 │   -  ║ S  │     5 │ 0.062500 ║     1 │ 0.117693   ║ \n",
      " 110 ║ 0.900000 │  10.4423240046 ║  11.5640106832 ║ 0.034714 │   -  ║ S  │     4 │ 0.125000 ║     1 │ 0.013470   ║ \n",
      " 120 ║ 0.900000 │  10.3449841844 ║  11.4944268716 ║ 0.000000 │   -  ║ S  │    13 │ 2.44e-04 ║     1 │ 0.297450   ║ \n",
      " 130 ║ 0.282430 │  3.23464504014 ║  11.4529276238 ║ 0.000000 │   -  ║ S  │     1 │ 1.000000 ║     1 │ 0.007147   ║ \n",
      " 140 ║ 0.282430 │  3.21541990218 ║  11.3832480410 ║ 4.54e-04 │   -  ║ S  │     5 │ 0.062500 ║     1 │ 0.109621   ║ \n",
      " 150 ║ 0.282430 │  3.20287358850 ║  11.3404342492 ║ 0.000000 │   -  ║ S  │     2 │ 0.500000 ║     1 │ 0.008929   ║ \n",
      " 160 ║ 0.282430 │  3.18353433691 ║  11.2719596419 ║ 0.000000 │   -  ║ S  │     9 │ 0.003906 ║     1 │ 0.008847   ║ \n",
      " 170 ║ 0.282430 │  3.17609093630 ║  11.2456047476 ║ 0.000000 │   -  ║ S  │     1 │ 1.000000 ║     1 │ 0.006900   ║ \n",
      " 180 ║ 0.282430 │  3.16722509696 ║  11.2142134156 ║ 0.000000 │   -  ║ S  │     5 │ 0.062500 ║     1 │ 0.014402   ║ \n",
      " 190 ║ 0.282430 │  3.15571778554 ║  11.1734694071 ║ 0.000000 │   -  ║ S  │     4 │ 0.125000 ║     1 │ 0.005126   ║ \n",
      "═════╬═══════════════════════════╬════════════════╬═════════════════╬═══════════════════════╬════════════════════╣\n",
      "     ║ <--- Penalty Function --> ║                ║ Total Violation ║ <--- Line Search ---> ║ <- Stationarity -> ║ \n",
      "Iter ║    Mu    │      Value     ║    Objective   ║   Ineq   │  Eq  ║ SD │ Evals │     t    ║ Grads │    Value   ║ \n",
      "═════╬═══════════════════════════╬════════════════╬═════════════════╬═══════════════════════╬════════════════════╣\n",
      " 200 ║ 0.282430 │  3.14940565815 ║  11.1511200188 ║ 0.000000 │   -  ║ S  │     6 │ 0.031250 ║     1 │ 0.003954   ║ \n",
      "═════╩═══════════════════════════╩════════════════╩═════════════════╩═══════════════════════╩════════════════════╣\n",
      "Optimization results:                                                                                            ║ \n",
      "F = final iterate, B = Best (to tolerance), MF = Most Feasible                                                   ║ \n",
      "═════╦═══════════════════════════╦════════════════╦═════════════════╦═══════════════════════╦════════════════════╣\n",
      "   F ║          │                ║  11.1511200188 ║ 0.000000 │   -  ║    │       │          ║       │            ║ \n",
      "   B ║          │                ║  11.1511200188 ║ 0.000000 │   -  ║    │       │          ║       │            ║ \n",
      "  MF ║          │                ║  11.1511200188 ║ 0.000000 │   -  ║    │       │          ║       │            ║ \n",
      "═════╩═══════════════════════════╩════════════════╩═════════════════╩═══════════════════════╩════════════════════╣\n",
      "Iterations:              200                                                                                     ║ \n",
      "Function evaluations:    983                                                                                     ║ \n",
      "PyGRANSO termination code: 4 --- max iterations reached.                                                         ║ \n",
      "═════════════════════════════════════════════════════════════════════════════════════════════════════════════════╝\n",
      "Total Wall Time: 77.06490159034729s\n"
     ]
    }
   ],
   "source": [
    "start = time.time()\n",
    "soln = pygranso(combinedFunction = comb_fn, objEvalFunction = obj_eval_fn,var_dim_map = var_in, torch_device = device, user_opts = opts)\n",
    "end = time.time()\n",
    "print(\"Total Wall Time: {}s\".format(end - start))"
   ]
  },
  {
   "cell_type": "markdown",
   "id": "2eec4c44",
   "metadata": {},
   "source": [
    "## LBFGS \n",
    "(Optional) LBFGS and feasibility related options"
   ]
  },
  {
   "cell_type": "code",
   "execution_count": 6,
   "id": "f97cf86d",
   "metadata": {},
   "outputs": [
    {
     "name": "stdout",
     "output_type": "stream",
     "text": [
      "\n",
      "\n",
      "\u001b[33m╔═════ QP SOLVER NOTICE ════════════════════════════════════════════════════════════════════════╗\n",
      "\u001b[0m\u001b[33m║  PyGRANSO requires a quadratic program (QP) solver that has a quadprog-compatible interface,  ║\n",
      "\u001b[0m\u001b[33m║  the default is osqp. Users may provide their own wrapper for the QP solver.                  ║\n",
      "\u001b[0m\u001b[33m║  To disable this notice, set opts.quadprog_info_msg = False                                   ║\n",
      "\u001b[0m\u001b[33m╚═══════════════════════════════════════════════════════════════════════════════════════════════╝\n",
      "\u001b[0m═════════════════════════════════════════════════════════════════════════════════════════════════════════════════╗\n",
      "PyGRANSO: Python numerical package using GRadient-based Algorithm for Non-Smooth Optimization                    ║ \n",
      "Version 1.1.0                                                                                                    ║ \n",
      "MIT License Copyright (c) 2021 SUN Group @ UMN                                                                   ║ \n",
      "═════════════════════════════════════════════════════════════════════════════════════════════════════════════════╣\n",
      "Problem specifications:                                                                                          ║ \n",
      " # of variables                     :   200                                                                      ║ \n",
      " # of inequality constraints        :     1                                                                      ║ \n",
      " # of equality constraints          :     0                                                                      ║ \n",
      "═════════════════════════════════════════════════════════════════════════════════════════════════════════════════╣\n",
      "\u001b[33mLimited-memory mode enabled with size = 40.                                                                     \u001b[0m ║ \n",
      "\u001b[33mNOTE: limited-memory mode is generally NOT                                                                      \u001b[0m ║ \n",
      "\u001b[33mrecommended for nonsmooth problems.                                                                             \u001b[0m ║ \n",
      "═════╦═══════════════════════════╦════════════════╦═════════════════╦═══════════════════════╦════════════════════╣\n",
      "     ║ <--- Penalty Function --> ║                ║ Total Violation ║ <--- Line Search ---> ║ <- Stationarity -> ║ \n",
      "Iter ║    Mu    │      Value     ║    Objective   ║   Ineq   │  Eq  ║ SD │ Evals │     t    ║ Grads │    Value   ║ \n",
      "═════╬═══════════════════════════╬════════════════╬═════════════════╬═══════════════════════╬════════════════════╣\n",
      "   0 ║ 1.000000 │  16.2063030241 ║  13.7635444107 ║ 2.442759 │   -  ║ -  │     1 │ 0.000000 ║     1 │ 28.28938   ║ \n",
      "  10 ║ 1.000000 │  14.3591621233 ║  12.9268286638 ║ 1.432333 │   -  ║ S  │     1 │ 1.000000 ║     1 │ 0.035476   ║ \n",
      "  20 ║ 1.000000 │  13.7108137724 ║  12.6560780039 ║ 1.054736 │   -  ║ S  │     2 │ 0.500000 ║     1 │ 0.039916   ║ \n",
      "  30 ║ 1.000000 │  12.9780711910 ║  12.2692695044 ║ 0.708802 │   -  ║ S  │     5 │ 0.062500 ║     1 │ 0.044759   ║ \n",
      "  40 ║ 1.000000 │  12.7160199058 ║  12.0996533504 ║ 0.616367 │   -  ║ S  │     4 │ 0.125000 ║     1 │ 0.024270   ║ \n",
      "  50 ║ 1.000000 │  12.4443292367 ║  11.9157682655 ║ 0.528561 │   -  ║ S  │     6 │ 0.031250 ║     1 │ 0.085035   ║ \n",
      "  60 ║ 0.656100 │  8.15167903486 ║  11.9397635494 ║ 0.318000 │   -  ║ S  │     4 │ 0.125000 ║     1 │ 0.030656   ║ \n",
      "  70 ║ 0.656100 │  8.01111635961 ║  11.8086375514 ║ 0.263469 │   -  ║ S  │     4 │ 0.125000 ║     1 │ 0.061949   ║ \n",
      "  80 ║ 0.348678 │  4.30569381726 ║  11.8446682346 ║ 0.175713 │   -  ║ S  │     5 │ 0.062500 ║     1 │ 1.089313   ║ \n",
      "  90 ║ 0.185302 │  2.32732233970 ║  11.8130749547 ║ 0.138336 │   -  ║ S  │     3 │ 0.250000 ║     1 │ 0.027386   ║ \n",
      " 100 ║ 0.121577 │  1.52554830081 ║  11.7686829312 ║ 0.094751 │   -  ║ S  │    13 │ 2.44e-04 ║     1 │ 4.376775   ║ \n",
      " 110 ║ 0.121577 │  1.50005219665 ║  11.7340639046 ║ 0.073464 │   -  ║ S  │     8 │ 0.007812 ║     1 │ 0.120942   ║ \n",
      " 120 ║ 0.121577 │  1.47689594144 ║  11.7788919730 ║ 0.044858 │   -  ║ S  │     7 │ 0.015625 ║     1 │ 14.59282   ║ \n",
      " 130 ║ 0.121577 │  1.45900994502 ║  11.7499506978 ║ 0.030490 │   -  ║ S  │     6 │ 0.031250 ║     1 │ 0.074002   ║ \n",
      " 140 ║ 0.121577 │  1.42320547727 ║  11.7024732155 ║ 4.58e-04 │   -  ║ S  │    15 │ 0.004211 ║     1 │ 0.114300   ║ \n",
      " 150 ║ 0.064611 │  0.75449175855 ║  11.6720787481 ║ 3.49e-04 │   -  ║ S  │    15 │ 3.05e-04 ║     1 │ 6.262396   ║ \n",
      " 160 ║ 0.064611 │  0.75296417793 ║  11.6538404998 ║ 0.000000 │   -  ║ S  │     8 │ 0.007812 ║     1 │ 0.230436   ║ \n",
      " 170 ║ 0.064611 │  0.75180969410 ║  11.6359722255 ║ 0.000000 │   -  ║ S  │     4 │ 0.125000 ║     1 │ 0.019451   ║ \n",
      " 180 ║ 0.064611 │  0.75117768823 ║  11.6217697670 ║ 2.86e-04 │   -  ║ S  │     4 │ 0.125000 ║     1 │ 0.011475   ║ \n",
      " 190 ║ 0.038152 │  0.44311376441 ║  11.6144178916 ║ 0.000000 │   -  ║ S  │    11 │ 0.002930 ║     1 │ 0.037283   ║ \n",
      "═════╬═══════════════════════════╬════════════════╬═════════════════╬═══════════════════════╬════════════════════╣\n",
      "     ║ <--- Penalty Function --> ║                ║ Total Violation ║ <--- Line Search ---> ║ <- Stationarity -> ║ \n",
      "Iter ║    Mu    │      Value     ║    Objective   ║   Ineq   │  Eq  ║ SD │ Evals │     t    ║ Grads │    Value   ║ \n",
      "═════╬═══════════════════════════╬════════════════╬═════════════════╬═══════════════════════╬════════════════════╣\n",
      " 200 ║ 0.013303 │  0.15443102503 ║  11.6084044774 ║ 6.80e-06 │   -  ║ S  │    14 │ 0.006714 ║     1 │ 0.014708   ║ \n",
      "═════╩═══════════════════════════╩════════════════╩═════════════════╩═══════════════════════╩════════════════════╣\n",
      "Optimization results:                                                                                            ║ \n",
      "F = final iterate, B = Best (to tolerance), MF = Most Feasible                                                   ║ \n",
      "═════╦═══════════════════════════╦════════════════╦═════════════════╦═══════════════════════╦════════════════════╣\n",
      "   F ║          │                ║  11.6084044774 ║ 6.80e-06 │   -  ║    │       │          ║       │            ║ \n",
      "   B ║          │                ║  11.6084224775 ║ 0.000000 │   -  ║    │       │          ║       │            ║ \n",
      "  MF ║          │                ║  11.6084224775 ║ 0.000000 │   -  ║    │       │          ║       │            ║ \n",
      "═════╩═══════════════════════════╩════════════════╩═════════════════╩═══════════════════════╩════════════════════╣\n",
      "Iterations:              200                                                                                     ║ \n",
      "Function evaluations:    1515                                                                                    ║ \n",
      "PyGRANSO termination code: 4 --- max iterations reached.                                                         ║ \n",
      "═════════════════════════════════════════════════════════════════════════════════════════════════════════════════╝\n",
      "Total Wall Time: 120.34971356391907s\n"
     ]
    }
   ],
   "source": [
    "opts = Options()\n",
    "opts.maxit = 200\n",
    "opts.x0 = torch.zeros(p*m,1).to(device=device, dtype=torch.double)\n",
    "# print for every 10 iterations. default: 1\n",
    "opts.print_frequency = 10\n",
    "\n",
    "# Limited-memory mode is generally not recommended for nonsmooth\n",
    "# problems, such as this one, but it can nonetheless enabled if\n",
    "# desired/necessary.  opts.limited_mem_size == 0 is off, that is, \n",
    "# limited-memory mode is disabled.\n",
    "# Note that this example has 200 variables.\n",
    "opts.limited_mem_size = 40\n",
    "\n",
    "start = time.time()\n",
    "soln = pygranso(combinedFunction = comb_fn, objEvalFunction = obj_eval_fn,var_dim_map = var_in, torch_device = device, user_opts = opts)\n",
    "end = time.time()\n",
    "print(\"Total Wall Time: {}s\".format(end - start))"
   ]
  },
  {
   "cell_type": "code",
   "execution_count": 9,
   "id": "8dff3916",
   "metadata": {},
   "outputs": [],
   "source": [
    "# We can also tune PyGRANSO to more aggressively favor satisfying\n",
    "# feasibility over minimizing the objective.  Set feasibility_bias to\n",
    "# true to adjust the following three steering parameters away from\n",
    "# their default values.  For more details on these parameters, type\n",
    "# import pygransoOptionsAdvanced\n",
    "# help(pygransoOptionsAdvanced)\n",
    "import numpy as np\n",
    "opts = Options()\n",
    "feasibility_bias = True\n",
    "if feasibility_bias:\n",
    "    opts.steering_ineq_margin = np.inf    # default is 1e-6\n",
    "    opts.steering_c_viol = 0.9         # default is 0.1\n",
    "    opts.steering_c_mu = 0.1           # default is 0.9\n"
   ]
  },
  {
   "cell_type": "code",
   "execution_count": 10,
   "id": "3fb2e962",
   "metadata": {},
   "outputs": [
    {
     "name": "stdout",
     "output_type": "stream",
     "text": [
      "\n",
      "\n",
      "\u001b[33m╔═════ QP SOLVER NOTICE ════════════════════════════════════════════════════════════════════════╗\n",
      "\u001b[0m\u001b[33m║  PyGRANSO requires a quadratic program (QP) solver that has a quadprog-compatible interface,  ║\n",
      "\u001b[0m\u001b[33m║  the default is osqp. Users may provide their own wrapper for the QP solver.                  ║\n",
      "\u001b[0m\u001b[33m║  To disable this notice, set opts.quadprog_info_msg = False                                   ║\n",
      "\u001b[0m\u001b[33m╚═══════════════════════════════════════════════════════════════════════════════════════════════╝\n",
      "\u001b[0m═════════════════════════════════════════════════════════════════════════════════════════════════════════════════╗\n",
      "PyGRANSO: Python numerical package using GRadient-based Algorithm for Non-Smooth Optimization                    ║ \n",
      "Version 1.1.0                                                                                                    ║ \n",
      "MIT License Copyright (c) 2021 SUN Group @ UMN                                                                   ║ \n",
      "═════════════════════════════════════════════════════════════════════════════════════════════════════════════════╣\n",
      "Problem specifications:                                                                                          ║ \n",
      " # of variables                     :   200                                                                      ║ \n",
      " # of inequality constraints        :     1                                                                      ║ \n",
      " # of equality constraints          :     0                                                                      ║ \n",
      "═════╦═══════════════════════════╦════════════════╦═════════════════╦═══════════════════════╦════════════════════╣\n",
      "     ║ <--- Penalty Function --> ║                ║ Total Violation ║ <--- Line Search ---> ║ <- Stationarity -> ║ \n",
      "Iter ║    Mu    │      Value     ║    Objective   ║   Ineq   │  Eq  ║ SD │ Evals │     t    ║ Grads │    Value   ║ \n",
      "═════╬═══════════════════════════╬════════════════╬═════════════════╬═══════════════════════╬════════════════════╣\n",
      "   0 ║ 1.000000 │  16.2063030241 ║  13.7635444107 ║ 2.442759 │   -  ║ -  │     1 │ 0.000000 ║     1 │ 28.28938   ║ \n",
      "  10 ║ 0.100000 │  2.59802946760 ║  13.5350279096 ║ 1.244527 │   -  ║ S  │     4 │ 0.125000 ║     1 │ 0.021953   ║ \n",
      "  20 ║ 0.100000 │  2.19206992214 ║  13.1633300318 ║ 0.875737 │   -  ║ S  │     3 │ 0.250000 ║     1 │ 0.022714   ║ \n",
      "  30 ║ 0.100000 │  1.78022218437 ║  13.1123257659 ║ 0.468990 │   -  ║ S  │     8 │ 0.039062 ║     1 │ 0.002266   ║ \n",
      "  40 ║ 0.100000 │  1.62760111526 ║  13.0064275307 ║ 0.326958 │   -  ║ S  │     3 │ 0.250000 ║     1 │ 0.009626   ║ \n",
      "  50 ║ 0.100000 │  1.36861864889 ║  12.9968510787 ║ 0.068934 │   -  ║ S  │     1 │ 1.000000 ║     1 │ 0.006985   ║ \n",
      "  60 ║ 0.100000 │  1.27342223176 ║  12.7342223176 ║ 0.000000 │   -  ║ S  │     4 │ 0.125000 ║     1 │ 0.002375   ║ \n",
      "  70 ║ 0.010000 │  0.12640600799 ║  12.6406007991 ║ 0.000000 │   -  ║ S  │     1 │ 1.000000 ║     1 │ 0.001509   ║ \n",
      "  80 ║ 0.010000 │  0.12467609278 ║  12.4676092785 ║ 0.000000 │   -  ║ S  │     7 │ 0.015625 ║     1 │ 0.002836   ║ \n",
      "  90 ║ 0.010000 │  0.12317757357 ║  12.3177573572 ║ 0.000000 │   -  ║ S  │     1 │ 1.000000 ║     1 │ 0.001483   ║ \n",
      " 100 ║ 1.00e-06 │  1.2235905e-05 ║  12.2359048221 ║ 0.000000 │   -  ║ S  │    12 │ 320.0000 ║     1 │ 3.89e-07   ║ \n",
      " 110 ║ 1.00e-07 │  1.2229881e-06 ║  12.2298809846 ║ 0.000000 │   -  ║ S  │     4 │ 8.000000 ║     1 │ 5.73e-07   ║ \n",
      " 120 ║ 1.00e-07 │  1.2228964e-06 ║  12.2289644426 ║ 0.000000 │   -  ║ S  │     2 │ 2.000000 ║     1 │ 2.87e-08   ║ \n",
      " 130 ║ 1.00e-07 │  1.2220465e-06 ║  12.2204653607 ║ 0.000000 │   -  ║ S  │     2 │ 0.500000 ║     1 │ 1.14e-05   ║ \n",
      " 140 ║ 1.00e-07 │  1.2218157e-06 ║  12.2181566141 ║ 0.000000 │   -  ║ S  │     1 │ 1.000000 ║     1 │ 3.82e-05   ║ \n",
      " 150 ║ 1.00e-07 │  1.2217853e-06 ║  12.2178526662 ║ 0.000000 │   -  ║ S  │     1 │ 1.000000 ║     1 │ 1.76e-06   ║ \n",
      " 160 ║ 1.00e-07 │  1.2217322e-06 ║  12.2173219832 ║ 0.000000 │   -  ║ S  │     2 │ 2.000000 ║     1 │ 1.30e-06   ║ \n",
      " 170 ║ 1.00e-07 │  1.2216997e-06 ║  12.2169966324 ║ 0.000000 │   -  ║ S  │     2 │ 2.000000 ║     1 │ 6.23e-08   ║ \n",
      " 180 ║ 1.00e-07 │  1.2213871e-06 ║  12.2138710337 ║ 0.000000 │   -  ║ S  │     4 │ 3.000000 ║     1 │ 0.001113   ║ \n",
      " 190 ║ 1.00e-07 │  1.2212788e-06 ║  12.2127884958 ║ 0.000000 │   -  ║ S  │     1 │ 1.000000 ║     1 │ 2.03e-05   ║ \n",
      "═════╬═══════════════════════════╬════════════════╬═════════════════╬═══════════════════════╬════════════════════╣\n",
      "     ║ <--- Penalty Function --> ║                ║ Total Violation ║ <--- Line Search ---> ║ <- Stationarity -> ║ \n",
      "Iter ║    Mu    │      Value     ║    Objective   ║   Ineq   │  Eq  ║ SD │ Evals │     t    ║ Grads │    Value   ║ \n",
      "═════╬═══════════════════════════╬════════════════╬═════════════════╬═══════════════════════╬════════════════════╣\n",
      " 200 ║ 1.00e-07 │  1.2212543e-06 ║  12.2125428715 ║ 0.000000 │   -  ║ S  │     1 │ 1.000000 ║     1 │ 1.18e-07   ║ \n",
      "═════╩═══════════════════════════╩════════════════╩═════════════════╩═══════════════════════╩════════════════════╣\n",
      "Optimization results:                                                                                            ║ \n",
      "F = final iterate, B = Best (to tolerance), MF = Most Feasible                                                   ║ \n",
      "═════╦═══════════════════════════╦════════════════╦═════════════════╦═══════════════════════╦════════════════════╣\n",
      "   F ║          │                ║  12.2125428715 ║ 0.000000 │   -  ║    │       │          ║       │            ║ \n",
      "   B ║          │                ║  12.2125413288 ║ 4.77e-13 │   -  ║    │       │          ║       │            ║ \n",
      "  MF ║          │                ║  12.2125428715 ║ 0.000000 │   -  ║    │       │          ║       │            ║ \n",
      "═════╩═══════════════════════════╩════════════════╩═════════════════╩═══════════════════════╩════════════════════╣\n",
      "Iterations:              200                                                                                     ║ \n",
      "Function evaluations:    731                                                                                     ║ \n",
      "PyGRANSO termination code: 4 --- max iterations reached.                                                         ║ \n",
      "═════════════════════════════════════════════════════════════════════════════════════════════════════════════════╝\n",
      "Total Wall Time: 50.7586395740509s\n"
     ]
    }
   ],
   "source": [
    "opts.maxit = 200\n",
    "opts.x0 = torch.zeros(p*m,1).to(device=device, dtype=torch.double)\n",
    "# print for every 10 iterations. default: 1\n",
    "opts.print_frequency = 10\n",
    "\n",
    "start = time.time()\n",
    "soln = pygranso(combinedFunction = comb_fn, objEvalFunction = obj_eval_fn,var_dim_map = var_in, torch_device = device, user_opts = opts)\n",
    "end = time.time()\n",
    "print(\"Total Wall Time: {}s\".format(end - start))"
   ]
  },
  {
   "cell_type": "markdown",
   "id": "c1abe9e7",
   "metadata": {},
   "source": [
    "In my testing, with default parameters, PyGRANSO will first obtain a\n",
    "feasible solution at iter ~= 160 and will reduce the objective to\n",
    "11.60 by the time it attains max iteration count of 200.\n",
    "\n",
    "With feasibility_bias = True, in my testing, PyGRANSO will obtain its\n",
    "first feasible solution earlier, at iter ~= 60, but it will ultimately\n",
    "have reduced the objective value less, only to 12.21, by the end of\n",
    "its 200 maximum allowed iterations."
   ]
  }
 ],
 "metadata": {
  "kernelspec": {
   "display_name": "Python 3 (ipykernel)",
   "language": "python",
   "name": "python3"
  },
  "language_info": {
   "codemirror_mode": {
    "name": "ipython",
    "version": 3
   },
   "file_extension": ".py",
   "mimetype": "text/x-python",
   "name": "python",
   "nbconvert_exporter": "python",
   "pygments_lexer": "ipython3",
   "version": "3.9.7"
  }
 },
 "nbformat": 4,
 "nbformat_minor": 5
}
